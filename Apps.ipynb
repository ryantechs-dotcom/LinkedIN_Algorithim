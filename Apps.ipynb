{
 "cells": [
  {
   "cell_type": "code",
   "execution_count": 1,
   "id": "e8c43ae5",
   "metadata": {
    "execution": {
     "iopub.execute_input": "2025-05-08T20:26:42.540849Z",
     "iopub.status.busy": "2025-05-08T20:26:42.540458Z",
     "iopub.status.idle": "2025-05-08T20:27:32.369324Z",
     "shell.execute_reply": "2025-05-08T20:27:32.368539Z",
     "shell.execute_reply.started": "2025-05-08T20:26:42.540812Z"
    },
    "tags": []
   },
   "outputs": [
    {
     "data": {
      "application/vnd.jupyter.widget-view+json": {
       "model_id": "00bafad3f855470984f132895e1735c5",
       "version_major": 2,
       "version_minor": 0
      },
      "text/plain": [
       "VBox()"
      ]
     },
     "metadata": {},
     "output_type": "display_data"
    },
    {
     "name": "stdout",
     "output_type": "stream",
     "text": [
      "Starting Spark application\n"
     ]
    },
    {
     "data": {
      "text/html": [
       "<table>\n<tbody><tr><th>ID</th><th>YARN Application ID</th><th>Kind</th><th>State</th><th>Spark UI</th><th>Driver log</th><th>User</th><th>Current session?</th></tr><tr><td>0</td><td>application_1746735684298_0001</td><td>pyspark</td><td>idle</td><td><a target=\"_blank\" href=\"http://ip-172-31-47-116.ec2.internal:20888/proxy/application_1746735684298_0001/\" class=\"emr-proxy-link j-UYHPOVEAAF01 application_1746735684298_0001\" emr-resource=\"j-UYHPOVEAAF01\n\" application-id=\"application_1746735684298_0001\">Link</a></td><td><a target=\"_blank\" href=\"http://ip-172-31-47-41.ec2.internal:8042/node/containerlogs/container_1746735684298_0001_01_000001/livy\">Link</a></td><td>None</td><td>✔</td></tr></tbody></table>"
      ],
      "text/plain": [
       "<IPython.core.display.HTML object>"
      ]
     },
     "metadata": {},
     "output_type": "display_data"
    },
    {
     "data": {
      "application/vnd.jupyter.widget-view+json": {
       "model_id": "",
       "version_major": 2,
       "version_minor": 0
      },
      "text/plain": [
       "FloatProgress(value=0.0, bar_style='info', description='Progress:', layout=Layout(height='25px', width='50%'),…"
      ]
     },
     "metadata": {},
     "output_type": "display_data"
    },
    {
     "name": "stdout",
     "output_type": "stream",
     "text": [
      "SparkSession available as 'spark'.\n"
     ]
    },
    {
     "data": {
      "application/vnd.jupyter.widget-view+json": {
       "model_id": "",
       "version_major": 2,
       "version_minor": 0
      },
      "text/plain": [
       "FloatProgress(value=0.0, bar_style='info', description='Progress:', layout=Layout(height='25px', width='50%'),…"
      ]
     },
     "metadata": {},
     "output_type": "display_data"
    }
   ],
   "source": [
    "from pyspark.sql import SparkSession\n",
    "from pyspark.sql.functions import col, concat_ws, split"
   ]
  },
  {
   "cell_type": "code",
   "execution_count": 2,
   "id": "cfeba087",
   "metadata": {
    "execution": {
     "iopub.execute_input": "2025-05-08T20:27:32.371085Z",
     "iopub.status.busy": "2025-05-08T20:27:32.370842Z",
     "iopub.status.idle": "2025-05-08T20:27:32.439411Z",
     "shell.execute_reply": "2025-05-08T20:27:32.438580Z",
     "shell.execute_reply.started": "2025-05-08T20:27:32.371050Z"
    },
    "tags": []
   },
   "outputs": [
    {
     "data": {
      "application/vnd.jupyter.widget-view+json": {
       "model_id": "52ef2f9eb12842909b1190c26f0828ba",
       "version_major": 2,
       "version_minor": 0
      },
      "text/plain": [
       "VBox()"
      ]
     },
     "metadata": {},
     "output_type": "display_data"
    },
    {
     "data": {
      "application/vnd.jupyter.widget-view+json": {
       "model_id": "",
       "version_major": 2,
       "version_minor": 0
      },
      "text/plain": [
       "FloatProgress(value=0.0, bar_style='info', description='Progress:', layout=Layout(height='25px', width='50%'),…"
      ]
     },
     "metadata": {},
     "output_type": "display_data"
    }
   ],
   "source": [
    "# Initialize SparkSession (EMR already has Spark running)\n",
    "spark = SparkSession.builder.appName(\"JoinJobWindows\").getOrCreate()"
   ]
  },
  {
   "cell_type": "code",
   "execution_count": 3,
   "id": "2f6bbe36",
   "metadata": {
    "execution": {
     "iopub.execute_input": "2025-05-08T20:27:32.441782Z",
     "iopub.status.busy": "2025-05-08T20:27:32.441194Z",
     "iopub.status.idle": "2025-05-08T20:27:32.528499Z",
     "shell.execute_reply": "2025-05-08T20:27:32.527760Z",
     "shell.execute_reply.started": "2025-05-08T20:27:32.441747Z"
    },
    "tags": []
   },
   "outputs": [
    {
     "data": {
      "application/vnd.jupyter.widget-view+json": {
       "model_id": "9a4a5992e6844421828cdaea77528694",
       "version_major": 2,
       "version_minor": 0
      },
      "text/plain": [
       "VBox()"
      ]
     },
     "metadata": {},
     "output_type": "display_data"
    },
    {
     "data": {
      "application/vnd.jupyter.widget-view+json": {
       "model_id": "",
       "version_major": 2,
       "version_minor": 0
      },
      "text/plain": [
       "FloatProgress(value=0.0, bar_style='info', description='Progress:', layout=Layout(height='25px', width='50%'),…"
      ]
     },
     "metadata": {},
     "output_type": "display_data"
    }
   ],
   "source": [
    "jobs_base_path = \"s3://aws-emr-studio-201107706822-us-east-1/1746053900403/e-6HYCE3WANA8IROUS7NBVDSOU4/jobs_csv/\""
   ]
  },
  {
   "cell_type": "code",
   "execution_count": 5,
   "id": "c759681d-9cc9-4daf-a0a6-db83ae982a1a",
   "metadata": {
    "execution": {
     "iopub.execute_input": "2025-05-08T20:27:52.828881Z",
     "iopub.status.busy": "2025-05-08T20:27:52.828654Z",
     "iopub.status.idle": "2025-05-08T20:27:56.148277Z",
     "shell.execute_reply": "2025-05-08T20:27:56.147521Z",
     "shell.execute_reply.started": "2025-05-08T20:27:52.828857Z"
    },
    "tags": []
   },
   "outputs": [
    {
     "data": {
      "application/vnd.jupyter.widget-view+json": {
       "model_id": "b275469612fe4f3fb3afbdd310a3c342",
       "version_major": 2,
       "version_minor": 0
      },
      "text/plain": [
       "VBox()"
      ]
     },
     "metadata": {},
     "output_type": "display_data"
    },
    {
     "data": {
      "application/vnd.jupyter.widget-view+json": {
       "model_id": "",
       "version_major": 2,
       "version_minor": 0
      },
      "text/plain": [
       "FloatProgress(value=0.0, bar_style='info', description='Progress:', layout=Layout(height='25px', width='50%'),…"
      ]
     },
     "metadata": {},
     "output_type": "display_data"
    },
    {
     "name": "stdout",
     "output_type": "stream",
     "text": [
      "+------+--------+-----+--------------------+-------+\n",
      "|UserID|WindowID|Split|     ApplicationDate|  JobID|\n",
      "+------+--------+-----+--------------------+-------+\n",
      "|    47|       1|Train|2012-04-04 15:56:...| 169528|\n",
      "|    47|       1|Train|2012-04-06 01:03:...| 284009|\n",
      "|    47|       1|Train|2012-04-05 02:40:...|   2121|\n",
      "|    47|       1|Train|2012-04-05 02:37:...| 848187|\n",
      "|    47|       1|Train|2012-04-05 22:44:...| 733748|\n",
      "|    47|       1|Train|2012-04-05 02:34:...| 576958|\n",
      "|    47|       1|Train|2012-04-05 22:55:...| 262470|\n",
      "|    47|       1|Train|2012-04-05 02:38:...| 602298|\n",
      "|    72|       1|Train|2012-04-02 22:36:...| 834662|\n",
      "|    72|       1|Train|2012-04-07 15:19:...|1020903|\n",
      "|    72|       1|Train|2012-04-07 17:38:...| 180313|\n",
      "|    72|       1|Train|2012-04-30 20:05:...| 480634|\n",
      "|    72|       1|Train|2012-04-20 02:51:...| 564184|\n",
      "|    80|       1|Train|2012-04-04 10:53:...| 908909|\n",
      "|   123|       1|Train|2012-04-02 20:57:...|1080147|\n",
      "|   123|       1|Train|2012-04-02 21:03:...|1080148|\n",
      "|   131|       1|Train|2012-04-02 14:06:...| 688863|\n",
      "|   131|       1|Train|2012-04-05 15:08:...|1092900|\n",
      "|   131|       1|Train|2012-04-05 17:09:...|  50183|\n",
      "|   162|       1|Train|2012-04-06 14:25:...|  69667|\n",
      "+------+--------+-----+--------------------+-------+\n",
      "only showing top 20 rows"
     ]
    }
   ],
   "source": [
    "apps_df = spark.read.option(\"header\", True).option(\"sep\", \"\\t\").csv(\"s3://aws-emr-studio-201107706822-us-east-1/1746053900403/e-6HYCE3WANA8IROUS7NBVDSOU4/apps.tsv\")\n",
    "apps_df.show()"
   ]
  },
  {
   "cell_type": "code",
   "execution_count": 76,
   "id": "b14f7828-abce-40b8-8eb5-4704518556b0",
   "metadata": {
    "execution": {
     "iopub.execute_input": "2025-05-08T20:59:09.193980Z",
     "iopub.status.busy": "2025-05-08T20:59:09.193750Z",
     "iopub.status.idle": "2025-05-08T20:59:10.456638Z",
     "shell.execute_reply": "2025-05-08T20:59:10.455908Z",
     "shell.execute_reply.started": "2025-05-08T20:59:09.193956Z"
    },
    "tags": []
   },
   "outputs": [
    {
     "data": {
      "application/vnd.jupyter.widget-view+json": {
       "model_id": "4dfae0499b934a35a8319663c9c92572",
       "version_major": 2,
       "version_minor": 0
      },
      "text/plain": [
       "VBox()"
      ]
     },
     "metadata": {},
     "output_type": "display_data"
    },
    {
     "data": {
      "application/vnd.jupyter.widget-view+json": {
       "model_id": "",
       "version_major": 2,
       "version_minor": 0
      },
      "text/plain": [
       "FloatProgress(value=0.0, bar_style='info', description='Progress:', layout=Layout(height='25px', width='50%'),…"
      ]
     },
     "metadata": {},
     "output_type": "display_data"
    },
    {
     "name": "stdout",
     "output_type": "stream",
     "text": [
      "+-----+--------+--------------------+\n",
      "|JobID|WindowID|          job_vector|\n",
      "+-----+--------+--------------------+\n",
      "|    6|       6|[0.07758777074199...|\n",
      "|  177|       6|[0.07699037495889...|\n",
      "|  179|       6|[-0.0493208222126...|\n",
      "|  181|       6|[-0.1097340371105...|\n",
      "|  184|       6|[-0.0565329056169...|\n",
      "|  188|       6|[-0.1017359794081...|\n",
      "|  190|       6|[0.08878653105865...|\n",
      "|  192|       6|[-0.0108238010137...|\n",
      "|  195|       6|[-0.0543442409005...|\n",
      "|  196|       6|[-0.0235997953059...|\n",
      "|  199|       6|[-0.0645179383553...|\n",
      "|  202|       6|[-0.0752751027621...|\n",
      "|  204|       6|[-0.0655673609137...|\n",
      "|  205|       6|[0.10172618960496...|\n",
      "|  206|       6|[-0.0871820227528...|\n",
      "|  207|       6|[0.01857558905896...|\n",
      "|  208|       6|[-0.0763380943265...|\n",
      "|  209|       6|[-0.0477366117294...|\n",
      "|  210|       6|[-0.1486951116099...|\n",
      "|  211|       6|[-0.0112544465144...|\n",
      "+-----+--------+--------------------+\n",
      "only showing top 20 rows"
     ]
    }
   ],
   "source": [
    "jobs_df = spark.read.parquet(\"s3://aws-emr-studio-201107706822-us-east-1/1746053900403/e-6HYCE3WANA8IROUS7NBVDSOU4/processed/windows/window=6/\")\n",
    "jobs_df.show()"
   ]
  },
  {
   "cell_type": "code",
   "execution_count": null,
   "id": "698bbffa-2d5a-4967-b830-bad5e60739f7",
   "metadata": {},
   "outputs": [
    {
     "data": {
      "application/vnd.jupyter.widget-view+json": {
       "model_id": "",
       "version_major": 2,
       "version_minor": 0
      },
      "text/plain": [
       "VBox()"
      ]
     },
     "metadata": {},
     "output_type": "display_data"
    },
    {
     "data": {
      "application/vnd.jupyter.widget-view+json": {
       "model_id": "",
       "version_major": 2,
       "version_minor": 0
      },
      "text/plain": [
       "FloatProgress(value=0.0, bar_style='info', description='Progress:', layout=Layout(height='25px', width='50%'),…"
      ]
     },
     "metadata": {},
     "output_type": "display_data"
    },
    {
     "name": "stdout",
     "output_type": "stream",
     "text": [
      "+-------+----------------+--------------------+-----------------------+\n",
      "| UserID|WorkHistoryCount|TotalYearsExperience|user_job_history_vector|\n",
      "+-------+----------------+--------------------+-----------------------+\n",
      "|1000007|             2.0|                22.0|   [-0.2805269956588...|\n",
      "|1000035|             4.0|                23.0|   [-0.1231939980760...|\n",
      "| 100041|            10.0|                31.0|   [-0.2606319818684...|\n",
      "|1000500|             1.0|                 4.0|   [-0.1294221282005...|\n",
      "|1000667|             5.0|                 3.0|   [-0.2170679772065...|\n",
      "|1000699|             4.0|                10.0|   [0.35642027224821...|\n",
      "|1000727|             5.0|                13.0|   [0.16743990809191...|\n",
      "| 100076|             3.0|                13.0|   [-0.4168024808168...|\n",
      "|1000815|             3.0|                16.0|   [-0.1244153482257...|\n",
      "|1000842|             3.0|                15.0|   [-0.1750507194859...|\n",
      "| 100088|             4.0|                22.0|   [-0.3359134579077...|\n",
      "|1000971|             2.0|                 4.0|   [-0.1952140554785...|\n",
      "| 100121|             3.0|                 5.0|   [0.01944948712156...|\n",
      "|1001392|             3.0|                12.0|   [-0.2790345559672...|\n",
      "| 100151|             3.0|                 3.0|   [0.08802727361520...|\n",
      "|1001572|             4.0|                25.0|   [0.25711051964511...|\n",
      "|1001654|             7.0|                36.0|   [-0.0992974993918...|\n",
      "|1001683|             3.0|                 5.0|   [-0.3579358930389...|\n",
      "|1001835|             9.0|                30.0|   [-0.2498637349123...|\n",
      "|1001950|             7.0|                16.0|   [-0.1203610343647...|\n",
      "+-------+----------------+--------------------+-----------------------+\n",
      "only showing top 20 rows"
     ]
    }
   ],
   "source": [
    "user_df = spark.read.parquet(\"s3://aws-emr-studio-201107706822-us-east-1/1746053900403/e-6HYCE3WANA8IROUS7NBVDSOU4/processed/final_user_data/\")\n",
    "user_df.show()"
   ]
  },
  {
   "cell_type": "code",
   "execution_count": 7,
   "id": "3e15ae8f-1731-4dba-a30b-a530e669922c",
   "metadata": {
    "execution": {
     "iopub.execute_input": "2025-05-08T20:28:16.899274Z",
     "iopub.status.busy": "2025-05-08T20:28:16.899044Z",
     "iopub.status.idle": "2025-05-08T20:28:16.950150Z",
     "shell.execute_reply": "2025-05-08T20:28:16.949537Z",
     "shell.execute_reply.started": "2025-05-08T20:28:16.899249Z"
    },
    "tags": []
   },
   "outputs": [
    {
     "data": {
      "application/vnd.jupyter.widget-view+json": {
       "model_id": "040cd1e4a1774f9f852fe3f80a6bfeff",
       "version_major": 2,
       "version_minor": 0
      },
      "text/plain": [
       "VBox()"
      ]
     },
     "metadata": {},
     "output_type": "display_data"
    },
    {
     "data": {
      "application/vnd.jupyter.widget-view+json": {
       "model_id": "",
       "version_major": 2,
       "version_minor": 0
      },
      "text/plain": [
       "FloatProgress(value=0.0, bar_style='info', description='Progress:', layout=Layout(height='25px', width='50%'),…"
      ]
     },
     "metadata": {},
     "output_type": "display_data"
    }
   ],
   "source": [
    "apps_df = apps_df.drop(\"split\", \"application_date\")"
   ]
  },
  {
   "cell_type": "code",
   "execution_count": 77,
   "id": "227a8daf-11f9-4246-b6f4-b25cd1391ffe",
   "metadata": {
    "execution": {
     "iopub.execute_input": "2025-05-08T20:59:16.511317Z",
     "iopub.status.busy": "2025-05-08T20:59:16.511085Z",
     "iopub.status.idle": "2025-05-08T20:59:18.780294Z",
     "shell.execute_reply": "2025-05-08T20:59:18.779514Z",
     "shell.execute_reply.started": "2025-05-08T20:59:16.511292Z"
    },
    "tags": []
   },
   "outputs": [
    {
     "data": {
      "application/vnd.jupyter.widget-view+json": {
       "model_id": "d9350c67983b4a1bb500a1dc8da57e0d",
       "version_major": 2,
       "version_minor": 0
      },
      "text/plain": [
       "VBox()"
      ]
     },
     "metadata": {},
     "output_type": "display_data"
    },
    {
     "data": {
      "application/vnd.jupyter.widget-view+json": {
       "model_id": "",
       "version_major": 2,
       "version_minor": 0
      },
      "text/plain": [
       "FloatProgress(value=0.0, bar_style='info', description='Progress:', layout=Layout(height='25px', width='50%'),…"
      ]
     },
     "metadata": {},
     "output_type": "display_data"
    },
    {
     "name": "stdout",
     "output_type": "stream",
     "text": [
      "+------+--------+--------------------+-------+\n",
      "|UserID|WindowID|     ApplicationDate|  JobID|\n",
      "+------+--------+--------------------+-------+\n",
      "|    13|       6|2012-06-19 15:36:...| 821691|\n",
      "|    18|       6|2012-06-06 08:38:...| 828603|\n",
      "|    18|       6|2012-06-06 08:41:...| 187311|\n",
      "|    18|       6|2012-06-06 08:21:...| 787477|\n",
      "|    64|       6|2012-06-06 14:32:...| 666073|\n",
      "|    64|       6|2012-06-06 14:18:...| 281940|\n",
      "|    64|       6|2012-06-06 14:40:...| 337025|\n",
      "|   101|       6|2012-06-06 11:47:...| 949251|\n",
      "|   133|       6|2012-06-05 11:33:...|  17494|\n",
      "|   134|       6|2012-06-07 07:00:...| 463224|\n",
      "|   151|       6|2012-05-29 10:58:...| 858076|\n",
      "|   151|       6|2012-06-19 10:55:...| 174336|\n",
      "|   151|       6|2012-06-11 00:07:...| 453411|\n",
      "|   151|       6|2012-06-10 23:55:...| 911643|\n",
      "|   151|       6|2012-06-10 23:51:...| 849501|\n",
      "|   151|       6|2012-06-10 23:53:...|1016452|\n",
      "|   151|       6|2012-06-11 11:50:...| 105065|\n",
      "|   151|       6|2012-05-18 14:55:...| 743858|\n",
      "|   182|       6|2012-06-11 00:21:...|1098447|\n",
      "|   182|       6|2012-06-06 18:34:...| 428902|\n",
      "+------+--------+--------------------+-------+\n",
      "only showing top 20 rows"
     ]
    }
   ],
   "source": [
    "app_window = apps_df.filter(col(\"WindowID\") == 6)\n",
    "app_window.show()"
   ]
  },
  {
   "cell_type": "code",
   "execution_count": 78,
   "id": "4af903da-4809-4cfd-9d5d-40a36ed1fe36",
   "metadata": {
    "execution": {
     "iopub.execute_input": "2025-05-08T20:59:20.633894Z",
     "iopub.status.busy": "2025-05-08T20:59:20.633663Z",
     "iopub.status.idle": "2025-05-08T20:59:20.679678Z",
     "shell.execute_reply": "2025-05-08T20:59:20.679041Z",
     "shell.execute_reply.started": "2025-05-08T20:59:20.633867Z"
    },
    "tags": []
   },
   "outputs": [
    {
     "data": {
      "application/vnd.jupyter.widget-view+json": {
       "model_id": "47fa4dc6bf15471cae49b61937ad6964",
       "version_major": 2,
       "version_minor": 0
      },
      "text/plain": [
       "VBox()"
      ]
     },
     "metadata": {},
     "output_type": "display_data"
    },
    {
     "data": {
      "application/vnd.jupyter.widget-view+json": {
       "model_id": "",
       "version_major": 2,
       "version_minor": 0
      },
      "text/plain": [
       "FloatProgress(value=0.0, bar_style='info', description='Progress:', layout=Layout(height='25px', width='50%'),…"
      ]
     },
     "metadata": {},
     "output_type": "display_data"
    }
   ],
   "source": [
    "joined_df = app_window.join(jobs_df, on=\"JobID\", how=\"inner\")"
   ]
  },
  {
   "cell_type": "code",
   "execution_count": 79,
   "id": "c75d80e7-48fe-472a-9e66-fc5661b73c3f",
   "metadata": {
    "execution": {
     "iopub.execute_input": "2025-05-08T20:59:23.662941Z",
     "iopub.status.busy": "2025-05-08T20:59:23.662717Z",
     "iopub.status.idle": "2025-05-08T20:59:25.923949Z",
     "shell.execute_reply": "2025-05-08T20:59:25.923234Z",
     "shell.execute_reply.started": "2025-05-08T20:59:23.662917Z"
    },
    "tags": []
   },
   "outputs": [
    {
     "data": {
      "application/vnd.jupyter.widget-view+json": {
       "model_id": "b1a213859c954ec2a7d7c3291ceae0ad",
       "version_major": 2,
       "version_minor": 0
      },
      "text/plain": [
       "VBox()"
      ]
     },
     "metadata": {},
     "output_type": "display_data"
    },
    {
     "data": {
      "application/vnd.jupyter.widget-view+json": {
       "model_id": "",
       "version_major": 2,
       "version_minor": 0
      },
      "text/plain": [
       "FloatProgress(value=0.0, bar_style='info', description='Progress:', layout=Layout(height='25px', width='50%'),…"
      ]
     },
     "metadata": {},
     "output_type": "display_data"
    },
    {
     "name": "stdout",
     "output_type": "stream",
     "text": [
      "+------+-------+--------+--------------------+--------+--------------------+\n",
      "| JobID| UserID|WindowID|     ApplicationDate|WindowID|          job_vector|\n",
      "+------+-------+--------+--------------------+--------+--------------------+\n",
      "|324018| 950932|       6|2012-06-05 20:50:...|       6|[0.04939597493202...|\n",
      "|324018| 730605|       6|2012-04-03 20:05:...|       6|[0.04939597493202...|\n",
      "|324018| 716278|       6|2012-05-11 05:22:...|       6|[0.04939597493202...|\n",
      "|325894|  46366|       6|2012-06-08 00:49:...|       6|[0.00326859093173...|\n",
      "|325894|  10297|       6|2012-06-10 17:48:...|       6|[0.00326859093173...|\n",
      "|325894|1344752|       6|2012-06-12 13:43:...|       6|[0.00326859093173...|\n",
      "|325894|1267306|       6|2012-06-12 22:24:...|       6|[0.00326859093173...|\n",
      "|325894|1060869|       6|2012-06-06 22:24:...|       6|[0.00326859093173...|\n",
      "|325894| 668914|       6|2012-06-06 08:23:...|       6|[0.00326859093173...|\n",
      "|325894| 441935|       6|2012-06-07 23:07:...|       6|[0.00326859093173...|\n",
      "|325894| 417848|       6|2012-06-11 11:42:...|       6|[0.00326859093173...|\n",
      "|325894| 405109|       6|2012-06-07 16:46:...|       6|[0.00326859093173...|\n",
      "|325894| 298132|       6|2012-06-05 23:08:...|       6|[0.00326859093173...|\n",
      "|340673|1293888|       6|2012-06-12 10:45:...|       6|[0.04422814991811...|\n",
      "|340673| 544443|       6|2012-06-05 20:25:...|       6|[0.04422814991811...|\n",
      "|346809|  31857|       6|2012-06-06 11:53:...|       6|[0.05023472688536...|\n",
      "|346809| 588350|       6|2012-06-18 11:18:...|       6|[0.05023472688536...|\n",
      "|431424|  79414|       6|2012-06-11 11:33:...|       6|[0.15489870952084...|\n",
      "|431424|1461873|       6|2012-06-08 22:47:...|       6|[0.15489870952084...|\n",
      "|431424|1452190|       6|2012-06-22 16:12:...|       6|[0.15489870952084...|\n",
      "+------+-------+--------+--------------------+--------+--------------------+\n",
      "only showing top 20 rows"
     ]
    }
   ],
   "source": [
    "joined_df.show()"
   ]
  },
  {
   "cell_type": "code",
   "execution_count": 80,
   "id": "95656802-3b9d-47e9-9c97-5b397af2e4f5",
   "metadata": {
    "execution": {
     "iopub.execute_input": "2025-05-08T20:59:25.925629Z",
     "iopub.status.busy": "2025-05-08T20:59:25.925387Z",
     "iopub.status.idle": "2025-05-08T20:59:27.230910Z",
     "shell.execute_reply": "2025-05-08T20:59:27.230210Z",
     "shell.execute_reply.started": "2025-05-08T20:59:25.925593Z"
    },
    "tags": []
   },
   "outputs": [
    {
     "data": {
      "application/vnd.jupyter.widget-view+json": {
       "model_id": "ff2d22c385c344a182abbcbe7d1dc52f",
       "version_major": 2,
       "version_minor": 0
      },
      "text/plain": [
       "VBox()"
      ]
     },
     "metadata": {},
     "output_type": "display_data"
    },
    {
     "data": {
      "application/vnd.jupyter.widget-view+json": {
       "model_id": "",
       "version_major": 2,
       "version_minor": 0
      },
      "text/plain": [
       "FloatProgress(value=0.0, bar_style='info', description='Progress:', layout=Layout(height='25px', width='50%'),…"
      ]
     },
     "metadata": {},
     "output_type": "display_data"
    },
    {
     "name": "stdout",
     "output_type": "stream",
     "text": [
      "174109"
     ]
    }
   ],
   "source": [
    "joined_df.count()"
   ]
  },
  {
   "cell_type": "code",
   "execution_count": 81,
   "id": "f8135be8-7338-4a99-ae43-0b1fe571f06e",
   "metadata": {
    "execution": {
     "iopub.execute_input": "2025-05-08T20:59:27.232898Z",
     "iopub.status.busy": "2025-05-08T20:59:27.232608Z",
     "iopub.status.idle": "2025-05-08T20:59:27.283099Z",
     "shell.execute_reply": "2025-05-08T20:59:27.282394Z",
     "shell.execute_reply.started": "2025-05-08T20:59:27.232863Z"
    },
    "tags": []
   },
   "outputs": [
    {
     "data": {
      "application/vnd.jupyter.widget-view+json": {
       "model_id": "e7d4d9c60c43452ca3009a9a5c462657",
       "version_major": 2,
       "version_minor": 0
      },
      "text/plain": [
       "VBox()"
      ]
     },
     "metadata": {},
     "output_type": "display_data"
    },
    {
     "data": {
      "application/vnd.jupyter.widget-view+json": {
       "model_id": "",
       "version_major": 2,
       "version_minor": 0
      },
      "text/plain": [
       "FloatProgress(value=0.0, bar_style='info', description='Progress:', layout=Layout(height='25px', width='50%'),…"
      ]
     },
     "metadata": {},
     "output_type": "display_data"
    }
   ],
   "source": [
    "final_joined_df = joined_df.join(user_df, on=\"UserID\", how=\"inner\")"
   ]
  },
  {
   "cell_type": "code",
   "execution_count": 82,
   "id": "28b33550-14a2-4aef-87aa-b4dea596b475",
   "metadata": {
    "execution": {
     "iopub.execute_input": "2025-05-08T20:59:32.106975Z",
     "iopub.status.busy": "2025-05-08T20:59:32.106724Z",
     "iopub.status.idle": "2025-05-08T20:59:35.387320Z",
     "shell.execute_reply": "2025-05-08T20:59:35.386624Z",
     "shell.execute_reply.started": "2025-05-08T20:59:32.106950Z"
    },
    "tags": []
   },
   "outputs": [
    {
     "data": {
      "application/vnd.jupyter.widget-view+json": {
       "model_id": "2326e2067465439e9e48cbf98359f342",
       "version_major": 2,
       "version_minor": 0
      },
      "text/plain": [
       "VBox()"
      ]
     },
     "metadata": {},
     "output_type": "display_data"
    },
    {
     "data": {
      "application/vnd.jupyter.widget-view+json": {
       "model_id": "",
       "version_major": 2,
       "version_minor": 0
      },
      "text/plain": [
       "FloatProgress(value=0.0, bar_style='info', description='Progress:', layout=Layout(height='25px', width='50%'),…"
      ]
     },
     "metadata": {},
     "output_type": "display_data"
    },
    {
     "name": "stdout",
     "output_type": "stream",
     "text": [
      "+-------+-------+--------+--------------------+--------+--------------------+----------------+--------------------+-----------------------+\n",
      "| UserID|  JobID|WindowID|     ApplicationDate|WindowID|          job_vector|WorkHistoryCount|TotalYearsExperience|user_job_history_vector|\n",
      "+-------+-------+--------+--------------------+--------+--------------------+----------------+--------------------+-----------------------+\n",
      "|1003235|1093566|       6|2012-06-06 01:31:...|       6|[0.03683225313822...|             8.0|                20.0|   [-0.1534533453329...|\n",
      "|1004155| 899425|       6|2012-06-11 07:59:...|       6|[0.04311500568577...|             5.0|                20.0|   [-0.1968839361798...|\n",
      "|1004375|  17879|       6|2012-06-07 09:54:...|       6|[0.13401342686955...|             3.0|                 5.0|   [-0.1377189165602...|\n",
      "|1004375| 274120|       6|2012-06-10 20:11:...|       6|[0.09351132894651...|             3.0|                 5.0|   [-0.1377189165602...|\n",
      "|1004375| 971486|       6|2012-06-06 10:14:...|       6|[0.04578865871308...|             3.0|                 5.0|   [-0.1377189165602...|\n",
      "|1004375|  28791|       6|2012-06-10 20:11:...|       6|[-0.0826588836008...|             3.0|                 5.0|   [-0.1377189165602...|\n",
      "|1004375| 335854|       6|2012-06-07 10:05:...|       6|[-0.0145569535864...|             3.0|                 5.0|   [-0.1377189165602...|\n",
      "|1005010| 328664|       6|2012-06-07 18:48:...|       6|[-0.1395620411882...|             6.0|                24.0|   [-0.0962560322352...|\n",
      "|1005010|1113090|       6|2012-05-31 18:56:...|       6|[-0.0466761439961...|             6.0|                24.0|   [-0.0962560322352...|\n",
      "|1005010| 816853|       6|2012-05-31 21:17:...|       6|[0.07291217375313...|             6.0|                24.0|   [-0.0962560322352...|\n",
      "|1005010|1065387|       6|2012-06-07 20:51:...|       6|[0.03512959244260...|             6.0|                24.0|   [-0.0962560322352...|\n",
      "|1005010|  94470|       6|2012-06-11 19:19:...|       6|[0.04798103132014...|             6.0|                24.0|   [-0.0962560322352...|\n",
      "|1005010| 816697|       6|2012-06-05 18:52:...|       6|[-0.0319830754465...|             6.0|                24.0|   [-0.0962560322352...|\n",
      "|1005010|1009594|       6|2012-06-05 18:52:...|       6|[-0.0028186577519...|             6.0|                24.0|   [-0.0962560322352...|\n",
      "|1005010| 834172|       6|2012-05-31 20:59:...|       6|[0.05519920889641...|             6.0|                24.0|   [-0.0962560322352...|\n",
      "|1005010| 521625|       6|2012-05-31 19:41:...|       6|[0.08238817657651...|             6.0|                24.0|   [-0.0962560322352...|\n",
      "|1005010| 933218|       6|2012-06-11 19:20:...|       6|[0.08066147998663...|             6.0|                24.0|   [-0.0962560322352...|\n",
      "|1005010| 530297|       6|2012-06-11 19:03:...|       6|[0.11969709613670...|             6.0|                24.0|   [-0.0962560322352...|\n",
      "|1005010| 272190|       6|2012-06-07 18:43:...|       6|[-0.2009310208226...|             6.0|                24.0|   [-0.0962560322352...|\n",
      "|1005010| 803180|       6|2012-06-05 18:49:...|       6|[-0.0428103038301...|             6.0|                24.0|   [-0.0962560322352...|\n",
      "+-------+-------+--------+--------------------+--------+--------------------+----------------+--------------------+-----------------------+\n",
      "only showing top 20 rows"
     ]
    }
   ],
   "source": [
    "final_joined_df.show()\n"
   ]
  },
  {
   "cell_type": "code",
   "execution_count": 83,
   "id": "cbee745e-46ac-44e5-8329-032524c82b7c",
   "metadata": {
    "execution": {
     "iopub.execute_input": "2025-05-08T20:59:35.389006Z",
     "iopub.status.busy": "2025-05-08T20:59:35.388740Z",
     "iopub.status.idle": "2025-05-08T20:59:37.659174Z",
     "shell.execute_reply": "2025-05-08T20:59:37.658426Z",
     "shell.execute_reply.started": "2025-05-08T20:59:35.388947Z"
    },
    "tags": []
   },
   "outputs": [
    {
     "data": {
      "application/vnd.jupyter.widget-view+json": {
       "model_id": "0cccdfb140784aa0972c33cf51fdd778",
       "version_major": 2,
       "version_minor": 0
      },
      "text/plain": [
       "VBox()"
      ]
     },
     "metadata": {},
     "output_type": "display_data"
    },
    {
     "data": {
      "application/vnd.jupyter.widget-view+json": {
       "model_id": "",
       "version_major": 2,
       "version_minor": 0
      },
      "text/plain": [
       "FloatProgress(value=0.0, bar_style='info', description='Progress:', layout=Layout(height='25px', width='50%'),…"
      ]
     },
     "metadata": {},
     "output_type": "display_data"
    },
    {
     "name": "stdout",
     "output_type": "stream",
     "text": [
      "166217"
     ]
    }
   ],
   "source": [
    "final_joined_df.count()"
   ]
  },
  {
   "cell_type": "code",
   "execution_count": 84,
   "id": "d52383d8-89ec-48e4-9f4f-41d0928701f2",
   "metadata": {
    "execution": {
     "iopub.execute_input": "2025-05-08T20:59:37.660634Z",
     "iopub.status.busy": "2025-05-08T20:59:37.660470Z",
     "iopub.status.idle": "2025-05-08T20:59:38.313129Z",
     "shell.execute_reply": "2025-05-08T20:59:38.307296Z",
     "shell.execute_reply.started": "2025-05-08T20:59:37.660612Z"
    },
    "tags": []
   },
   "outputs": [
    {
     "data": {
      "application/vnd.jupyter.widget-view+json": {
       "model_id": "6e9552e8916743549ca9c5bf79ebe6a5",
       "version_major": 2,
       "version_minor": 0
      },
      "text/plain": [
       "VBox()"
      ]
     },
     "metadata": {},
     "output_type": "display_data"
    },
    {
     "data": {
      "application/vnd.jupyter.widget-view+json": {
       "model_id": "",
       "version_major": 2,
       "version_minor": 0
      },
      "text/plain": [
       "FloatProgress(value=0.0, bar_style='info', description='Progress:', layout=Layout(height='25px', width='50%'),…"
      ]
     },
     "metadata": {},
     "output_type": "display_data"
    }
   ],
   "source": [
    "all_columns = final_joined_df.columns\n",
    "\n",
    "# Remove 'WindowID' and 'ApplicationDate' from the list\n",
    "columns_to_keep = [col for col in all_columns if col not in [\"WindowID\", \"ApplicationDate\"]]\n",
    "\n",
    "# Use select to keep the remaining columns\n",
    "jobs_df_trimmed = final_joined_df.select(*columns_to_keep)"
   ]
  },
  {
   "cell_type": "code",
   "execution_count": 85,
   "id": "f71a1526-bd51-4cf7-8dd8-47bda2c10945",
   "metadata": {
    "execution": {
     "iopub.execute_input": "2025-05-08T20:59:45.472871Z",
     "iopub.status.busy": "2025-05-08T20:59:45.472633Z",
     "iopub.status.idle": "2025-05-08T20:59:48.748684Z",
     "shell.execute_reply": "2025-05-08T20:59:48.747918Z",
     "shell.execute_reply.started": "2025-05-08T20:59:45.472843Z"
    },
    "tags": []
   },
   "outputs": [
    {
     "data": {
      "application/vnd.jupyter.widget-view+json": {
       "model_id": "a294ff2d0dd14b6b973ea80afabefd9d",
       "version_major": 2,
       "version_minor": 0
      },
      "text/plain": [
       "VBox()"
      ]
     },
     "metadata": {},
     "output_type": "display_data"
    },
    {
     "data": {
      "application/vnd.jupyter.widget-view+json": {
       "model_id": "",
       "version_major": 2,
       "version_minor": 0
      },
      "text/plain": [
       "FloatProgress(value=0.0, bar_style='info', description='Progress:', layout=Layout(height='25px', width='50%'),…"
      ]
     },
     "metadata": {},
     "output_type": "display_data"
    },
    {
     "name": "stdout",
     "output_type": "stream",
     "text": [
      "+-------+-------+--------------------+----------------+--------------------+-----------------------+\n",
      "| UserID|  JobID|          job_vector|WorkHistoryCount|TotalYearsExperience|user_job_history_vector|\n",
      "+-------+-------+--------------------+----------------+--------------------+-----------------------+\n",
      "|1003235|1093566|[0.03683225313822...|             8.0|                20.0|   [-0.1534533453329...|\n",
      "|1004155| 899425|[0.04311500568577...|             5.0|                20.0|   [-0.1968839361798...|\n",
      "|1004375|  28791|[-0.0826588836008...|             3.0|                 5.0|   [-0.1377189165602...|\n",
      "|1004375| 335854|[-0.0145569535864...|             3.0|                 5.0|   [-0.1377189165602...|\n",
      "|1004375| 971486|[0.04578865871308...|             3.0|                 5.0|   [-0.1377189165602...|\n",
      "|1004375|  17879|[0.13401342686955...|             3.0|                 5.0|   [-0.1377189165602...|\n",
      "|1004375| 274120|[0.09351132894651...|             3.0|                 5.0|   [-0.1377189165602...|\n",
      "|1005010|  94470|[0.04798103132014...|             6.0|                24.0|   [-0.0962560322352...|\n",
      "|1005010| 521625|[0.08238817657651...|             6.0|                24.0|   [-0.0962560322352...|\n",
      "|1005010| 530297|[0.11969709613670...|             6.0|                24.0|   [-0.0962560322352...|\n",
      "|1005010| 328664|[-0.1395620411882...|             6.0|                24.0|   [-0.0962560322352...|\n",
      "|1005010| 834172|[0.05519920889641...|             6.0|                24.0|   [-0.0962560322352...|\n",
      "|1005010| 803180|[-0.0428103038301...|             6.0|                24.0|   [-0.0962560322352...|\n",
      "|1005010| 688056|[0.06552702311078...|             6.0|                24.0|   [-0.0962560322352...|\n",
      "|1005010| 816853|[0.07291217375313...|             6.0|                24.0|   [-0.0962560322352...|\n",
      "|1005010| 816697|[-0.0319830754465...|             6.0|                24.0|   [-0.0962560322352...|\n",
      "|1005010| 933218|[0.08066147998663...|             6.0|                24.0|   [-0.0962560322352...|\n",
      "|1005010| 994882|[0.05239285300779...|             6.0|                24.0|   [-0.0962560322352...|\n",
      "|1005010|1113090|[-0.0466761439961...|             6.0|                24.0|   [-0.0962560322352...|\n",
      "|1005010|1065387|[0.03512959244260...|             6.0|                24.0|   [-0.0962560322352...|\n",
      "+-------+-------+--------------------+----------------+--------------------+-----------------------+\n",
      "only showing top 20 rows"
     ]
    }
   ],
   "source": [
    "jobs_df_trimmed.show()"
   ]
  },
  {
   "cell_type": "code",
   "execution_count": null,
   "id": "53e26fb1-6577-4c9f-9aca-bf440ecc6d56",
   "metadata": {
    "execution": {
     "iopub.execute_input": "2025-05-08T20:59:57.696216Z",
     "iopub.status.busy": "2025-05-08T20:59:57.695982Z"
    },
    "tags": []
   },
   "outputs": [
    {
     "data": {
      "application/vnd.jupyter.widget-view+json": {
       "model_id": "20b2002ca76b439aab848cdc333f8ed6",
       "version_major": 2,
       "version_minor": 0
      },
      "text/plain": [
       "VBox()"
      ]
     },
     "metadata": {},
     "output_type": "display_data"
    },
    {
     "data": {
      "application/vnd.jupyter.widget-view+json": {
       "model_id": "ffc9b0a3fee74880be1f54912d10c5f6",
       "version_major": 2,
       "version_minor": 0
      },
      "text/plain": [
       "FloatProgress(value=0.0, bar_style='info', description='Progress:', layout=Layout(height='25px', width='50%'),…"
      ]
     },
     "metadata": {},
     "output_type": "display_data"
    }
   ],
   "source": [
    "output_path = \"s3://aws-emr-studio-201107706822-us-east-1/1746053900403/e-6HYCE3WANA8IROUS7NBVDSOU4/processed/final_windows/final_6\"\n",
    "\n",
    "jobs_df_trimmed.write.mode(\"overwrite\").parquet(output_path)"
   ]
  }
 ],
 "metadata": {
  "kernelspec": {
   "display_name": "PySpark",
   "language": "python",
   "name": "pysparkkernel"
  },
  "language_info": {
   "codemirror_mode": {
    "name": "python",
    "version": 3
   },
   "file_extension": ".py",
   "mimetype": "text/x-python",
   "name": "pyspark",
   "pygments_lexer": "python3"
  }
 },
 "nbformat": 4,
 "nbformat_minor": 5
}
