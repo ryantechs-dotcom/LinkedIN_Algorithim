{
 "cells": [
  {
   "cell_type": "code",
   "execution_count": 1,
   "id": "23c4e374",
   "metadata": {
    "execution": {
     "iopub.execute_input": "2025-05-06T17:40:21.397253Z",
     "iopub.status.busy": "2025-05-06T17:40:21.396860Z",
     "iopub.status.idle": "2025-05-06T17:42:03.816611Z",
     "shell.execute_reply": "2025-05-06T17:42:03.815045Z",
     "shell.execute_reply.started": "2025-05-06T17:40:21.397218Z"
    },
    "tags": []
   },
   "outputs": [
    {
     "data": {
      "application/vnd.jupyter.widget-view+json": {
       "model_id": "da8a5d1abe594658bedcc1466fb79ca6",
       "version_major": 2,
       "version_minor": 0
      },
      "text/plain": [
       "VBox()"
      ]
     },
     "metadata": {},
     "output_type": "display_data"
    },
    {
     "name": "stdout",
     "output_type": "stream",
     "text": [
      "Starting Spark application\n"
     ]
    },
    {
     "data": {
      "text/html": [
       "<table>\n<tbody><tr><th>ID</th><th>YARN Application ID</th><th>Kind</th><th>State</th><th>Spark UI</th><th>Driver log</th><th>User</th><th>Current session?</th></tr><tr><td>0</td><td>application_1746553043698_0001</td><td>pyspark</td><td>idle</td><td><a target=\"_blank\" href=\"http://ip-172-31-33-143.ec2.internal:20888/proxy/application_1746553043698_0001/\" class=\"emr-proxy-link j-1GF39UVQ8AAQP application_1746553043698_0001\" emr-resource=\"j-1GF39UVQ8AAQP\n\" application-id=\"application_1746553043698_0001\">Link</a></td><td><a target=\"_blank\" href=\"http://ip-172-31-38-228.ec2.internal:8042/node/containerlogs/container_1746553043698_0001_01_000001/livy\">Link</a></td><td>None</td><td>✔</td></tr></tbody></table>"
      ],
      "text/plain": [
       "<IPython.core.display.HTML object>"
      ]
     },
     "metadata": {},
     "output_type": "display_data"
    },
    {
     "data": {
      "application/vnd.jupyter.widget-view+json": {
       "model_id": "",
       "version_major": 2,
       "version_minor": 0
      },
      "text/plain": [
       "FloatProgress(value=0.0, bar_style='info', description='Progress:', layout=Layout(height='25px', width='50%'),…"
      ]
     },
     "metadata": {},
     "output_type": "display_data"
    },
    {
     "name": "stdout",
     "output_type": "stream",
     "text": [
      "SparkSession available as 'spark'.\n"
     ]
    },
    {
     "data": {
      "application/vnd.jupyter.widget-view+json": {
       "model_id": "",
       "version_major": 2,
       "version_minor": 0
      },
      "text/plain": [
       "FloatProgress(value=0.0, bar_style='info', description='Progress:', layout=Layout(height='25px', width='50%'),…"
      ]
     },
     "metadata": {},
     "output_type": "display_data"
    }
   ],
   "source": [
    "from pyspark.sql import SparkSession\n",
    "from pyspark.sql.functions import col, collect_list, udf\n",
    "from pyspark.ml.feature import Word2Vec, Tokenizer\n",
    "from pyspark.ml.linalg import Vectors, VectorUDT\n",
    "import numpy as np\n"
   ]
  },
  {
   "cell_type": "code",
   "execution_count": 2,
   "id": "97a0a1f2",
   "metadata": {
    "execution": {
     "iopub.execute_input": "2025-05-06T17:42:07.176250Z",
     "iopub.status.busy": "2025-05-06T17:42:07.175903Z",
     "iopub.status.idle": "2025-05-06T17:42:07.462079Z",
     "shell.execute_reply": "2025-05-06T17:42:07.460715Z",
     "shell.execute_reply.started": "2025-05-06T17:42:07.176144Z"
    },
    "tags": []
   },
   "outputs": [
    {
     "data": {
      "application/vnd.jupyter.widget-view+json": {
       "model_id": "dc6dfe692b954c01b5f94879f48acf6a",
       "version_major": 2,
       "version_minor": 0
      },
      "text/plain": [
       "VBox()"
      ]
     },
     "metadata": {},
     "output_type": "display_data"
    },
    {
     "data": {
      "application/vnd.jupyter.widget-view+json": {
       "model_id": "",
       "version_major": 2,
       "version_minor": 0
      },
      "text/plain": [
       "FloatProgress(value=0.0, bar_style='info', description='Progress:', layout=Layout(height='25px', width='50%'),…"
      ]
     },
     "metadata": {},
     "output_type": "display_data"
    }
   ],
   "source": [
    "# Start Spark session (in EMR, this is often pre-configured)\n",
    "spark = SparkSession.builder.appName(\"UserHistoryWord2Vec\").getOrCreate()\n"
   ]
  },
  {
   "cell_type": "code",
   "execution_count": 3,
   "id": "abd10250",
   "metadata": {
    "execution": {
     "iopub.execute_input": "2025-05-06T17:42:09.547255Z",
     "iopub.status.busy": "2025-05-06T17:42:09.546892Z",
     "iopub.status.idle": "2025-05-06T17:42:25.161077Z",
     "shell.execute_reply": "2025-05-06T17:42:25.159620Z",
     "shell.execute_reply.started": "2025-05-06T17:42:09.547206Z"
    },
    "tags": []
   },
   "outputs": [
    {
     "data": {
      "application/vnd.jupyter.widget-view+json": {
       "model_id": "835c59d7668b474281b3a512c7b3042d",
       "version_major": 2,
       "version_minor": 0
      },
      "text/plain": [
       "VBox()"
      ]
     },
     "metadata": {},
     "output_type": "display_data"
    },
    {
     "data": {
      "application/vnd.jupyter.widget-view+json": {
       "model_id": "",
       "version_major": 2,
       "version_minor": 0
      },
      "text/plain": [
       "FloatProgress(value=0.0, bar_style='info', description='Progress:', layout=Layout(height='25px', width='50%'),…"
      ]
     },
     "metadata": {},
     "output_type": "display_data"
    },
    {
     "name": "stdout",
     "output_type": "stream",
     "text": [
      "+------+--------+-----+--------+--------------------+\n",
      "|UserID|WindowID|Split|Sequence|            JobTitle|\n",
      "+------+--------+-----+--------+--------------------+\n",
      "|    47|       1|Train|       1|National Space Co...|\n",
      "|    47|       1|Train|       2|   Detention Officer|\n",
      "|    47|       1|Train|       3|Passenger Screene...|\n",
      "|    72|       1|Train|       1|Lecturer, Departm...|\n",
      "|    72|       1|Train|       2|   Student Assistant|\n",
      "+------+--------+-----+--------+--------------------+\n",
      "only showing top 5 rows"
     ]
    }
   ],
   "source": [
    "df = spark.read.option(\"header\", True).option(\"sep\", \"\\t\").csv(\"s3://aws-emr-studio-201107706822-us-east-1/1746053900403/e-6HYCE3WANA8IROUS7NBVDSOU4/user_history.tsv\")\n",
    "\n",
    "# Show sample\n",
    "df.show(5)\n",
    "\n",
    "# Step 2: Keep only UserID and JobTitle\n",
    "df = df.select(\"UserID\", \"JobTitle\").dropna()\n"
   ]
  },
  {
   "cell_type": "code",
   "execution_count": 4,
   "id": "06b4059d",
   "metadata": {
    "execution": {
     "iopub.execute_input": "2025-05-06T17:42:33.485795Z",
     "iopub.status.busy": "2025-05-06T17:42:33.485413Z",
     "iopub.status.idle": "2025-05-06T17:42:33.762279Z",
     "shell.execute_reply": "2025-05-06T17:42:33.761126Z",
     "shell.execute_reply.started": "2025-05-06T17:42:33.485759Z"
    },
    "tags": []
   },
   "outputs": [
    {
     "data": {
      "application/vnd.jupyter.widget-view+json": {
       "model_id": "a2682c7664674d628a85c83e7d2688b7",
       "version_major": 2,
       "version_minor": 0
      },
      "text/plain": [
       "VBox()"
      ]
     },
     "metadata": {},
     "output_type": "display_data"
    },
    {
     "data": {
      "application/vnd.jupyter.widget-view+json": {
       "model_id": "",
       "version_major": 2,
       "version_minor": 0
      },
      "text/plain": [
       "FloatProgress(value=0.0, bar_style='info', description='Progress:', layout=Layout(height='25px', width='50%'),…"
      ]
     },
     "metadata": {},
     "output_type": "display_data"
    }
   ],
   "source": [
    "from pyspark.sql.functions import split\n",
    "df = df.withColumn(\"JobTitleTokens\", split(col(\"JobTitle\"), \"\\\\s+\"))\n"
   ]
  },
  {
   "cell_type": "code",
   "execution_count": 5,
   "id": "38b0ea34",
   "metadata": {
    "execution": {
     "iopub.execute_input": "2025-05-06T17:42:41.588772Z",
     "iopub.status.busy": "2025-05-06T17:42:41.588495Z",
     "iopub.status.idle": "2025-05-06T17:44:41.565176Z",
     "shell.execute_reply": "2025-05-06T17:44:41.564031Z",
     "shell.execute_reply.started": "2025-05-06T17:42:41.588739Z"
    },
    "tags": []
   },
   "outputs": [
    {
     "data": {
      "application/vnd.jupyter.widget-view+json": {
       "model_id": "04576c7ca435410c87cb227b6d19d22c",
       "version_major": 2,
       "version_minor": 0
      },
      "text/plain": [
       "VBox()"
      ]
     },
     "metadata": {},
     "output_type": "display_data"
    },
    {
     "data": {
      "application/vnd.jupyter.widget-view+json": {
       "model_id": "",
       "version_major": 2,
       "version_minor": 0
      },
      "text/plain": [
       "FloatProgress(value=0.0, bar_style='info', description='Progress:', layout=Layout(height='25px', width='50%'),…"
      ]
     },
     "metadata": {},
     "output_type": "display_data"
    },
    {
     "name": "stdout",
     "output_type": "stream",
     "text": [
      "+------+--------------------+--------------------+--------------------+\n",
      "|UserID|            JobTitle|      JobTitleTokens|    job_title_vector|\n",
      "+------+--------------------+--------------------+--------------------+\n",
      "|    47|National Space Co...|[National, Space,...|[-0.0759868864746...|\n",
      "|    47|   Detention Officer|[Detention, Officer]|[-0.3865956962108...|\n",
      "|    47|Passenger Screene...|[Passenger, Scree...|[-0.0240671150386...|\n",
      "|    72|Lecturer, Departm...|[Lecturer,, Depar...|[-0.0729021513834...|\n",
      "|    72|   Student Assistant|[Student, Assistant]|[0.17216309159994...|\n",
      "+------+--------------------+--------------------+--------------------+\n",
      "only showing top 5 rows"
     ]
    }
   ],
   "source": [
    "# Step 4: Train Word2Vec on JobTitle tokens\n",
    "word2vec = Word2Vec(vectorSize=100, minCount=1, inputCol=\"JobTitleTokens\", outputCol=\"job_title_vector\")\n",
    "model = word2vec.fit(df)\n",
    "\n",
    "# Transform to get vectors\n",
    "vectorized_df = model.transform(df)\n",
    "\n",
    "vectorized_df.show(5)\n"
   ]
  },
  {
   "cell_type": "code",
   "execution_count": 6,
   "id": "a8f38d22",
   "metadata": {
    "execution": {
     "iopub.execute_input": "2025-05-06T17:44:52.965536Z",
     "iopub.status.busy": "2025-05-06T17:44:52.965214Z",
     "iopub.status.idle": "2025-05-06T17:44:53.055170Z",
     "shell.execute_reply": "2025-05-06T17:44:53.053904Z",
     "shell.execute_reply.started": "2025-05-06T17:44:52.965501Z"
    },
    "tags": []
   },
   "outputs": [
    {
     "data": {
      "application/vnd.jupyter.widget-view+json": {
       "model_id": "33ce2ebe95a94e1fb4fa1f7368e51b5e",
       "version_major": 2,
       "version_minor": 0
      },
      "text/plain": [
       "VBox()"
      ]
     },
     "metadata": {},
     "output_type": "display_data"
    },
    {
     "data": {
      "application/vnd.jupyter.widget-view+json": {
       "model_id": "",
       "version_major": 2,
       "version_minor": 0
      },
      "text/plain": [
       "FloatProgress(value=0.0, bar_style='info', description='Progress:', layout=Layout(height='25px', width='50%'),…"
      ]
     },
     "metadata": {},
     "output_type": "display_data"
    }
   ],
   "source": [
    "def average_vectors(vectors):\n",
    "    arrs = [v.toArray() for v in vectors]\n",
    "    avg = np.mean(arrs, axis=0)\n",
    "    return Vectors.dense(avg)"
   ]
  },
  {
   "cell_type": "code",
   "execution_count": 7,
   "id": "c36f20a5",
   "metadata": {
    "execution": {
     "iopub.execute_input": "2025-05-06T17:44:56.548334Z",
     "iopub.status.busy": "2025-05-06T17:44:56.548052Z",
     "iopub.status.idle": "2025-05-06T17:44:56.651705Z",
     "shell.execute_reply": "2025-05-06T17:44:56.650605Z",
     "shell.execute_reply.started": "2025-05-06T17:44:56.548300Z"
    },
    "tags": []
   },
   "outputs": [
    {
     "data": {
      "application/vnd.jupyter.widget-view+json": {
       "model_id": "a058dfcbabfe474599185e4f03c0be0a",
       "version_major": 2,
       "version_minor": 0
      },
      "text/plain": [
       "VBox()"
      ]
     },
     "metadata": {},
     "output_type": "display_data"
    },
    {
     "data": {
      "application/vnd.jupyter.widget-view+json": {
       "model_id": "",
       "version_major": 2,
       "version_minor": 0
      },
      "text/plain": [
       "FloatProgress(value=0.0, bar_style='info', description='Progress:', layout=Layout(height='25px', width='50%'),…"
      ]
     },
     "metadata": {},
     "output_type": "display_data"
    }
   ],
   "source": [
    "avg_udf = udf(average_vectors, VectorUDT())"
   ]
  },
  {
   "cell_type": "code",
   "execution_count": 8,
   "id": "78dad3a7",
   "metadata": {
    "execution": {
     "iopub.execute_input": "2025-05-06T17:45:01.856691Z",
     "iopub.status.busy": "2025-05-06T17:45:01.855664Z",
     "iopub.status.idle": "2025-05-06T17:45:49.479188Z",
     "shell.execute_reply": "2025-05-06T17:45:49.477898Z",
     "shell.execute_reply.started": "2025-05-06T17:45:01.856636Z"
    },
    "tags": []
   },
   "outputs": [
    {
     "data": {
      "application/vnd.jupyter.widget-view+json": {
       "model_id": "17d895ad0e0241c6bc13891c08f10f94",
       "version_major": 2,
       "version_minor": 0
      },
      "text/plain": [
       "VBox()"
      ]
     },
     "metadata": {},
     "output_type": "display_data"
    },
    {
     "data": {
      "application/vnd.jupyter.widget-view+json": {
       "model_id": "",
       "version_major": 2,
       "version_minor": 0
      },
      "text/plain": [
       "FloatProgress(value=0.0, bar_style='info', description='Progress:', layout=Layout(height='25px', width='50%'),…"
      ]
     },
     "metadata": {},
     "output_type": "display_data"
    },
    {
     "name": "stdout",
     "output_type": "stream",
     "text": [
      "+-------+-----------------------+\n",
      "| UserID|user_job_history_vector|\n",
      "+-------+-----------------------+\n",
      "|1000012|   [-0.0816706322237...|\n",
      "|1000127|   [-0.2624434167519...|\n",
      "| 100014|   [-0.1563225854188...|\n",
      "|1000650|   [-0.2994719058275...|\n",
      "|1000822|   [0.23477324044021...|\n",
      "+-------+-----------------------+\n",
      "only showing top 5 rows"
     ]
    }
   ],
   "source": [
    "user_embeddings = (vectorized_df\n",
    "                   .groupBy(\"UserID\")\n",
    "                   .agg(collect_list(\"job_title_vector\").alias(\"vectors\"))\n",
    "                   .withColumn(\"user_job_history_vector\", avg_udf(\"vectors\"))\n",
    "                   .select(\"UserID\", \"user_job_history_vector\"))\n",
    "\n",
    "user_embeddings.show(5)\n"
   ]
  },
  {
   "cell_type": "code",
   "execution_count": 9,
   "id": "49afa388",
   "metadata": {
    "execution": {
     "iopub.execute_input": "2025-05-06T17:45:57.864986Z",
     "iopub.status.busy": "2025-05-06T17:45:57.864681Z",
     "iopub.status.idle": "2025-05-06T17:48:24.140719Z",
     "shell.execute_reply": "2025-05-06T17:48:24.139237Z",
     "shell.execute_reply.started": "2025-05-06T17:45:57.864953Z"
    },
    "tags": []
   },
   "outputs": [
    {
     "data": {
      "application/vnd.jupyter.widget-view+json": {
       "model_id": "bf16ba7cf68e4c27bc797673ec3f19d1",
       "version_major": 2,
       "version_minor": 0
      },
      "text/plain": [
       "VBox()"
      ]
     },
     "metadata": {},
     "output_type": "display_data"
    },
    {
     "data": {
      "application/vnd.jupyter.widget-view+json": {
       "model_id": "",
       "version_major": 2,
       "version_minor": 0
      },
      "text/plain": [
       "FloatProgress(value=0.0, bar_style='info', description='Progress:', layout=Layout(height='25px', width='50%'),…"
      ]
     },
     "metadata": {},
     "output_type": "display_data"
    }
   ],
   "source": [
    "user_embeddings.write.mode(\"overwrite\").parquet(\"s3://aws-emr-studio-201107706822-us-east-1/1746053900403/e-6HYCE3WANA8IROUS7NBVDSOU4/processed/user_job_history_embeddings.parquet\")"
   ]
  },
  {
   "cell_type": "code",
   "execution_count": 10,
   "id": "8dc927f2-b12f-4a23-b873-3457f8a1b0d7",
   "metadata": {
    "execution": {
     "iopub.execute_input": "2025-05-06T18:04:24.640960Z",
     "iopub.status.busy": "2025-05-06T18:04:24.640683Z",
     "iopub.status.idle": "2025-05-06T18:04:25.436984Z",
     "shell.execute_reply": "2025-05-06T18:04:25.435618Z",
     "shell.execute_reply.started": "2025-05-06T18:04:24.640926Z"
    },
    "tags": []
   },
   "outputs": [
    {
     "data": {
      "application/vnd.jupyter.widget-view+json": {
       "model_id": "7cc3cd3c27674491812eaf3dc5f9e593",
       "version_major": 2,
       "version_minor": 0
      },
      "text/plain": [
       "VBox()"
      ]
     },
     "metadata": {},
     "output_type": "display_data"
    },
    {
     "data": {
      "application/vnd.jupyter.widget-view+json": {
       "model_id": "",
       "version_major": 2,
       "version_minor": 0
      },
      "text/plain": [
       "FloatProgress(value=0.0, bar_style='info', description='Progress:', layout=Layout(height='25px', width='50%'),…"
      ]
     },
     "metadata": {},
     "output_type": "display_data"
    }
   ],
   "source": [
    "spark.stop()"
   ]
  }
 ],
 "metadata": {
  "kernelspec": {
   "display_name": "PySpark",
   "language": "python",
   "name": "pysparkkernel"
  },
  "language_info": {
   "codemirror_mode": {
    "name": "python",
    "version": 3
   },
   "file_extension": ".py",
   "mimetype": "text/x-python",
   "name": "pyspark",
   "pygments_lexer": "python3"
  }
 },
 "nbformat": 4,
 "nbformat_minor": 5
}
