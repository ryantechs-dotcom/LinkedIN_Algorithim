{
 "cells": [
  {
   "cell_type": "code",
   "execution_count": 1,
   "id": "29b1f99c-4c90-40c7-8716-1b669d04367a",
   "metadata": {
    "execution": {
     "iopub.execute_input": "2025-05-18T18:17:17.125842Z",
     "iopub.status.busy": "2025-05-18T18:17:17.125513Z",
     "iopub.status.idle": "2025-05-18T18:18:07.071529Z",
     "shell.execute_reply": "2025-05-18T18:18:07.070728Z",
     "shell.execute_reply.started": "2025-05-18T18:17:17.125813Z"
    },
    "tags": []
   },
   "outputs": [
    {
     "data": {
      "application/vnd.jupyter.widget-view+json": {
       "model_id": "26cba2d333b84b05b0297676fe3cfdbe",
       "version_major": 2,
       "version_minor": 0
      },
      "text/plain": [
       "VBox()"
      ]
     },
     "metadata": {},
     "output_type": "display_data"
    },
    {
     "name": "stdout",
     "output_type": "stream",
     "text": [
      "Starting Spark application\n"
     ]
    },
    {
     "data": {
      "text/html": [
       "<table>\n<tbody><tr><th>ID</th><th>YARN Application ID</th><th>Kind</th><th>State</th><th>Spark UI</th><th>Driver log</th><th>User</th><th>Current session?</th></tr><tr><td>6</td><td>application_1747590181230_0007</td><td>pyspark</td><td>idle</td><td><a target=\"_blank\" href=\"http://ip-172-31-43-206.ec2.internal:20888/proxy/application_1747590181230_0007/\" class=\"emr-proxy-link j-3HU60FURP8UHL application_1747590181230_0007\" emr-resource=\"j-3HU60FURP8UHL\n\" application-id=\"application_1747590181230_0007\">Link</a></td><td><a target=\"_blank\" href=\"http://ip-172-31-39-97.ec2.internal:8042/node/containerlogs/container_1747590181230_0007_01_000001/livy\">Link</a></td><td>None</td><td>✔</td></tr></tbody></table>"
      ],
      "text/plain": [
       "<IPython.core.display.HTML object>"
      ]
     },
     "metadata": {},
     "output_type": "display_data"
    },
    {
     "data": {
      "application/vnd.jupyter.widget-view+json": {
       "model_id": "",
       "version_major": 2,
       "version_minor": 0
      },
      "text/plain": [
       "FloatProgress(value=0.0, bar_style='info', description='Progress:', layout=Layout(height='25px', width='50%'),…"
      ]
     },
     "metadata": {},
     "output_type": "display_data"
    },
    {
     "name": "stdout",
     "output_type": "stream",
     "text": [
      "SparkSession available as 'spark'.\n"
     ]
    },
    {
     "data": {
      "application/vnd.jupyter.widget-view+json": {
       "model_id": "",
       "version_major": 2,
       "version_minor": 0
      },
      "text/plain": [
       "FloatProgress(value=0.0, bar_style='info', description='Progress:', layout=Layout(height='25px', width='50%'),…"
      ]
     },
     "metadata": {},
     "output_type": "display_data"
    },
    {
     "name": "stdout",
     "output_type": "stream",
     "text": [
      "Collecting pandas==2.2.3\n",
      "  Downloading pandas-2.2.3-cp39-cp39-manylinux_2_17_x86_64.manylinux2014_x86_64.whl (13.1 MB)\n",
      "Requirement already satisfied: pytz>=2020.1 in /usr/local/lib/python3.9/site-packages (from pandas==2.2.3) (2025.1)\n",
      "Collecting python-dateutil>=2.8.2\n",
      "  Downloading python_dateutil-2.9.0.post0-py2.py3-none-any.whl (229 kB)\n",
      "Collecting tzdata>=2022.7\n",
      "  Downloading tzdata-2025.2-py2.py3-none-any.whl (347 kB)\n",
      "Requirement already satisfied: numpy>=1.22.4 in /usr/local/lib64/python3.9/site-packages (from pandas==2.2.3) (1.26.4)\n",
      "Requirement already satisfied: six>=1.5 in /usr/local/lib/python3.9/site-packages (from python-dateutil>=2.8.2->pandas==2.2.3) (1.13.0)\n",
      "Installing collected packages: tzdata, python-dateutil, pandas\n",
      "  Attempting uninstall: python-dateutil\n",
      "    Found existing installation: python-dateutil 2.8.1\n",
      "    Not uninstalling python-dateutil at /usr/lib/python3.9/site-packages, outside environment /mnt/yarn/usercache/livy/appcache/application_1747590181230_0007/container_1747590181230_0007_01_000001/tmp/spark-c10c4305-52e8-4e71-b791-68ad1f6b9c9b\n",
      "    Can't uninstall 'python-dateutil'. No files were found to uninstall.\n",
      "Successfully installed pandas-2.2.3 python-dateutil-2.9.0.post0 tzdata-2025.2\n",
      "\n",
      "WARNING: The directory '/home/.cache/pip' or its parent directory is not owned or is not writable by the current user. The cache has been disabled. Check the permissions and owner of that directory. If executing pip with sudo, you should use sudo's -H flag.\n",
      "ERROR: pip's dependency resolver does not currently take into account all the packages that are installed. This behaviour is the source of the following dependency conflicts.\n",
      "awscli 2.23.11 requires cryptography<40.0.2,>=3.3.2, but you have cryptography 3.2.1 which is incompatible.\n",
      "awscli 2.23.11 requires python-dateutil<=2.9.0,>=2.1, but you have python-dateutil 2.9.0.post0 which is incompatible."
     ]
    }
   ],
   "source": [
    "sc.install_pypi_package(\"pandas==2.2.3\")"
   ]
  },
  {
   "cell_type": "code",
   "execution_count": 2,
   "id": "8f6d77cf-46ba-4ca5-9af8-eb541022e83c",
   "metadata": {
    "execution": {
     "iopub.execute_input": "2025-05-18T18:18:07.072781Z",
     "iopub.status.busy": "2025-05-18T18:18:07.072604Z",
     "iopub.status.idle": "2025-05-18T18:18:50.507489Z",
     "shell.execute_reply": "2025-05-18T18:18:50.506418Z",
     "shell.execute_reply.started": "2025-05-18T18:18:07.072759Z"
    },
    "tags": []
   },
   "outputs": [
    {
     "data": {
      "application/vnd.jupyter.widget-view+json": {
       "model_id": "b182f2441fb74cbd8c3e7f221de2d780",
       "version_major": 2,
       "version_minor": 0
      },
      "text/plain": [
       "VBox()"
      ]
     },
     "metadata": {},
     "output_type": "display_data"
    },
    {
     "data": {
      "application/vnd.jupyter.widget-view+json": {
       "model_id": "",
       "version_major": 2,
       "version_minor": 0
      },
      "text/plain": [
       "FloatProgress(value=0.0, bar_style='info', description='Progress:', layout=Layout(height='25px', width='50%'),…"
      ]
     },
     "metadata": {},
     "output_type": "display_data"
    },
    {
     "name": "stdout",
     "output_type": "stream",
     "text": [
      "Collecting tensorflow==2.15.0\n",
      "  Downloading tensorflow-2.15.0-cp39-cp39-manylinux_2_17_x86_64.manylinux2014_x86_64.whl (475.2 MB)\n",
      "Requirement already satisfied: google-pasta>=0.1.1 in /usr/local/lib64/python3.9/site-packages (from tensorflow==2.15.0) (0.2.0)\n",
      "Requirement already satisfied: gast!=0.5.0,!=0.5.1,!=0.5.2,>=0.2.1 in /usr/local/lib/python3.9/site-packages (from tensorflow==2.15.0) (0.5.3)\n",
      "Requirement already satisfied: six>=1.12.0 in /usr/local/lib/python3.9/site-packages (from tensorflow==2.15.0) (1.13.0)\n",
      "Requirement already satisfied: absl-py>=1.0.0 in /usr/local/lib/python3.9/site-packages (from tensorflow==2.15.0) (1.3.0)\n",
      "Requirement already satisfied: libclang>=13.0.0 in /usr/local/lib64/python3.9/site-packages (from tensorflow==2.15.0) (17.0.6)\n",
      "Requirement already satisfied: termcolor>=1.1.0 in /usr/local/lib/python3.9/site-packages (from tensorflow==2.15.0) (1.1.0)\n",
      "Requirement already satisfied: typing-extensions>=3.6.6 in /usr/local/lib64/python3.9/site-packages (from tensorflow==2.15.0) (4.12.2)\n",
      "Requirement already satisfied: tensorflow-io-gcs-filesystem>=0.23.1 in /usr/local/lib64/python3.9/site-packages (from tensorflow==2.15.0) (0.24.0)\n",
      "Requirement already satisfied: numpy<2.0.0,>=1.23.5 in /usr/local/lib64/python3.9/site-packages (from tensorflow==2.15.0) (1.26.4)\n",
      "Collecting ml-dtypes~=0.2.0\n",
      "  Downloading ml_dtypes-0.2.0-cp39-cp39-manylinux_2_17_x86_64.manylinux2014_x86_64.whl (1.0 MB)\n",
      "Collecting keras<2.16,>=2.15.0\n",
      "  Downloading keras-2.15.0-py3-none-any.whl (1.7 MB)\n",
      "Requirement already satisfied: packaging in /usr/local/lib64/python3.9/site-packages (from tensorflow==2.15.0) (24.2)\n",
      "Requirement already satisfied: grpcio<2.0,>=1.24.3 in /usr/local/lib64/python3.9/site-packages (from tensorflow==2.15.0) (1.48.2)\n",
      "Requirement already satisfied: setuptools in ./tmp/spark-c10c4305-52e8-4e71-b791-68ad1f6b9c9b/lib/python3.9/site-packages (from tensorflow==2.15.0) (59.6.0)\n",
      "Requirement already satisfied: tensorflow-estimator<2.16,>=2.15.0 in /usr/local/lib64/python3.9/site-packages (from tensorflow==2.15.0) (2.15.0)\n",
      "Requirement already satisfied: astunparse>=1.6.0 in /usr/local/lib64/python3.9/site-packages (from tensorflow==2.15.0) (1.6.3)\n",
      "Requirement already satisfied: opt-einsum>=2.3.2 in /usr/local/lib/python3.9/site-packages (from tensorflow==2.15.0) (2.3.2)\n",
      "Collecting tensorboard<2.16,>=2.15\n",
      "  Downloading tensorboard-2.15.2-py3-none-any.whl (5.5 MB)\n",
      "Requirement already satisfied: flatbuffers>=23.5.26 in /usr/local/lib64/python3.9/site-packages (from tensorflow==2.15.0) (25.2.10)\n",
      "Requirement already satisfied: protobuf!=4.21.0,!=4.21.1,!=4.21.2,!=4.21.3,!=4.21.4,!=4.21.5,<5.0.0dev,>=3.20.3 in /usr/local/lib64/python3.9/site-packages (from tensorflow==2.15.0) (3.20.3)\n",
      "Requirement already satisfied: h5py>=2.9.0 in /usr/local/lib64/python3.9/site-packages (from tensorflow==2.15.0) (3.10.0)\n",
      "Requirement already satisfied: wrapt<1.15,>=1.11.0 in /usr/local/lib64/python3.9/site-packages (from tensorflow==2.15.0) (1.12.1)\n",
      "Requirement already satisfied: wheel<1.0,>=0.23.0 in ./tmp/spark-c10c4305-52e8-4e71-b791-68ad1f6b9c9b/lib/python3.9/site-packages (from astunparse>=1.6.0->tensorflow==2.15.0) (0.37.1)\n",
      "Requirement already satisfied: werkzeug>=1.0.1 in /usr/local/lib/python3.9/site-packages (from tensorboard<2.16,>=2.15->tensorflow==2.15.0) (1.0.1)\n",
      "Requirement already satisfied: google-auth<3,>=1.6.3 in /usr/local/lib64/python3.9/site-packages (from tensorboard<2.16,>=2.15->tensorflow==2.15.0) (1.23.0)\n",
      "Requirement already satisfied: markdown>=2.6.8 in /usr/local/lib/python3.9/site-packages (from tensorboard<2.16,>=2.15->tensorflow==2.15.0) (3.3.4)\n",
      "Requirement already satisfied: requests<3,>=2.21.0 in /usr/local/lib64/python3.9/site-packages (from tensorboard<2.16,>=2.15->tensorflow==2.15.0) (2.32.3)\n",
      "Collecting tensorboard-data-server<0.8.0,>=0.7.0\n",
      "  Downloading tensorboard_data_server-0.7.2-py3-none-manylinux_2_31_x86_64.whl (6.6 MB)\n",
      "Collecting google-auth-oauthlib<2,>=0.5\n",
      "  Downloading google_auth_oauthlib-1.2.2-py3-none-any.whl (19 kB)\n",
      "Requirement already satisfied: pyasn1-modules>=0.2.1 in /usr/local/lib64/python3.9/site-packages (from google-auth<3,>=1.6.3->tensorboard<2.16,>=2.15->tensorflow==2.15.0) (0.2.8)\n",
      "Requirement already satisfied: cachetools<5.0,>=2.0.0 in /usr/local/lib64/python3.9/site-packages (from google-auth<3,>=1.6.3->tensorboard<2.16,>=2.15->tensorflow==2.15.0) (4.1.1)\n",
      "Requirement already satisfied: rsa<5,>=3.1.4 in /usr/local/lib64/python3.9/site-packages (from google-auth<3,>=1.6.3->tensorboard<2.16,>=2.15->tensorflow==2.15.0) (4.6)\n",
      "Requirement already satisfied: requests-oauthlib>=0.7.0 in /usr/local/lib64/python3.9/site-packages (from google-auth-oauthlib<2,>=0.5->tensorboard<2.16,>=2.15->tensorflow==2.15.0) (1.3.0)\n",
      "Collecting google-auth<3,>=1.6.3\n",
      "  Downloading google_auth-2.40.1-py2.py3-none-any.whl (216 kB)\n",
      "Requirement already satisfied: charset-normalizer<4,>=2 in /usr/local/lib64/python3.9/site-packages (from requests<3,>=2.21.0->tensorboard<2.16,>=2.15->tensorflow==2.15.0) (3.4.1)\n",
      "Requirement already satisfied: idna<4,>=2.5 in /usr/local/lib64/python3.9/site-packages (from requests<3,>=2.21.0->tensorboard<2.16,>=2.15->tensorflow==2.15.0) (2.10)\n",
      "Requirement already satisfied: certifi>=2017.4.17 in /usr/local/lib64/python3.9/site-packages (from requests<3,>=2.21.0->tensorboard<2.16,>=2.15->tensorflow==2.15.0) (2025.1.31)\n",
      "Requirement already satisfied: urllib3<3,>=1.21.1 in /usr/local/lib64/python3.9/site-packages (from requests<3,>=2.21.0->tensorboard<2.16,>=2.15->tensorflow==2.15.0) (1.26.15)\n",
      "Requirement already satisfied: pyasn1<0.5.0,>=0.4.6 in /usr/local/lib64/python3.9/site-packages (from pyasn1-modules>=0.2.1->google-auth<3,>=1.6.3->tensorboard<2.16,>=2.15->tensorflow==2.15.0) (0.4.8)\n",
      "Requirement already satisfied: oauthlib>=3.0.0 in /usr/local/lib64/python3.9/site-packages (from requests-oauthlib>=0.7.0->google-auth-oauthlib<2,>=0.5->tensorboard<2.16,>=2.15->tensorflow==2.15.0) (3.1.0)\n",
      "Installing collected packages: google-auth, tensorboard-data-server, google-auth-oauthlib, tensorboard, ml-dtypes, keras, tensorflow\n",
      "  Attempting uninstall: google-auth\n",
      "    Found existing installation: google-auth 1.23.0\n",
      "    Not uninstalling google-auth at /usr/local/lib64/python3.9/site-packages, outside environment /mnt/yarn/usercache/livy/appcache/application_1747590181230_0007/container_1747590181230_0007_01_000001/tmp/spark-c10c4305-52e8-4e71-b791-68ad1f6b9c9b\n",
      "    Can't uninstall 'google-auth'. No files were found to uninstall.\n",
      "  Attempting uninstall: google-auth-oauthlib\n",
      "    Found existing installation: google-auth-oauthlib 0.4.2\n",
      "    Not uninstalling google-auth-oauthlib at /usr/local/lib64/python3.9/site-packages, outside environment /mnt/yarn/usercache/livy/appcache/application_1747590181230_0007/container_1747590181230_0007_01_000001/tmp/spark-c10c4305-52e8-4e71-b791-68ad1f6b9c9b\n",
      "    Can't uninstall 'google-auth-oauthlib'. No files were found to uninstall.\n",
      "  Attempting uninstall: tensorboard\n",
      "    Found existing installation: tensorboard 2.16.1\n",
      "    Not uninstalling tensorboard at /usr/local/lib64/python3.9/site-packages, outside environment /mnt/yarn/usercache/livy/appcache/application_1747590181230_0007/container_1747590181230_0007_01_000001/tmp/spark-c10c4305-52e8-4e71-b791-68ad1f6b9c9b\n",
      "    Can't uninstall 'tensorboard'. No files were found to uninstall.\n",
      "  Attempting uninstall: ml-dtypes\n",
      "    Found existing installation: ml-dtypes 0.3.2\n",
      "    Not uninstalling ml-dtypes at /usr/local/lib64/python3.9/site-packages, outside environment /mnt/yarn/usercache/livy/appcache/application_1747590181230_0007/container_1747590181230_0007_01_000001/tmp/spark-c10c4305-52e8-4e71-b791-68ad1f6b9c9b\n",
      "    Can't uninstall 'ml-dtypes'. No files were found to uninstall.\n",
      "  Attempting uninstall: keras\n",
      "    Found existing installation: keras 3.0.0\n",
      "    Not uninstalling keras at /usr/local/lib64/python3.9/site-packages, outside environment /mnt/yarn/usercache/livy/appcache/application_1747590181230_0007/container_1747590181230_0007_01_000001/tmp/spark-c10c4305-52e8-4e71-b791-68ad1f6b9c9b\n",
      "    Can't uninstall 'keras'. No files were found to uninstall.\n",
      "  Attempting uninstall: tensorflow\n",
      "    Found existing installation: tensorflow 2.16.1\n",
      "    Not uninstalling tensorflow at /usr/local/lib64/python3.9/site-packages, outside environment /mnt/yarn/usercache/livy/appcache/application_1747590181230_0007/container_1747590181230_0007_01_000001/tmp/spark-c10c4305-52e8-4e71-b791-68ad1f6b9c9b\n",
      "    Can't uninstall 'tensorflow'. No files were found to uninstall.\n",
      "Successfully installed google-auth-2.40.1 google-auth-oauthlib-1.2.2 keras-2.15.0 ml-dtypes-0.2.0 tensorboard-2.15.2 tensorboard-data-server-0.7.2 tensorflow-2.15.0\n",
      "\n",
      "WARNING: The directory '/home/.cache/pip' or its parent directory is not owned or is not writable by the current user. The cache has been disabled. Check the permissions and owner of that directory. If executing pip with sudo, you should use sudo's -H flag."
     ]
    }
   ],
   "source": [
    "sc.install_pypi_package(\"tensorflow==2.15.0\")"
   ]
  },
  {
   "cell_type": "code",
   "execution_count": 3,
   "id": "28c4653b-5ba6-4342-b44e-f0d6c0ccb565",
   "metadata": {
    "execution": {
     "iopub.execute_input": "2025-05-18T18:18:50.509531Z",
     "iopub.status.busy": "2025-05-18T18:18:50.509254Z",
     "iopub.status.idle": "2025-05-18T18:19:07.871592Z",
     "shell.execute_reply": "2025-05-18T18:19:07.870845Z",
     "shell.execute_reply.started": "2025-05-18T18:18:50.509492Z"
    },
    "tags": []
   },
   "outputs": [
    {
     "data": {
      "application/vnd.jupyter.widget-view+json": {
       "model_id": "804e7304e30e4eb6ad2300a3228f722f",
       "version_major": 2,
       "version_minor": 0
      },
      "text/plain": [
       "VBox()"
      ]
     },
     "metadata": {},
     "output_type": "display_data"
    },
    {
     "data": {
      "application/vnd.jupyter.widget-view+json": {
       "model_id": "",
       "version_major": 2,
       "version_minor": 0
      },
      "text/plain": [
       "FloatProgress(value=0.0, bar_style='info', description='Progress:', layout=Layout(height='25px', width='50%'),…"
      ]
     },
     "metadata": {},
     "output_type": "display_data"
    },
    {
     "name": "stdout",
     "output_type": "stream",
     "text": [
      "Collecting scikit-learn\n",
      "  Downloading scikit_learn-1.6.1-cp39-cp39-manylinux_2_17_x86_64.manylinux2014_x86_64.whl (13.5 MB)\n",
      "Requirement already satisfied: joblib>=1.2.0 in /usr/local/lib64/python3.9/site-packages (from scikit-learn) (1.4.2)\n",
      "Requirement already satisfied: numpy>=1.19.5 in /usr/local/lib64/python3.9/site-packages (from scikit-learn) (1.26.4)\n",
      "Collecting scipy>=1.6.0\n",
      "  Downloading scipy-1.13.1-cp39-cp39-manylinux_2_17_x86_64.manylinux2014_x86_64.whl (38.6 MB)\n",
      "Collecting threadpoolctl>=3.1.0\n",
      "  Downloading threadpoolctl-3.6.0-py3-none-any.whl (18 kB)\n",
      "Installing collected packages: threadpoolctl, scipy, scikit-learn\n",
      "Successfully installed scikit-learn-1.6.1 scipy-1.13.1 threadpoolctl-3.6.0\n",
      "\n",
      "WARNING: The directory '/home/.cache/pip' or its parent directory is not owned or is not writable by the current user. The cache has been disabled. Check the permissions and owner of that directory. If executing pip with sudo, you should use sudo's -H flag."
     ]
    }
   ],
   "source": [
    "sc.install_pypi_package(\"scikit-learn\")"
   ]
  },
  {
   "cell_type": "code",
   "execution_count": 4,
   "id": "9f6ebb3f-9d6e-4ac2-bd36-7fd19021781a",
   "metadata": {
    "execution": {
     "iopub.execute_input": "2025-05-18T18:19:07.872743Z",
     "iopub.status.busy": "2025-05-18T18:19:07.872578Z",
     "iopub.status.idle": "2025-05-18T18:19:10.142535Z",
     "shell.execute_reply": "2025-05-18T18:19:10.141686Z",
     "shell.execute_reply.started": "2025-05-18T18:19:07.872722Z"
    },
    "tags": []
   },
   "outputs": [
    {
     "data": {
      "application/vnd.jupyter.widget-view+json": {
       "model_id": "6e44d9b1d2c049c4b374e4689ce3e06e",
       "version_major": 2,
       "version_minor": 0
      },
      "text/plain": [
       "VBox()"
      ]
     },
     "metadata": {},
     "output_type": "display_data"
    },
    {
     "data": {
      "application/vnd.jupyter.widget-view+json": {
       "model_id": "",
       "version_major": 2,
       "version_minor": 0
      },
      "text/plain": [
       "FloatProgress(value=0.0, bar_style='info', description='Progress:', layout=Layout(height='25px', width='50%'),…"
      ]
     },
     "metadata": {},
     "output_type": "display_data"
    },
    {
     "name": "stdout",
     "output_type": "stream",
     "text": [
      "Requirement already satisfied: keras==2.15.0 in ./tmp/spark-c10c4305-52e8-4e71-b791-68ad1f6b9c9b/lib/python3.9/site-packages (2.15.0)\n",
      "\n",
      "WARNING: The directory '/home/.cache/pip' or its parent directory is not owned or is not writable by the current user. The cache has been disabled. Check the permissions and owner of that directory. If executing pip with sudo, you should use sudo's -H flag."
     ]
    }
   ],
   "source": [
    "sc.install_pypi_package(\"keras==2.15.0\")"
   ]
  },
  {
   "cell_type": "code",
   "execution_count": null,
   "id": "73c87219-ab10-43e4-9b69-77e2bc2e5483",
   "metadata": {
    "tags": []
   },
   "outputs": [],
   "source": [
    "import pandas as pd\n",
    "import tensorflow as tf\n",
    "from sklearn.model_selection import train_test_split"
   ]
  },
  {
   "cell_type": "code",
   "execution_count": 5,
   "id": "50e4587d-670a-4572-a863-34ae1e923dce",
   "metadata": {
    "execution": {
     "iopub.execute_input": "2025-05-18T18:19:23.527564Z",
     "iopub.status.busy": "2025-05-18T18:19:23.527340Z",
     "iopub.status.idle": "2025-05-18T18:19:28.816871Z",
     "shell.execute_reply": "2025-05-18T18:19:28.816105Z",
     "shell.execute_reply.started": "2025-05-18T18:19:23.527539Z"
    },
    "tags": []
   },
   "outputs": [
    {
     "data": {
      "application/vnd.jupyter.widget-view+json": {
       "model_id": "4a98fe876be84e39b6f2d5234ae5b8bb",
       "version_major": 2,
       "version_minor": 0
      },
      "text/plain": [
       "VBox()"
      ]
     },
     "metadata": {},
     "output_type": "display_data"
    },
    {
     "data": {
      "application/vnd.jupyter.widget-view+json": {
       "model_id": "",
       "version_major": 2,
       "version_minor": 0
      },
      "text/plain": [
       "FloatProgress(value=0.0, bar_style='info', description='Progress:', layout=Layout(height='25px', width='50%'),…"
      ]
     },
     "metadata": {},
     "output_type": "display_data"
    },
    {
     "name": "stdout",
     "output_type": "stream",
     "text": [
      "DataFrame[JobID: string, UserID: string, label: int, WindowID: int, user_vec_array: array<double>, job_vec_array: array<double>, user_0: double, job_0: double, user_1: double, job_1: double, user_2: double, job_2: double, user_3: double, job_3: double, user_4: double, job_4: double, user_5: double, job_5: double, user_6: double, job_6: double, user_7: double, job_7: double, user_8: double, job_8: double, user_9: double, job_9: double, user_10: double, job_10: double, user_11: double, job_11: double, user_12: double, job_12: double, user_13: double, job_13: double, user_14: double, job_14: double, user_15: double, job_15: double, user_16: double, job_16: double, user_17: double, job_17: double, user_18: double, job_18: double, user_19: double, job_19: double, user_20: double, job_20: double, user_21: double, job_21: double, user_22: double, job_22: double, user_23: double, job_23: double, user_24: double, job_24: double, user_25: double, job_25: double, user_26: double, job_26: double, user_27: double, job_27: double, user_28: double, job_28: double, user_29: double, job_29: double, user_30: double, job_30: double, user_31: double, job_31: double, user_32: double, job_32: double, user_33: double, job_33: double, user_34: double, job_34: double, user_35: double, job_35: double, user_36: double, job_36: double, user_37: double, job_37: double, user_38: double, job_38: double, user_39: double, job_39: double, user_40: double, job_40: double, user_41: double, job_41: double, user_42: double, job_42: double, user_43: double, job_43: double, user_44: double, job_44: double, user_45: double, job_45: double, user_46: double, job_46: double, user_47: double, job_47: double, user_48: double, job_48: double, user_49: double, job_49: double, user_50: double, job_50: double, user_51: double, job_51: double, user_52: double, job_52: double, user_53: double, job_53: double, user_54: double, job_54: double, user_55: double, job_55: double, user_56: double, job_56: double, user_57: double, job_57: double, user_58: double, job_58: double, user_59: double, job_59: double, user_60: double, job_60: double, user_61: double, job_61: double, user_62: double, job_62: double, user_63: double, job_63: double, user_64: double, job_64: double, user_65: double, job_65: double, user_66: double, job_66: double, user_67: double, job_67: double, user_68: double, job_68: double, user_69: double, job_69: double, user_70: double, job_70: double, user_71: double, job_71: double, user_72: double, job_72: double, user_73: double, job_73: double, user_74: double, job_74: double, user_75: double, job_75: double, user_76: double, job_76: double, user_77: double, job_77: double, user_78: double, job_78: double, user_79: double, job_79: double, user_80: double, job_80: double, user_81: double, job_81: double, user_82: double, job_82: double, user_83: double, job_83: double, user_84: double, job_84: double, user_85: double, job_85: double, user_86: double, job_86: double, user_87: double, job_87: double, user_88: double, job_88: double, user_89: double, job_89: double, user_90: double, job_90: double, user_91: double, job_91: double, user_92: double, job_92: double, user_93: double, job_93: double, user_94: double, job_94: double, user_95: double, job_95: double, user_96: double, job_96: double, user_97: double, job_97: double, user_98: double, job_98: double, user_99: double, job_99: double]"
     ]
    }
   ],
   "source": [
    "df_spark = spark.read.parquet(\"s3://aws-emr-studio-201107706822-us-east-1/1746053900403/e-6HYCE3WANA8IROUS7NBVDSOU4/processed/training_data/training_data_6/\")\n",
    "df_spark"
   ]
  },
  {
   "cell_type": "code",
   "execution_count": 6,
   "id": "887786f1-5aa1-400c-acea-83cf3689689d",
   "metadata": {
    "execution": {
     "iopub.execute_input": "2025-05-18T18:19:33.737908Z",
     "iopub.status.busy": "2025-05-18T18:19:33.737543Z",
     "iopub.status.idle": "2025-05-18T18:19:39.019235Z",
     "shell.execute_reply": "2025-05-18T18:19:39.018591Z",
     "shell.execute_reply.started": "2025-05-18T18:19:33.737880Z"
    },
    "tags": []
   },
   "outputs": [
    {
     "data": {
      "application/vnd.jupyter.widget-view+json": {
       "model_id": "f51d67bb7efa4e9994d7339292560a09",
       "version_major": 2,
       "version_minor": 0
      },
      "text/plain": [
       "VBox()"
      ]
     },
     "metadata": {},
     "output_type": "display_data"
    },
    {
     "data": {
      "application/vnd.jupyter.widget-view+json": {
       "model_id": "",
       "version_major": 2,
       "version_minor": 0
      },
      "text/plain": [
       "FloatProgress(value=0.0, bar_style='info', description='Progress:', layout=Layout(height='25px', width='50%'),…"
      ]
     },
     "metadata": {},
     "output_type": "display_data"
    }
   ],
   "source": [
    "df = df_spark.limit(1000).toPandas()"
   ]
  },
  {
   "cell_type": "code",
   "execution_count": 14,
   "id": "e1668d48-a3f0-4f35-9aa7-9e5a02307071",
   "metadata": {
    "execution": {
     "iopub.execute_input": "2025-05-18T18:24:54.666622Z",
     "iopub.status.busy": "2025-05-18T18:24:54.666381Z",
     "iopub.status.idle": "2025-05-18T18:24:55.426167Z",
     "shell.execute_reply": "2025-05-18T18:24:55.425525Z",
     "shell.execute_reply.started": "2025-05-18T18:24:54.666595Z"
    },
    "tags": []
   },
   "outputs": [
    {
     "data": {
      "application/vnd.jupyter.widget-view+json": {
       "model_id": "ca35aeedf1fd475f958245d12c7f9b0e",
       "version_major": 2,
       "version_minor": 0
      },
      "text/plain": [
       "VBox()"
      ]
     },
     "metadata": {},
     "output_type": "display_data"
    },
    {
     "data": {
      "application/vnd.jupyter.widget-view+json": {
       "model_id": "",
       "version_major": 2,
       "version_minor": 0
      },
      "text/plain": [
       "FloatProgress(value=0.0, bar_style='info', description='Progress:', layout=Layout(height='25px', width='50%'),…"
      ]
     },
     "metadata": {},
     "output_type": "display_data"
    }
   ],
   "source": [
    "import tensorflow as tf\n",
    "from sklearn.model_selection import train_test_split\n",
    "import numpy as np\n",
    "\n",
    "# Combine the user and job columns row by row\n",
    "X = df[user_cols + job_cols].apply(\n",
    "    lambda row: np.concatenate([np.array(x) if isinstance(x, list) else np.array([x]) for x in row]), axis=1\n",
    ")\n",
    "\n",
    "# Now convert to NumPy array (each row is a flat vector)\n",
    "X = np.stack(X.values)\n",
    "\n",
    "# Labels (this is likely already fine)\n",
    "y = df[\"label\"].values"
   ]
  },
  {
   "cell_type": "code",
   "execution_count": 15,
   "id": "ca8093cf-c691-473e-9f46-2a313fbfad75",
   "metadata": {
    "execution": {
     "iopub.execute_input": "2025-05-18T18:25:02.768166Z",
     "iopub.status.busy": "2025-05-18T18:25:02.767884Z",
     "iopub.status.idle": "2025-05-18T18:25:02.818331Z",
     "shell.execute_reply": "2025-05-18T18:25:02.817687Z",
     "shell.execute_reply.started": "2025-05-18T18:25:02.768140Z"
    },
    "tags": []
   },
   "outputs": [
    {
     "data": {
      "application/vnd.jupyter.widget-view+json": {
       "model_id": "9ca5f811a18044469a4288cf5ee8499f",
       "version_major": 2,
       "version_minor": 0
      },
      "text/plain": [
       "VBox()"
      ]
     },
     "metadata": {},
     "output_type": "display_data"
    },
    {
     "data": {
      "application/vnd.jupyter.widget-view+json": {
       "model_id": "",
       "version_major": 2,
       "version_minor": 0
      },
      "text/plain": [
       "FloatProgress(value=0.0, bar_style='info', description='Progress:', layout=Layout(height='25px', width='50%'),…"
      ]
     },
     "metadata": {},
     "output_type": "display_data"
    }
   ],
   "source": [
    "# Train/val split\n",
    "X_train, X_val, y_train, y_val = train_test_split(X, y, test_size=0.2, random_state=42)"
   ]
  },
  {
   "cell_type": "code",
   "execution_count": 17,
   "id": "9bc913bd-3ffc-43e0-8040-65675f495ae1",
   "metadata": {
    "execution": {
     "iopub.execute_input": "2025-05-18T18:25:10.931146Z",
     "iopub.status.busy": "2025-05-18T18:25:10.930872Z",
     "iopub.status.idle": "2025-05-18T18:25:11.185542Z",
     "shell.execute_reply": "2025-05-18T18:25:11.184861Z",
     "shell.execute_reply.started": "2025-05-18T18:25:10.931119Z"
    },
    "tags": []
   },
   "outputs": [
    {
     "data": {
      "application/vnd.jupyter.widget-view+json": {
       "model_id": "76123d00cc6b435e862f17f8a74c42c7",
       "version_major": 2,
       "version_minor": 0
      },
      "text/plain": [
       "VBox()"
      ]
     },
     "metadata": {},
     "output_type": "display_data"
    },
    {
     "data": {
      "application/vnd.jupyter.widget-view+json": {
       "model_id": "",
       "version_major": 2,
       "version_minor": 0
      },
      "text/plain": [
       "FloatProgress(value=0.0, bar_style='info', description='Progress:', layout=Layout(height='25px', width='50%'),…"
      ]
     },
     "metadata": {},
     "output_type": "display_data"
    }
   ],
   "source": [
    "input_dim = X_train.shape[1]\n",
    "\n",
    "model = tf.keras.Sequential([\n",
    "    tf.keras.layers.Input(shape=(input_dim,)),\n",
    "    tf.keras.layers.Dense(256, activation='relu'),\n",
    "    tf.keras.layers.Dropout(0.3),\n",
    "    tf.keras.layers.Dense(128, activation='relu'),\n",
    "    tf.keras.layers.Dropout(0.3),\n",
    "    tf.keras.layers.Dense(64, activation='relu'),\n",
    "    tf.keras.layers.Dense(1, activation='sigmoid')\n",
    "])\n",
    "\n",
    "model.compile(\n",
    "    optimizer='adam',\n",
    "    loss='binary_crossentropy',\n",
    "    metrics=['accuracy', tf.keras.metrics.AUC(name=\"auc\")]\n",
    ")"
   ]
  },
  {
   "cell_type": "code",
   "execution_count": 16,
   "id": "dcd70528-ee56-4eaa-8c38-a98fd7d086a3",
   "metadata": {
    "execution": {
     "iopub.execute_input": "2025-05-18T18:25:05.812036Z",
     "iopub.status.busy": "2025-05-18T18:25:05.811664Z",
     "iopub.status.idle": "2025-05-18T18:25:05.875978Z",
     "shell.execute_reply": "2025-05-18T18:25:05.875111Z",
     "shell.execute_reply.started": "2025-05-18T18:25:05.811986Z"
    },
    "tags": []
   },
   "outputs": [
    {
     "data": {
      "application/vnd.jupyter.widget-view+json": {
       "model_id": "05c0f2affb3843179d48deb2782c2dfe",
       "version_major": 2,
       "version_minor": 0
      },
      "text/plain": [
       "VBox()"
      ]
     },
     "metadata": {},
     "output_type": "display_data"
    },
    {
     "data": {
      "application/vnd.jupyter.widget-view+json": {
       "model_id": "",
       "version_major": 2,
       "version_minor": 0
      },
      "text/plain": [
       "FloatProgress(value=0.0, bar_style='info', description='Progress:', layout=Layout(height='25px', width='50%'),…"
      ]
     },
     "metadata": {},
     "output_type": "display_data"
    },
    {
     "name": "stdout",
     "output_type": "stream",
     "text": [
      "array([[ 0.03113851, -0.00964772, -0.00950973, ...,  0.10390097,\n",
      "         0.03866764,  0.1502898 ],\n",
      "       [ 0.01453882, -0.03008598,  0.03395284, ...,  0.08840981,\n",
      "         0.08797282,  0.09977063],\n",
      "       [ 0.02504479, -0.0093492 ,  0.0120922 , ...,  0.02531434,\n",
      "        -0.04238244,  0.13309828],\n",
      "       ...,\n",
      "       [-0.02279923, -0.01912982,  0.03019753, ..., -0.11175292,\n",
      "         0.10144247,  0.45917628],\n",
      "       [ 0.01561314, -0.04328267,  0.00792752, ...,  0.08254002,\n",
      "         0.03158685,  0.13963719],\n",
      "       [ 0.02979145, -0.04652837,  0.00527034, ...,  0.01019265,\n",
      "        -0.0109596 ,  0.15495279]])"
     ]
    }
   ],
   "source": [
    "X_train"
   ]
  },
  {
   "cell_type": "code",
   "execution_count": 18,
   "id": "4a92e7b8-1354-4396-a637-ac731e061e80",
   "metadata": {
    "execution": {
     "iopub.execute_input": "2025-05-18T18:25:15.297470Z",
     "iopub.status.busy": "2025-05-18T18:25:15.297247Z",
     "iopub.status.idle": "2025-05-18T18:25:15.345181Z",
     "shell.execute_reply": "2025-05-18T18:25:15.344546Z",
     "shell.execute_reply.started": "2025-05-18T18:25:15.297446Z"
    },
    "tags": []
   },
   "outputs": [
    {
     "data": {
      "application/vnd.jupyter.widget-view+json": {
       "model_id": "00d84e88e8f7475191581ebf8984e14a",
       "version_major": 2,
       "version_minor": 0
      },
      "text/plain": [
       "VBox()"
      ]
     },
     "metadata": {},
     "output_type": "display_data"
    },
    {
     "data": {
      "application/vnd.jupyter.widget-view+json": {
       "model_id": "",
       "version_major": 2,
       "version_minor": 0
      },
      "text/plain": [
       "FloatProgress(value=0.0, bar_style='info', description='Progress:', layout=Layout(height='25px', width='50%'),…"
      ]
     },
     "metadata": {},
     "output_type": "display_data"
    },
    {
     "name": "stdout",
     "output_type": "stream",
     "text": [
      "array([[ 0.0262509 , -0.00067337, -0.0196966 , ..., -0.02847424,\n",
      "         0.03132371,  0.11821058],\n",
      "       [ 0.02504479, -0.0093492 ,  0.0120922 , ..., -0.13012983,\n",
      "        -0.11990716,  0.21138105],\n",
      "       [ 0.02504479, -0.0093492 ,  0.0120922 , ..., -0.11175292,\n",
      "         0.10144247,  0.45917628],\n",
      "       ...,\n",
      "       [-0.00047918, -0.01163639,  0.02591962, ...,  0.00978794,\n",
      "         0.0589384 ,  0.07353352],\n",
      "       [ 0.01360871, -0.03026879,  0.00205526, ...,  0.04154324,\n",
      "         0.07223233,  0.11907196],\n",
      "       [ 0.04267806,  0.01914843,  0.03182328, ...,  0.07628706,\n",
      "         0.0238895 ,  0.09330546]])"
     ]
    }
   ],
   "source": [
    "X_val"
   ]
  },
  {
   "cell_type": "code",
   "execution_count": 19,
   "id": "6145b73d-0b1a-4459-ab3e-40cc9083e255",
   "metadata": {
    "execution": {
     "iopub.execute_input": "2025-05-18T18:25:17.580797Z",
     "iopub.status.busy": "2025-05-18T18:25:17.580473Z",
     "iopub.status.idle": "2025-05-18T18:25:19.858706Z",
     "shell.execute_reply": "2025-05-18T18:25:19.857905Z",
     "shell.execute_reply.started": "2025-05-18T18:25:17.580755Z"
    },
    "tags": []
   },
   "outputs": [
    {
     "data": {
      "application/vnd.jupyter.widget-view+json": {
       "model_id": "f12cd77f071b4a099875cced93a864e9",
       "version_major": 2,
       "version_minor": 0
      },
      "text/plain": [
       "VBox()"
      ]
     },
     "metadata": {},
     "output_type": "display_data"
    },
    {
     "data": {
      "application/vnd.jupyter.widget-view+json": {
       "model_id": "",
       "version_major": 2,
       "version_minor": 0
      },
      "text/plain": [
       "FloatProgress(value=0.0, bar_style='info', description='Progress:', layout=Layout(height='25px', width='50%'),…"
      ]
     },
     "metadata": {},
     "output_type": "display_data"
    },
    {
     "name": "stdout",
     "output_type": "stream",
     "text": [
      "Epoch 1/10\n",
      "7/7 [==============================] - 1s 41ms/step - loss: 0.6565 - accuracy: 0.6700 - auc: 0.5354 - val_loss: 0.5968 - val_accuracy: 0.7050 - val_auc: 0.6977\n",
      "Epoch 2/10\n",
      "7/7 [==============================] - 0s 7ms/step - loss: 0.6026 - accuracy: 0.6888 - auc: 0.6429 - val_loss: 0.5655 - val_accuracy: 0.7050 - val_auc: 0.8470\n",
      "Epoch 3/10\n",
      "7/7 [==============================] - 0s 7ms/step - loss: 0.5709 - accuracy: 0.6900 - auc: 0.7460 - val_loss: 0.5370 - val_accuracy: 0.7100 - val_auc: 0.8494\n",
      "Epoch 4/10\n",
      "7/7 [==============================] - 0s 7ms/step - loss: 0.5228 - accuracy: 0.7237 - auc: 0.8421 - val_loss: 0.4794 - val_accuracy: 0.7400 - val_auc: 0.8757\n",
      "Epoch 5/10\n",
      "7/7 [==============================] - 0s 7ms/step - loss: 0.4632 - accuracy: 0.7575 - auc: 0.8868 - val_loss: 0.4174 - val_accuracy: 0.8300 - val_auc: 0.9050\n",
      "Epoch 6/10\n",
      "7/7 [==============================] - 0s 7ms/step - loss: 0.3780 - accuracy: 0.8650 - auc: 0.9323 - val_loss: 0.3212 - val_accuracy: 0.8700 - val_auc: 0.9467\n",
      "Epoch 7/10\n",
      "7/7 [==============================] - 0s 7ms/step - loss: 0.2833 - accuracy: 0.9062 - auc: 0.9661 - val_loss: 0.2300 - val_accuracy: 0.9200 - val_auc: 0.9718\n",
      "Epoch 8/10\n",
      "7/7 [==============================] - 0s 7ms/step - loss: 0.1994 - accuracy: 0.9400 - auc: 0.9800 - val_loss: 0.1597 - val_accuracy: 0.9550 - val_auc: 0.9848\n",
      "Epoch 9/10\n",
      "7/7 [==============================] - 0s 7ms/step - loss: 0.1505 - accuracy: 0.9413 - auc: 0.9854 - val_loss: 0.1053 - val_accuracy: 0.9650 - val_auc: 0.9940\n",
      "Epoch 10/10\n",
      "7/7 [==============================] - 0s 7ms/step - loss: 0.1091 - accuracy: 0.9600 - auc: 0.9923 - val_loss: 0.1052 - val_accuracy: 0.9550 - val_auc: 0.9972"
     ]
    }
   ],
   "source": [
    "history = model.fit(\n",
    "    X_train, y_train,\n",
    "    validation_data=(X_val, y_val),\n",
    "    batch_size=128,\n",
    "    epochs=10\n",
    ")"
   ]
  },
  {
   "cell_type": "code",
   "execution_count": 20,
   "id": "1758f67f-11b1-4e36-a03e-93c4ab071cec",
   "metadata": {
    "execution": {
     "iopub.execute_input": "2025-05-18T18:25:27.238137Z",
     "iopub.status.busy": "2025-05-18T18:25:27.237887Z",
     "iopub.status.idle": "2025-05-18T18:25:27.489765Z",
     "shell.execute_reply": "2025-05-18T18:25:27.488972Z",
     "shell.execute_reply.started": "2025-05-18T18:25:27.238113Z"
    },
    "tags": []
   },
   "outputs": [
    {
     "data": {
      "application/vnd.jupyter.widget-view+json": {
       "model_id": "3653b123093e4c29bd800f5dfebcbea9",
       "version_major": 2,
       "version_minor": 0
      },
      "text/plain": [
       "VBox()"
      ]
     },
     "metadata": {},
     "output_type": "display_data"
    },
    {
     "data": {
      "application/vnd.jupyter.widget-view+json": {
       "model_id": "",
       "version_major": 2,
       "version_minor": 0
      },
      "text/plain": [
       "FloatProgress(value=0.0, bar_style='info', description='Progress:', layout=Layout(height='25px', width='50%'),…"
      ]
     },
     "metadata": {},
     "output_type": "display_data"
    },
    {
     "name": "stdout",
     "output_type": "stream",
     "text": [
      "7/7 [==============================] - 0s 2ms/step - loss: 0.1052 - accuracy: 0.9550 - auc: 0.9972\n",
      "Validation Accuracy: 0.9550, AUC: 0.9972"
     ]
    }
   ],
   "source": [
    "loss, accuracy, auc = model.evaluate(X_val, y_val)\n",
    "print(f\"Validation Accuracy: {accuracy:.4f}, AUC: {auc:.4f}\")"
   ]
  },
  {
   "cell_type": "code",
   "execution_count": 21,
   "id": "12aa45c2-eab5-424c-a36c-6d475a34ffad",
   "metadata": {
    "execution": {
     "iopub.execute_input": "2025-05-18T18:25:30.604251Z",
     "iopub.status.busy": "2025-05-18T18:25:30.604024Z",
     "iopub.status.idle": "2025-05-18T18:25:31.864118Z",
     "shell.execute_reply": "2025-05-18T18:25:31.863515Z",
     "shell.execute_reply.started": "2025-05-18T18:25:30.604226Z"
    },
    "tags": []
   },
   "outputs": [
    {
     "data": {
      "application/vnd.jupyter.widget-view+json": {
       "model_id": "aecf1fc02587412e8527d3a313e330e8",
       "version_major": 2,
       "version_minor": 0
      },
      "text/plain": [
       "VBox()"
      ]
     },
     "metadata": {},
     "output_type": "display_data"
    },
    {
     "data": {
      "application/vnd.jupyter.widget-view+json": {
       "model_id": "",
       "version_major": 2,
       "version_minor": 0
      },
      "text/plain": [
       "FloatProgress(value=0.0, bar_style='info', description='Progress:', layout=Layout(height='25px', width='50%'),…"
      ]
     },
     "metadata": {},
     "output_type": "display_data"
    }
   ],
   "source": [
    "model.save(\"mlp_recommender_tf_model_6\")"
   ]
  },
  {
   "cell_type": "code",
   "execution_count": 23,
   "id": "23dee8de-a58e-4f27-a873-cc81ed5a45d6",
   "metadata": {
    "execution": {
     "iopub.execute_input": "2025-05-18T18:27:10.276961Z",
     "iopub.status.busy": "2025-05-18T18:27:10.276742Z",
     "iopub.status.idle": "2025-05-18T18:27:15.567651Z",
     "shell.execute_reply": "2025-05-18T18:27:15.566881Z",
     "shell.execute_reply.started": "2025-05-18T18:27:10.276938Z"
    },
    "tags": []
   },
   "outputs": [
    {
     "data": {
      "application/vnd.jupyter.widget-view+json": {
       "model_id": "82df6a827b5d489b879290c9128103e2",
       "version_major": 2,
       "version_minor": 0
      },
      "text/plain": [
       "VBox()"
      ]
     },
     "metadata": {},
     "output_type": "display_data"
    },
    {
     "data": {
      "application/vnd.jupyter.widget-view+json": {
       "model_id": "",
       "version_major": 2,
       "version_minor": 0
      },
      "text/plain": [
       "FloatProgress(value=0.0, bar_style='info', description='Progress:', layout=Layout(height='25px', width='50%'),…"
      ]
     },
     "metadata": {},
     "output_type": "display_data"
    },
    {
     "name": "stdout",
     "output_type": "stream",
     "text": [
      "Collecting boto3\n",
      "  Downloading boto3-1.38.18-py3-none-any.whl (139 kB)\n",
      "Collecting s3transfer<0.13.0,>=0.12.0\n",
      "  Downloading s3transfer-0.12.0-py3-none-any.whl (84 kB)\n",
      "Requirement already satisfied: jmespath<2.0.0,>=0.7.1 in /usr/local/lib/python3.9/site-packages (from boto3) (1.0.1)\n",
      "Collecting botocore<1.39.0,>=1.38.18\n",
      "  Downloading botocore-1.38.18-py3-none-any.whl (13.6 MB)\n",
      "Requirement already satisfied: python-dateutil<3.0.0,>=2.1 in ./tmp/spark-c10c4305-52e8-4e71-b791-68ad1f6b9c9b/lib/python3.9/site-packages (from botocore<1.39.0,>=1.38.18->boto3) (2.9.0.post0)\n",
      "Requirement already satisfied: urllib3<1.27,>=1.25.4 in /usr/local/lib64/python3.9/site-packages (from botocore<1.39.0,>=1.38.18->boto3) (1.26.15)\n",
      "Requirement already satisfied: six>=1.5 in /usr/local/lib/python3.9/site-packages (from python-dateutil<3.0.0,>=2.1->botocore<1.39.0,>=1.38.18->boto3) (1.13.0)\n",
      "Installing collected packages: botocore, s3transfer, boto3\n",
      "Successfully installed boto3-1.38.18 botocore-1.38.18 s3transfer-0.12.0\n",
      "\n",
      "WARNING: The directory '/home/.cache/pip' or its parent directory is not owned or is not writable by the current user. The cache has been disabled. Check the permissions and owner of that directory. If executing pip with sudo, you should use sudo's -H flag."
     ]
    }
   ],
   "source": [
    "sc.install_pypi_package(\"boto3\")\n"
   ]
  },
  {
   "cell_type": "code",
   "execution_count": 26,
   "id": "cb46569b-a251-4b24-9d29-07257ce64652",
   "metadata": {
    "execution": {
     "iopub.execute_input": "2025-05-18T18:29:49.871344Z",
     "iopub.status.busy": "2025-05-18T18:29:49.871110Z",
     "iopub.status.idle": "2025-05-18T18:29:50.123881Z",
     "shell.execute_reply": "2025-05-18T18:29:50.123183Z",
     "shell.execute_reply.started": "2025-05-18T18:29:49.871319Z"
    },
    "tags": []
   },
   "outputs": [
    {
     "data": {
      "application/vnd.jupyter.widget-view+json": {
       "model_id": "444466ad6b9244a3bcfd3cd6476c362d",
       "version_major": 2,
       "version_minor": 0
      },
      "text/plain": [
       "VBox()"
      ]
     },
     "metadata": {},
     "output_type": "display_data"
    },
    {
     "data": {
      "application/vnd.jupyter.widget-view+json": {
       "model_id": "",
       "version_major": 2,
       "version_minor": 0
      },
      "text/plain": [
       "FloatProgress(value=0.0, bar_style='info', description='Progress:', layout=Layout(height='25px', width='50%'),…"
      ]
     },
     "metadata": {},
     "output_type": "display_data"
    }
   ],
   "source": [
    "import boto3\n",
    "import shutil\n",
    "\n",
    "# Variables\n",
    "bucket_name = 'aws-emr-studio-201107706822-us-east-1'\n",
    "key = '1746053900403/e-6HYCE3WANA8IROUS7NBVDSOU4/processed/models/mlp_recommender_tf_model_6.tar.gz'\n",
    "\n",
    "# Create archive\n",
    "shutil.make_archive('mlp_recommender_tf_model_6', 'gztar', 'mlp_recommender_tf_model_6')\n",
    "\n",
    "# Upload using boto3\n",
    "s3 = boto3.client('s3')\n",
    "s3.upload_file('mlp_recommender_tf_model_6.tar.gz', bucket_name, key)"
   ]
  }
 ],
 "metadata": {
  "kernelspec": {
   "display_name": "PySpark",
   "language": "python",
   "name": "pysparkkernel"
  },
  "language_info": {
   "codemirror_mode": {
    "name": "python",
    "version": 3
   },
   "file_extension": ".py",
   "mimetype": "text/x-python",
   "name": "pyspark",
   "pygments_lexer": "python3"
  }
 },
 "nbformat": 4,
 "nbformat_minor": 5
}
