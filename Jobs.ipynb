{
 "cells": [
  {
   "cell_type": "code",
   "execution_count": 1,
   "id": "14c7978c",
   "metadata": {
    "execution": {
     "iopub.execute_input": "2025-05-07T22:27:26.224023Z",
     "iopub.status.busy": "2025-05-07T22:27:26.223218Z",
     "iopub.status.idle": "2025-05-07T22:28:04.937224Z",
     "shell.execute_reply": "2025-05-07T22:28:04.936460Z",
     "shell.execute_reply.started": "2025-05-07T22:27:26.223965Z"
    },
    "tags": [],
    "vscode": {
     "languageId": "plaintext"
    }
   },
   "outputs": [
    {
     "data": {
      "application/vnd.jupyter.widget-view+json": {
       "model_id": "0cc19585f073493d85a7ca5cddf0fa06",
       "version_major": 2,
       "version_minor": 0
      },
      "text/plain": [
       "VBox()"
      ]
     },
     "metadata": {},
     "output_type": "display_data"
    },
    {
     "name": "stdout",
     "output_type": "stream",
     "text": [
      "Starting Spark application\n"
     ]
    },
    {
     "data": {
      "text/html": [
       "<table>\n",
       "<tbody><tr><th>ID</th><th>YARN Application ID</th><th>Kind</th><th>State</th><th>Spark UI</th><th>Driver log</th><th>User</th><th>Current session?</th></tr><tr><td>2</td><td>application_1746654698499_0003</td><td>pyspark</td><td>idle</td><td><a target=\"_blank\" href=\"http://ip-172-31-44-133.ec2.internal:20888/proxy/application_1746654698499_0003/\" class=\"emr-proxy-link j-3VOR6V69EUK5I application_1746654698499_0003\" emr-resource=\"j-3VOR6V69EUK5I\n",
       "\" application-id=\"application_1746654698499_0003\">Link</a></td><td><a target=\"_blank\" href=\"http://ip-172-31-38-255.ec2.internal:8042/node/containerlogs/container_1746654698499_0003_01_000001/livy\">Link</a></td><td>None</td><td>✔</td></tr></tbody></table>"
      ],
      "text/plain": [
       "<IPython.core.display.HTML object>"
      ]
     },
     "metadata": {},
     "output_type": "display_data"
    },
    {
     "data": {
      "application/vnd.jupyter.widget-view+json": {
       "model_id": "",
       "version_major": 2,
       "version_minor": 0
      },
      "text/plain": [
       "FloatProgress(value=0.0, bar_style='info', description='Progress:', layout=Layout(height='25px', width='50%'),…"
      ]
     },
     "metadata": {},
     "output_type": "display_data"
    },
    {
     "name": "stdout",
     "output_type": "stream",
     "text": [
      "SparkSession available as 'spark'.\n"
     ]
    },
    {
     "data": {
      "application/vnd.jupyter.widget-view+json": {
       "model_id": "",
       "version_major": 2,
       "version_minor": 0
      },
      "text/plain": [
       "FloatProgress(value=0.0, bar_style='info', description='Progress:', layout=Layout(height='25px', width='50%'),…"
      ]
     },
     "metadata": {},
     "output_type": "display_data"
    }
   ],
   "source": [
    "from pyspark.sql import SparkSession\n",
    "from pyspark.sql.functions import regexp_replace\n",
    "# Initialize Spark session\n",
    "spark = SparkSession.builder \\\n",
    "    .appName(\"Jobs\") \\\n",
    "    .getOrCreate()"
   ]
  },
  {
   "cell_type": "code",
   "execution_count": 2,
   "id": "f4f61fac",
   "metadata": {
    "execution": {
     "iopub.execute_input": "2025-05-07T22:28:04.938459Z",
     "iopub.status.busy": "2025-05-07T22:28:04.938298Z",
     "iopub.status.idle": "2025-05-07T22:28:04.983704Z",
     "shell.execute_reply": "2025-05-07T22:28:04.983002Z",
     "shell.execute_reply.started": "2025-05-07T22:28:04.938437Z"
    },
    "tags": [],
    "vscode": {
     "languageId": "plaintext"
    }
   },
   "outputs": [
    {
     "data": {
      "application/vnd.jupyter.widget-view+json": {
       "model_id": "27b678b7349f45a0bd28d18a53ae1fcb",
       "version_major": 2,
       "version_minor": 0
      },
      "text/plain": [
       "VBox()"
      ]
     },
     "metadata": {},
     "output_type": "display_data"
    },
    {
     "data": {
      "application/vnd.jupyter.widget-view+json": {
       "model_id": "",
       "version_major": 2,
       "version_minor": 0
      },
      "text/plain": [
       "FloatProgress(value=0.0, bar_style='info', description='Progress:', layout=Layout(height='25px', width='50%'),…"
      ]
     },
     "metadata": {},
     "output_type": "display_data"
    }
   ],
   "source": [
    "s3_path = \"s3://aws-emr-studio-201107706822-us-east-1/1746053900403/e-6HYCE3WANA8IROUS7NBVDSOU4/jobs_csv/window_5.csv\"\n",
    "output_base_path = \"s3://aws-emr-studio-201107706822-us-east-1/1746053900403/e-6HYCE3WANA8IROUS7NBVDSOU4/processed/windows/\""
   ]
  },
  {
   "cell_type": "code",
   "execution_count": 3,
   "id": "4b812a3e-2abd-4408-b298-6293ec433a33",
   "metadata": {
    "execution": {
     "iopub.execute_input": "2025-05-07T22:28:04.985202Z",
     "iopub.status.busy": "2025-05-07T22:28:04.985034Z",
     "iopub.status.idle": "2025-05-07T22:28:18.296905Z",
     "shell.execute_reply": "2025-05-07T22:28:18.296334Z",
     "shell.execute_reply.started": "2025-05-07T22:28:04.985180Z"
    },
    "tags": []
   },
   "outputs": [
    {
     "data": {
      "application/vnd.jupyter.widget-view+json": {
       "model_id": "53601644a35e45f48b5d8454b6c41194",
       "version_major": 2,
       "version_minor": 0
      },
      "text/plain": [
       "VBox()"
      ]
     },
     "metadata": {},
     "output_type": "display_data"
    },
    {
     "data": {
      "application/vnd.jupyter.widget-view+json": {
       "model_id": "",
       "version_major": 2,
       "version_minor": 0
      },
      "text/plain": [
       "FloatProgress(value=0.0, bar_style='info', description='Progress:', layout=Layout(height='25px', width='50%'),…"
      ]
     },
     "metadata": {},
     "output_type": "display_data"
    }
   ],
   "source": [
    "df = spark.read.csv(s3_path, header=True, inferSchema=True)"
   ]
  },
  {
   "cell_type": "code",
   "execution_count": 4,
   "id": "915f97ec-cdaf-4277-9292-07583803e4c9",
   "metadata": {
    "execution": {
     "iopub.execute_input": "2025-05-07T22:28:18.298298Z",
     "iopub.status.busy": "2025-05-07T22:28:18.298129Z",
     "iopub.status.idle": "2025-05-07T22:28:19.049744Z",
     "shell.execute_reply": "2025-05-07T22:28:19.049047Z",
     "shell.execute_reply.started": "2025-05-07T22:28:18.298276Z"
    },
    "tags": []
   },
   "outputs": [
    {
     "data": {
      "application/vnd.jupyter.widget-view+json": {
       "model_id": "bfba7500901343879de7d2ffd47a5dfa",
       "version_major": 2,
       "version_minor": 0
      },
      "text/plain": [
       "VBox()"
      ]
     },
     "metadata": {},
     "output_type": "display_data"
    },
    {
     "data": {
      "application/vnd.jupyter.widget-view+json": {
       "model_id": "",
       "version_major": 2,
       "version_minor": 0
      },
      "text/plain": [
       "FloatProgress(value=0.0, bar_style='info', description='Progress:', layout=Layout(height='25px', width='50%'),…"
      ]
     },
     "metadata": {},
     "output_type": "display_data"
    },
    {
     "name": "stdout",
     "output_type": "stream",
     "text": [
      "+-----+--------+--------------------+--------------------+--------------------+-------------+-----+-------+-----+--------------------+-------------------+\n",
      "|JobID|WindowID|               Title|         Description|        Requirements|         City|State|Country| Zip5|           StartDate|            EndDate|\n",
      "+-----+--------+--------------------+--------------------+--------------------+-------------+-----+-------+-----+--------------------+-------------------+\n",
      "|  146|       5|                  RN|<b>    <b>RN</b> ...|We are searching ...|     Longwood|   FL|     US|32779|2012-04-27 13:06:...|2012-05-26 23:59:59|\n",
      "|  148|       5|   Vacation Planners|DISCOVER DREAM JO...|Please refer to t...|      Orlando|   FL|     US| NULL|2012-04-28 09:01:...|2012-05-27 23:59:59|\n",
      "|  149|       5|       PHARMACY MGR.|<b>    <b>PHARMAC...|Please refer to t...|      Orlando|   FL|     US| NULL|2012-04-29 05:09:...|2012-05-28 23:59:59|\n",
      "|  151|       5|             PA/ARNP|PA/ARNP - BusyDer...|Please refer to t...| The Villages|   FL|     US|32162|2012-05-03 05:07:...|2012-06-02 23:59:59|\n",
      "|  158|       5|   ACTIVITY DIRECTOR|\"<b>    <b>ACTIVI...|Please refer to t...|     Longwood|   FL|     US|32750|2012-05-04 12:00:...|2012-06-03 23:59:59|\n",
      "|  162|       5|Clinician/Supervisor|CLINICIAN/ SUPERV...|Please refer to t...|      Orlando|   FL|     US| NULL|2012-05-06 08:55:...|2012-06-05 23:59:59|\n",
      "|  164|       5|      Credit Analyst|Credit Analyst Gr...|Please refer to t...|      Orlando|   FL|     US| NULL|2012-05-06 08:55:...|2012-06-05 23:59:59|\n",
      "|  170|       5|  RESERVATION AGENTS|<b><b>RESERVATION...|Please refer to t...|      Orlando|   FL|     US|32801|2012-05-09 14:51:...|2012-06-08 23:59:59|\n",
      "|  171|       5|       SALES MANAGER|SALES MANAGER - E...|Please refer to t...|      Orlando|   FL|     US|32810|2012-05-10 11:40:...|2012-06-09 23:59:59|\n",
      "|  173|       5|            Operator|Operator - Needed...|Please refer to t...|    Groveland|   FL|     US|34736|2012-05-11 01:17:...|2012-06-10 23:59:59|\n",
      "|  175|       5|REFURBISHMENT CAR...|<b>    <b>REFURBI...|MINIMUM REQUIREME...|     Longwood|   FL|     US|32779|2012-05-11 15:36:...|2012-06-10 23:59:59|\n",
      "|  176|       5|             Suspend|This job advertis...|This job advertis...|      Orlando|   FL|     US|32819|2012-05-11 16:07:...|2012-06-10 23:59:59|\n",
      "|  182|       5|Health Informatio...|HEALTH INFORMATIO...|Please refer to t...|      Orlando|   FL|     US| NULL|2012-05-12 09:00:...|2012-06-11 23:59:59|\n",
      "|  185|       5|   RUN FIREWORK TENT|\"<b>    <b>RUN FI...|Please refer to t...|        Tampa|   FL|     US|33603|2012-05-15 10:22:...|2012-06-14 23:59:00|\n",
      "|  186|       5|Construction Comp...|Comp controller  ...|Please refer to t...|       Oviedo|   FL|     US|32765|2012-05-16 11:10:...|2012-06-15 23:59:00|\n",
      "|  191|       5|Ophthalmic Techni...|Ophthalmic Techni...|Please refer to t...|  Orange City|   FL|     US|32763|2012-05-20 01:17:...|2012-06-19 23:59:00|\n",
      "|  193|       5|   MEDICAL ASSISTANT|<b>    <b>MEDICAL...|Please refer to t...|  Winter Park|   FL|     US|32792|2012-05-18 14:36:...|2012-06-17 23:59:00|\n",
      "|  197|       5|Senior Manager, A...|We are looking fo...|Please refer to t...|Daytona Beach|   FL|     US| NULL|2012-05-19 09:01:...|2012-06-18 23:59:00|\n",
      "|  200|       5|Outbound And Inbo...|SELL THE EXCITEME...|Please refer to t...|      Orlando|   FL|     US| NULL|2012-05-19 09:01:...|2012-06-18 23:59:00|\n",
      "|  203|       5|PARTS DELIVERY PE...|<b>    <b>PARTS D...|Please refer to t...|     Leesburg|   FL|     US|34748|2012-05-21 16:58:...|2012-06-20 23:59:00|\n",
      "+-----+--------+--------------------+--------------------+--------------------+-------------+-----+-------+-----+--------------------+-------------------+\n",
      "only showing top 20 rows"
     ]
    }
   ],
   "source": [
    "df.show()"
   ]
  },
  {
   "cell_type": "code",
   "execution_count": 5,
   "id": "a01d91c0-cbea-4440-8ad2-f5e9458c1af0",
   "metadata": {
    "execution": {
     "iopub.execute_input": "2025-05-07T22:28:19.050755Z",
     "iopub.status.busy": "2025-05-07T22:28:19.050595Z",
     "iopub.status.idle": "2025-05-07T22:28:19.297965Z",
     "shell.execute_reply": "2025-05-07T22:28:19.297341Z",
     "shell.execute_reply.started": "2025-05-07T22:28:19.050733Z"
    },
    "tags": []
   },
   "outputs": [
    {
     "data": {
      "application/vnd.jupyter.widget-view+json": {
       "model_id": "1e25e51c78b44239a05b802e1040ee21",
       "version_major": 2,
       "version_minor": 0
      },
      "text/plain": [
       "VBox()"
      ]
     },
     "metadata": {},
     "output_type": "display_data"
    },
    {
     "data": {
      "application/vnd.jupyter.widget-view+json": {
       "model_id": "",
       "version_major": 2,
       "version_minor": 0
      },
      "text/plain": [
       "FloatProgress(value=0.0, bar_style='info', description='Progress:', layout=Layout(height='25px', width='50%'),…"
      ]
     },
     "metadata": {},
     "output_type": "display_data"
    }
   ],
   "source": [
    "columns_to_drop = [\"City\", \"Country\", \"Zip5\", \"StartDate\", \"EndDate\"]\n",
    "df = df.drop(*columns_to_drop)"
   ]
  },
  {
   "cell_type": "code",
   "execution_count": 6,
   "id": "720f03c2-9757-4879-b74f-4b77720737c1",
   "metadata": {
    "execution": {
     "iopub.execute_input": "2025-05-07T22:28:19.299012Z",
     "iopub.status.busy": "2025-05-07T22:28:19.298838Z",
     "iopub.status.idle": "2025-05-07T22:28:20.060351Z",
     "shell.execute_reply": "2025-05-07T22:28:20.059754Z",
     "shell.execute_reply.started": "2025-05-07T22:28:19.298989Z"
    },
    "tags": []
   },
   "outputs": [
    {
     "data": {
      "application/vnd.jupyter.widget-view+json": {
       "model_id": "6a86710d5893438a8290e85b2ca43ea0",
       "version_major": 2,
       "version_minor": 0
      },
      "text/plain": [
       "VBox()"
      ]
     },
     "metadata": {},
     "output_type": "display_data"
    },
    {
     "data": {
      "application/vnd.jupyter.widget-view+json": {
       "model_id": "",
       "version_major": 2,
       "version_minor": 0
      },
      "text/plain": [
       "FloatProgress(value=0.0, bar_style='info', description='Progress:', layout=Layout(height='25px', width='50%'),…"
      ]
     },
     "metadata": {},
     "output_type": "display_data"
    },
    {
     "name": "stdout",
     "output_type": "stream",
     "text": [
      "+------------------------------------------------------------------------------------------------------------------------------------------------------------------------------------------------------------------------------------------------------------------------------------------------------------------------------------------------------------------------------------------------------------------------------------------------------------------------------------------------------------------------------------------------------------------------------------------------------------------------------------------------------------------------------------------------------------------------------------------------------------------------------------------------------------------------------------------------------------------------------------------------------------------------------------------------------------------------------------------------------------------------------------------------------------------------------------------------------------------------------------------------------------------------------------------------------------------------------------------------------------------------------------------------------------------------------------------------------------------------------------------------------------------------------------------------------------------------------------------------------------------------------------------------------------------------------------------------------------------------------------------------------------------------------------------------------------------------------------------------------------------------------------------------------------------------------------------------------------------------------------------------------------------------------------------------------------------------------------------------------------------------------------------------------------------------------------------------------------------------------------------------------------------------------------------------------------------------------------------------------------------------------------------------------------------------------------------------------------------------------------------------------------------------------------------------------------------------------------------------------------------------------------------------------------------------------------------------------+\n",
      "|description                                                                                                                                                                                                                                                                                                                                                                                                                                                                                                                                                                                                                                                                                                                                                                                                                                                                                                                                                                                                                                                                                                                                                                                                                                                                                                                                                                                                                                                                                                                                                                                                                                                                                                                                                                                                                                                                                                                                                                                                                                                                                                                                                                                                                                                                                                                                                                                                                                                                                                                                                                                           |\n",
      "+------------------------------------------------------------------------------------------------------------------------------------------------------------------------------------------------------------------------------------------------------------------------------------------------------------------------------------------------------------------------------------------------------------------------------------------------------------------------------------------------------------------------------------------------------------------------------------------------------------------------------------------------------------------------------------------------------------------------------------------------------------------------------------------------------------------------------------------------------------------------------------------------------------------------------------------------------------------------------------------------------------------------------------------------------------------------------------------------------------------------------------------------------------------------------------------------------------------------------------------------------------------------------------------------------------------------------------------------------------------------------------------------------------------------------------------------------------------------------------------------------------------------------------------------------------------------------------------------------------------------------------------------------------------------------------------------------------------------------------------------------------------------------------------------------------------------------------------------------------------------------------------------------------------------------------------------------------------------------------------------------------------------------------------------------------------------------------------------------------------------------------------------------------------------------------------------------------------------------------------------------------------------------------------------------------------------------------------------------------------------------------------------------------------------------------------------------------------------------------------------------------------------------------------------------------------------------------------------------+\n",
      "|    RN   —— FT/PT 3p - 11p inc. every other wkd for Village on the Green, Longwood. Nursing home exp. req. For appt, call                  407-571-5454. EOE/DFWP   WEB OS24822                               \\r\\n                \\r\\n                 Source - Orlando Sentinel                                                                                                                                                                                                                                                                                                                                                                                                                                                                                                                                                                                                                                                                                                                                                                                                                                                                                                                                                                                                                                                                                                                                                                                                                                                                                                                                                                                                                                                                                                                                                                                                                                                                                                                                                                                                                                                                                                                                                                                                                                                                                                                                                                                                                                                                                                                      |\n",
      "|DISCOVER DREAM JOBS IN VACATIONS New Full Time Day Opportunities Could you plan dream vacations that change lives? Can you take charge on the phone and get commitments? Are you the most positive person you know? Do you want to be recognized and rewarded for top achievement? Can you carry on a conversation with anyone you meet? Join the Marriott Vacation Club sales team today and start to enjoy uncapped earning potential! Come join us in a fun-filled, high energy environment selling discounted vacations to prequalified Marriott guests. Vacation Planners - FT and PT Day and Evening Shifts (No Weekends) ? Salary + commission + bonuses ? Paid training ? Full time positions with benefits available ? $1000 Bonus Potential ? Hotel Discounts ? Career Growth Opportunities ? Sales experience NOT required Marriott Vacations Worldwide is an equal opportunity employer committed to employing a diverse workforce and sustaining an inclusive culture. Marriott VACATION CLUB APPLY ONLINE AT http://ccmarketingjobs.vacationclub.com OR CALL 407.903.6422 Source - Orlando Sentinel                                                                                                                                                                                                                                                                                                                                                                                                                                                                                                                                                                                                                                                                                                                                                                                                                                                                                                                                                                                                                                                                                                                                                                                                                                                                                                                                                                                                                                                                                     |\n",
      "|    PHARMACY MGR.    ——  needed for Legacy Park Discount Pharmacy, LLC, Orlando, FL; FL licensed pharmacist to mnge, train & supervise pharmacy & pharmacy emplys. Will oversee comp. & disp. med., physician ph. calls, invent. mgmt., immuni.,conduct DUR, patient counsel'g & bill'g. Req. BS in pharmacy or foreign. equ. & 5 yrs exp. FT. Fax resume to Ashish@ 407-730-7995.                WEB OS16352                               \\r\\n                \\r\\n                 Source - Orlando Sentinel                                                                                                                                                                                                                                                                                                                                                                                                                                                                                                                                                                                                                                                                                                                                                                                                                                                                                                                                                                                                                                                                                                                                                                                                                                                                                                                                                                                                                                                                                                                                                                                                                                                                                                                                                                                                                                                                                                                                                                                                                                                                                        |\n",
      "|PA/ARNP - BusyDerm,Dermasurgery,Mohs practice looking for cert PA/ARNP to work in single physician off. Team oriented person with derm skills, Fl license and ability to work with senior population.  vdcs05@yahoo.com WEB OS72172BusyDerm,Dermasurgery,Mohs practice looking for cert PA/ARNP to work in single physician off.  Team oriented person with derm skills, Fl license and ability to work with senior population.                 \\n                \\n                 Source - Orlando Sentinel                                                                                                                                                                                                                                                                                                                                                                                                                                                                                                                                                                                                                                                                                                                                                                                                                                                                                                                                                                                                                                                                                                                                                                                                                                                                                                                                                                                                                                                                                                                                                                                                                                                                                                                                                                                                                                                                                                                                                                                                                                                                                        |\n",
      "|\"    ACTIVITY DIRECTOR   ——  for skilled nursing facility. Experience with geriatrics needed. Team player with managerial skills, great environment, competitive salary & benefits package. \\r\\n\\r\\nSend resume to:                           \\r\\n              kboudrie@gchc.com                WEB OS22037                               \\n                \\n                 Source - Orlando Sentinel\"                                                                                                                                                                                                                                                                                                                                                                                                                                                                                                                                                                                                                                                                                                                                                                                                                                                                                                                                                                                                                                                                                                                                                                                                                                                                                                                                                                                                                                                                                                                                                                                                                                                                                                                                                                                                                                                                                                                                                                                                                                                                                                                                                                                            |\n",
      "|CLINICIAN/ SUPERVISOR Experienced clinician/supervisor needed for mobile multidisciplinary team serving individuals with mental illness. Challenging and rewarding program. Requires adherence to evidence-based model and excellent team management skills. MA Degree and licensed Mental Health professional. Apply with LifeStream online at www.lsbc.net or at 515 W. Main. St., Leesburg. Life Stream Where Hope Comes to Life DFWP/EOE Source - Orlando Sentinel                                                                                                                                                                                                                                                                                                                                                                                                                                                                                                                                                                                                                                                                                                                                                                                                                                                                                                                                                                                                                                                                                                                                                                                                                                                                                                                                                                                                                                                                                                                                                                                                                                                                                                                                                                                                                                                                                                                                                                                                                                                                                                                                |\n",
      "|Credit Analyst Great Opportunity to join the Holding Company of two local, well capitalized Community Banks! Floridian Financial Group, Holding Company for Floridian Bank and Orange Bank of Florida is seeking a Credit Analyst that wants to enjoy an empowered working environment and participate in a local decision making process. If you want an opportunity to be part of a team that ?Makes a Difference?, please visit www.floridianbank.com or www.orangebankfl.com for a list of requirements and to request an application. Depending upon candidates, the position could be based in Orlando or Daytona Beach. EEO/AA M/F/D/V. Source - Orlando Sentinel                                                                                                                                                                                                                                                                                                                                                                                                                                                                                                                                                                                                                                                                                                                                                                                                                                                                                                                                                                                                                                                                                                                                                                                                                                                                                                                                                                                                                                                                                                                                                                                                                                                                                                                                                                                                                                                                                                                              |\n",
      "|RESERVATION AGENTS NEEDED  \\r\\nDo you have inside sales experience?\\r\\n\\r\\nIf you are flexible, dynamic, well spoken and driven we need you to fill our hotel reservations positions. \\r\\n\\r\\nInbound calls only, no cold calling.\\r\\n\\r\\nSecond language a plus!\\r\\n\\r\\nShift work is required and you must pass drug screening.\\r\\n\\r\\nCall Janet 407-641-0642 Monday to Friday 9am - 4pm.  \\r\\n\\r\\nPlease do not submit your resume online or via e-mail.\\r\\n                WEB OS26254                               \\r\\n                \\r\\n                 Source - Orlando Sentinel                                                                                                                                                                                                                                                                                                                                                                                                                                                                                                                                                                                                                                                                                                                                                                                                                                                                                                                                                                                                                                                                                                                                                                                                                                                                                                                                                                                                                                                                                                                                                                                                                                                                                                                                                                                                                                                                                                                                                                                                          |\n",
      "|SALES MANAGER - Experienced w/ Income Potential up to $300k. Fax Resume to 407-290-6316 or Email: Fran.NHC@cfl.rr.com WEB OS72579Experienced w/ Income Potential up to $300k. Fax Resume to 407-290-6316/Fran.NHC@cfl.rr.com                 \\n                \\n                 Source - Orlando Sentinel                                                                                                                                                                                                                                                                                                                                                                                                                                                                                                                                                                                                                                                                                                                                                                                                                                                                                                                                                                                                                                                                                                                                                                                                                                                                                                                                                                                                                                                                                                                                                                                                                                                                                                                                                                                                                                                                                                                                                                                                                                                                                                                                                                                                                                                                                           |\n",
      "|Operator - Needed F/T for sterilization operations at ISL in Groveland. 3rd shift. $12-$15/hr. 1+ yrs forklift & material handling exp req?d.  HS Diploma or equiv. req?d. Fax resumes to (941) 378-6637 or email nmattei@asocorp.com WEB OS68468Pay: $12/hr - $15/hr depending on experience. 3rd shift (7pm - 7am) - Must be flexible to work various shifts as needed.  Job Summary:   Position will be responsible for sterilization cycle operations.     Main Duties and Responsibilities: Processing Operations * Identifies product loads documenting batch records/numbers for each. * Using the Antares (DDI) computer system, starts identified sterilization cycles. * Responds to audible alarms noting possible over-temperatures/under-temperatures, vacuum levels, gas levels, and humidity calculations. * Calibrates gas usage (EO and Nitrogen) tracking lot numbers, and gas usage per cycle.  * Assist the QA Manager with validations. * Completes final batch records  Material Handling  * Assists the Material Handlers operating forklift or electric pallet jack equipment to load and unload cargo carriers. * Conducts visual inspections of the product received noting visual damages or irregularities. * May check-in product, labeling pallets/loads as they proceed in the various internal processing stations/areas. * Using electric pallet jacks, assists in staging product between preconditioning, the chambers, and aeration. * Conducts visual inspections of product as it passes between the various processing areas.  * May pull BI?s from sterilized product providing them to the QA Manager.    * May prepares product loads for shipment. * Maintains a safe, clean and organized warehouse environment. * Other duties as assigned.  Job Specifications: Education: High school diploma or equivalent required.  Experience: Previous computer experience using programs in DOS preferred. 1+ years of material handling experience in a warehouse environment preferred.  1+ years forklift / electric pallet jack experience and certification highly desired.     Skills & Abilities:  Must be able to calculate simple mathematical equations and use computer systems.  Must be able to speak, read and write English.  As well as be able to bend, stoop, and lift up to 50 pounds. Must be able to operate or be trained to operate electric pallet jacks / forklifts while maintaining a safe working environment.   Required to work a flexible schedule.                 \\n                \\n                 Source - Orlando Sentinel|\n",
      "|    REFURBISHMENT CARPENTER    ——  \\r\\n\\r\\nWe are searching for a FT Refurbishment Carpenter for our Plant  Department.  This is a temporary to permanent position. Hours are 7:30 am - 4:00 pm, Monday – Friday. with possible holidays, weekends to meet schedule requirements. If interested in this position, call or fax to HR 407-571-5430 or email to michele.carpenter@lifespacecommunities.com \\r\\n\\r\\nDUTIES NOT LIMITED TO INCLUDE:\\r\\nThe Refurbishment Carpenter is  responsible for constructing, erecting, installing, and repairing structures and fixtures of wood, plywood, and wallboard, using carpenter's hand tools and power tools, and conforming to local residential building codes: Must be proficient at rough framing, hanging doors, drilling and setting door hardware, setting windows, layout for stairs and common rafters, reading blueprints, utilizing appropriate math skills, able to read blueprints; installation of kitchen/vanity cabinets, installation of base board, window/door casing, chair rail, and crown.\\r\\n\\r\\n       EOE/DFWP  WEB OS18927                                \\r\\n                \\r\\n                 Source - Orlando Sentinel                                                                                                                                                                                                                                                                                                                                                                                                                                                                                                                                                                                                                                                                                                                                                                                                                                                                                                                                                                                                                                                                                                                                                                                                                                                                                                                                                                                                   |\n",
      "|This job advertisement is temporarily suspended.                                                                                                                                                                                                                                                                                                                                                                                                                                                                                                                                                                                                                                                                                                                                                                                                                                                                                                                                                                                                                                                                                                                                                                                                                                                                                                                                                                                                                                                                                                                                                                                                                                                                                                                                                                                                                                                                                                                                                                                                                                                                                                                                                                                                                                                                                                                                                                                                                                                                                                                                                      |\n",
      "|HEALTH INFORMATION COORDINATOR Maintains customer records containing all items required by State and Federal Regulations; coordinates release of information; and performs all necessary tasks associated with maintaining medical records in the Center. Requires high school degree or equivalent, previous experience in medical records, computer experience and knowledge of ICD 9 codes. Medical terminology knowledge preferred. We offer competitive compensation and an excellent benefit package. Visit www.opismr.com for more details about our company and our mission. Please apply to Island Lake Center, 155 Landover Place, Longwood, FL 32750. Ph: 407-830-7744. Fax: 407-830-7926. Email: CareersIsland@opismr.com. EOEM/F/D/V. Background screening and drug test done on premises. Island Lake Center Mission Matters Source - Orlando Sentinel                                                                                                                                                                                                                                                                                                                                                                                                                                                                                                                                                                                                                                                                                                                                                                                                                                                                                                                                                                                                                                                                                                                                                                                                                                                                                                                                                                                                                                                                                                                                                                                                                                                                                                                                  |\n",
      "|\"    RUN FIREWORK TENT   ——  Earn                            \\r\\n              thousands. Call 813-234-2264 or               \\r\\n              800-334-BANG.                 WEB OS21559              View Ad Video                 \\n                \\n                 Source - Orlando Sentinel\"                                                                                                                                                                                                                                                                                                                                                                                                                                                                                                                                                                                                                                                                                                                                                                                                                                                                                                                                                                                                                                                                                                                                                                                                                                                                                                                                                                                                                                                                                                                                                                                                                                                                                                                                                                                                                                                                                                                                                                                                                                                                                                                                                                                                                                                                                                   |\n",
      "|Comp controller  Must have accounting and computer skills. Job is for Masonry @ Concrete companyComp controller  Must have accounting and computer skills. Job is for Masonry @ Concrete company                 \\n                \\n                 Source - Orlando Sentinel                                                                                                                                                                                                                                                                                                                                                                                                                                                                                                                                                                                                                                                                                                                                                                                                                                                                                                                                                                                                                                                                                                                                                                                                                                                                                                                                                                                                                                                                                                                                                                                                                                                                                                                                                                                                                                                                                                                                                                                                                                                                                                                                                                                                                                                                                                                       |\n",
      "|Ophthalmic Technician - Manual refraction pref, exc pay/benefits.  Responses confidential.   Hturner00@gmail.com WEB OS72894Manual refraction preferred, excellent pay/benefits.  Resposes confidential.                 \\n                \\n                 Source - Orlando Sentinel                                                                                                                                                                                                                                                                                                                                                                                                                                                                                                                                                                                                                                                                                                                                                                                                                                                                                                                                                                                                                                                                                                                                                                                                                                                                                                                                                                                                                                                                                                                                                                                                                                                                                                                                                                                                                                                                                                                                                                                                                                                                                                                                                                                                                                                                                                               |\n",
      "|    MEDICAL ASSISTANT   ——  Exp & reliable PT for busy Winter Park family practice. Fax: 407-678-6710                WEB OS31167                               \\r\\n                \\r\\n                 Source - Orlando Sentinel                                                                                                                                                                                                                                                                                                                                                                                                                                                                                                                                                                                                                                                                                                                                                                                                                                                                                                                                                                                                                                                                                                                                                                                                                                                                                                                                                                                                                                                                                                                                                                                                                                                                                                                                                                                                                                                                                                                                                                                                                                                                                                                                                                                                                                                                                                                                                                     |\n",
      "|We are looking for a Senior Manager, Accounting to join our Finance team in NASCAR’s Daytona Beach, FL office.  \\r\\n \\r\\nResponsibilities include, but are not limited to the following:\\r\\n\\r\\n•\\tResponsible for overseeing accounts payable, general ledger and financial reporting functions.  \\r\\n•\\tReview consolidation and month end financial statements.\\r\\n•\\tAnalyze financial transactions in accordance with GAAP.\\r\\n•\\tOversee year-end audit including preparation of audited financial statements and footnotes.\\r\\n•\\tEnsure appropriate internal controls over corporate assets and records.  Recommend modifications to existing policies and procedures.\\r\\n•\\tSupport FP&A group with respect to certain areas of budgeting and forecasting.\\r\\n•\\tIdentify and execute improvements within the finance function.\\r\\n•\\tAssist with various financial analysis and projects.\\r\\n\\r\\n\\r\\nDesired Skills and Experience\\r\\n•\\tBachelor’s degree in Accounting.\\r\\n•\\tCPA preferred. \\r\\n•\\tMinimum 7 years experience in public accounting or a combination of public accounting and industry experience.   Experience with Big 4 or national audit firm desired.\\r\\n•\\tExcellent written and verbal communication skills.\\r\\n•\\tStrong managerial skills.\\r\\n•\\tExceptional judgment, problem-solving and decision making skills.\\r\\n•\\tExcellent computer skills.\\r\\n\\r\\n\\r\\n \\r\\nNASCAR offers an exciting fast paced environment with competitive pay and outstanding benefits including 401(k) eligibility after 30 days.\\r\\n \\r\\nFor immediate consideration, apply online at\\r\\nwww.employment.nascar.com \\r\\n\\r\\nEOE\\r\\n \\r\\nNASCAR is committed to fostering a diverse work environment where all employees feel valued and empowered.\\r\\n\\r\\n\\r\\nSource - Orlando Sentinel                                                                                                                                                                                                                                                                                                                                                                                                                                                                                                                                                                                                                                                                                                                                                                                             |\n",
      "|SELL THE EXCITEMENT. Earn up to $1,000/week with Top Performers Earning More Outbound and Inbound Vacation Sales Advisors: Competitive Base Salary ? Bonus Opportunities ? Cash Incentive Each of our resort properties in luxurious destinations offer extraordinary vacations for individuals, couples and families. The more getaways you sell, the more you?ll earn ? just for helping our guests get more enjoyment out of life. Worldwide Travel Benefits (for you and your family) Full-Time Benefits Six-Hour Shifts Paid Comprehensive Training Tuition Reimbursement Program Referral Program Start selling fun and excitement. Call 407-722-3099 today! Visit us at www.hiltongrandvacations.com/advisors Walk-ins Encouraged! 6355 MetroWest Blvd. ? Suite Side 365 ? Orlando, FL 32835 Create the Grand Experience EOE M/F/D/V Source - Orlando Sentinel                                                                                                                                                                                                                                                                                                                                                                                                                                                                                                                                                                                                                                                                                                                                                                                                                                                                                                                                                                                                                                                                                                                                                                                                                                                                                                                                                                                                                                                                                                                                                                                                                                                                                                                                 |\n",
      "|    PARTS DELIVERY PERSON   ——  Key Scales Ford in Leesburg is in search of a personable individual for delivering parts to our valued customers. Must have good driving record and current FL drivers license. FT, 40 hour position. Full benefit package. Apply in person at Key Scales Ford Parts Department, ask for Steve or Kirk. 1719 Citrus Blvd. EOE/DFWP. No phone calls please!                WEB OS26697                               \\n                \\n                 Source - Orlando Sentinel                                                                                                                                                                                                                                                                                                                                                                                                                                                                                                                                                                                                                                                                                                                                                                                                                                                                                                                                                                                                                                                                                                                                                                                                                                                                                                                                                                                                                                                                                                                                                                                                                                                                                                                                                                                                                                                                                                                                                                                                                                                                                    |\n",
      "+------------------------------------------------------------------------------------------------------------------------------------------------------------------------------------------------------------------------------------------------------------------------------------------------------------------------------------------------------------------------------------------------------------------------------------------------------------------------------------------------------------------------------------------------------------------------------------------------------------------------------------------------------------------------------------------------------------------------------------------------------------------------------------------------------------------------------------------------------------------------------------------------------------------------------------------------------------------------------------------------------------------------------------------------------------------------------------------------------------------------------------------------------------------------------------------------------------------------------------------------------------------------------------------------------------------------------------------------------------------------------------------------------------------------------------------------------------------------------------------------------------------------------------------------------------------------------------------------------------------------------------------------------------------------------------------------------------------------------------------------------------------------------------------------------------------------------------------------------------------------------------------------------------------------------------------------------------------------------------------------------------------------------------------------------------------------------------------------------------------------------------------------------------------------------------------------------------------------------------------------------------------------------------------------------------------------------------------------------------------------------------------------------------------------------------------------------------------------------------------------------------------------------------------------------------------------------------------------------+\n",
      "only showing top 20 rows"
     ]
    }
   ],
   "source": [
    "# Column that contains HTML\n",
    "html_column = \"description\"  # Replace with your actual column name\n",
    "\n",
    "# Remove HTML tags using regex\n",
    "df = df.withColumn(html_column, regexp_replace(html_column, \"<[^>]*>\", \"\"))\n",
    "\n",
    "# Show cleaned data\n",
    "df.select(html_column).show(truncate=False)"
   ]
  },
  {
   "cell_type": "code",
   "execution_count": 7,
   "id": "319c8d79-ccba-41f0-8168-0c69e59e1032",
   "metadata": {
    "execution": {
     "iopub.execute_input": "2025-05-07T22:28:20.061473Z",
     "iopub.status.busy": "2025-05-07T22:28:20.061301Z",
     "iopub.status.idle": "2025-05-07T22:28:20.309821Z",
     "shell.execute_reply": "2025-05-07T22:28:20.309189Z",
     "shell.execute_reply.started": "2025-05-07T22:28:20.061450Z"
    },
    "tags": []
   },
   "outputs": [
    {
     "data": {
      "application/vnd.jupyter.widget-view+json": {
       "model_id": "66bb7bc5f3994bbba3cfb613e1799ae4",
       "version_major": 2,
       "version_minor": 0
      },
      "text/plain": [
       "VBox()"
      ]
     },
     "metadata": {},
     "output_type": "display_data"
    },
    {
     "data": {
      "application/vnd.jupyter.widget-view+json": {
       "model_id": "",
       "version_major": 2,
       "version_minor": 0
      },
      "text/plain": [
       "FloatProgress(value=0.0, bar_style='info', description='Progress:', layout=Layout(height='25px', width='50%'),…"
      ]
     },
     "metadata": {},
     "output_type": "display_data"
    }
   ],
   "source": [
    "df = df.withColumn(html_column, regexp_replace(html_column, \"[\\\\n\\\\r\\\\t]\", \" \"))\n",
    "\n",
    "from pyspark.sql.functions import trim\n",
    "df = df.withColumn(html_column, trim(df[html_column]))"
   ]
  },
  {
   "cell_type": "code",
   "execution_count": 8,
   "id": "6aa3ac7b-d118-432c-a6fc-212452af6ed1",
   "metadata": {
    "execution": {
     "iopub.execute_input": "2025-05-07T22:28:20.311800Z",
     "iopub.status.busy": "2025-05-07T22:28:20.311618Z",
     "iopub.status.idle": "2025-05-07T22:28:21.065183Z",
     "shell.execute_reply": "2025-05-07T22:28:21.064433Z",
     "shell.execute_reply.started": "2025-05-07T22:28:20.311776Z"
    },
    "tags": []
   },
   "outputs": [
    {
     "data": {
      "application/vnd.jupyter.widget-view+json": {
       "model_id": "9de9dfdad9a6473d89bf04896c5d2c58",
       "version_major": 2,
       "version_minor": 0
      },
      "text/plain": [
       "VBox()"
      ]
     },
     "metadata": {},
     "output_type": "display_data"
    },
    {
     "data": {
      "application/vnd.jupyter.widget-view+json": {
       "model_id": "",
       "version_major": 2,
       "version_minor": 0
      },
      "text/plain": [
       "FloatProgress(value=0.0, bar_style='info', description='Progress:', layout=Layout(height='25px', width='50%'),…"
      ]
     },
     "metadata": {},
     "output_type": "display_data"
    },
    {
     "name": "stdout",
     "output_type": "stream",
     "text": [
      "+-----+--------+--------------------+--------------------+--------------------+-----+\n",
      "|JobID|WindowID|               Title|         description|        Requirements|State|\n",
      "+-----+--------+--------------------+--------------------+--------------------+-----+\n",
      "|  146|       5|                  RN|RN   —— FT/PT 3p ...|We are searching ...|   FL|\n",
      "|  148|       5|   Vacation Planners|DISCOVER DREAM JO...|Please refer to t...|   FL|\n",
      "|  149|       5|       PHARMACY MGR.|PHARMACY MGR.    ...|Please refer to t...|   FL|\n",
      "|  151|       5|             PA/ARNP|PA/ARNP - BusyDer...|Please refer to t...|   FL|\n",
      "|  158|       5|   ACTIVITY DIRECTOR|\"    ACTIVITY DIR...|Please refer to t...|   FL|\n",
      "|  162|       5|Clinician/Supervisor|CLINICIAN/ SUPERV...|Please refer to t...|   FL|\n",
      "|  164|       5|      Credit Analyst|Credit Analyst Gr...|Please refer to t...|   FL|\n",
      "|  170|       5|  RESERVATION AGENTS|RESERVATION AGENT...|Please refer to t...|   FL|\n",
      "|  171|       5|       SALES MANAGER|SALES MANAGER - E...|Please refer to t...|   FL|\n",
      "|  173|       5|            Operator|Operator - Needed...|Please refer to t...|   FL|\n",
      "|  175|       5|REFURBISHMENT CAR...|REFURBISHMENT CAR...|MINIMUM REQUIREME...|   FL|\n",
      "|  176|       5|             Suspend|This job advertis...|This job advertis...|   FL|\n",
      "|  182|       5|Health Informatio...|HEALTH INFORMATIO...|Please refer to t...|   FL|\n",
      "|  185|       5|   RUN FIREWORK TENT|\"    RUN FIREWORK...|Please refer to t...|   FL|\n",
      "|  186|       5|Construction Comp...|Comp controller  ...|Please refer to t...|   FL|\n",
      "|  191|       5|Ophthalmic Techni...|Ophthalmic Techni...|Please refer to t...|   FL|\n",
      "|  193|       5|   MEDICAL ASSISTANT|MEDICAL ASSISTANT...|Please refer to t...|   FL|\n",
      "|  197|       5|Senior Manager, A...|We are looking fo...|Please refer to t...|   FL|\n",
      "|  200|       5|Outbound And Inbo...|SELL THE EXCITEME...|Please refer to t...|   FL|\n",
      "|  203|       5|PARTS DELIVERY PE...|PARTS DELIVERY PE...|Please refer to t...|   FL|\n",
      "+-----+--------+--------------------+--------------------+--------------------+-----+\n",
      "only showing top 20 rows"
     ]
    }
   ],
   "source": [
    "df.show()"
   ]
  },
  {
   "cell_type": "code",
   "execution_count": 9,
   "id": "a2bb574f-4ac6-4406-b2b1-3456b098a208",
   "metadata": {
    "execution": {
     "iopub.execute_input": "2025-05-07T22:28:21.066889Z",
     "iopub.status.busy": "2025-05-07T22:28:21.066643Z",
     "iopub.status.idle": "2025-05-07T22:28:21.320174Z",
     "shell.execute_reply": "2025-05-07T22:28:21.319515Z",
     "shell.execute_reply.started": "2025-05-07T22:28:21.066853Z"
    },
    "tags": []
   },
   "outputs": [
    {
     "data": {
      "application/vnd.jupyter.widget-view+json": {
       "model_id": "605a01432129440986ef9b227b1eea21",
       "version_major": 2,
       "version_minor": 0
      },
      "text/plain": [
       "VBox()"
      ]
     },
     "metadata": {},
     "output_type": "display_data"
    },
    {
     "data": {
      "application/vnd.jupyter.widget-view+json": {
       "model_id": "",
       "version_major": 2,
       "version_minor": 0
      },
      "text/plain": [
       "FloatProgress(value=0.0, bar_style='info', description='Progress:', layout=Layout(height='25px', width='50%'),…"
      ]
     },
     "metadata": {},
     "output_type": "display_data"
    }
   ],
   "source": [
    "# Combine Title and Description\n",
    "from pyspark.sql.functions import concat_ws, col, split\n",
    "df = df.withColumn(\"combined_text\", concat_ws(\" \", col(\"Title\"), col(\"Description\")))"
   ]
  },
  {
   "cell_type": "code",
   "execution_count": 10,
   "id": "8df034b4-6290-425f-9a52-8374adfb6352",
   "metadata": {
    "execution": {
     "iopub.execute_input": "2025-05-07T22:28:21.321787Z",
     "iopub.status.busy": "2025-05-07T22:28:21.321279Z",
     "iopub.status.idle": "2025-05-07T22:28:21.591752Z",
     "shell.execute_reply": "2025-05-07T22:28:21.591137Z",
     "shell.execute_reply.started": "2025-05-07T22:28:21.321746Z"
    },
    "tags": []
   },
   "outputs": [
    {
     "data": {
      "application/vnd.jupyter.widget-view+json": {
       "model_id": "044b6d20c7184a6cbd51cf25ff15cb6b",
       "version_major": 2,
       "version_minor": 0
      },
      "text/plain": [
       "VBox()"
      ]
     },
     "metadata": {},
     "output_type": "display_data"
    },
    {
     "data": {
      "application/vnd.jupyter.widget-view+json": {
       "model_id": "",
       "version_major": 2,
       "version_minor": 0
      },
      "text/plain": [
       "FloatProgress(value=0.0, bar_style='info', description='Progress:', layout=Layout(height='25px', width='50%'),…"
      ]
     },
     "metadata": {},
     "output_type": "display_data"
    }
   ],
   "source": [
    "# Tokenize the combined text\n",
    "df = df.withColumn(\"tokens\", split(col(\"combined_text\"), \"\\\\s+\"))"
   ]
  },
  {
   "cell_type": "code",
   "execution_count": null,
   "id": "a608d9e3",
   "metadata": {
    "execution": {
     "iopub.execute_input": "2025-05-07T22:28:21.592745Z",
     "iopub.status.busy": "2025-05-07T22:28:21.592581Z",
     "iopub.status.idle": "2025-05-07T22:44:17.510049Z"
    },
    "tags": [],
    "vscode": {
     "languageId": "plaintext"
    }
   },
   "outputs": [
    {
     "data": {
      "application/vnd.jupyter.widget-view+json": {
       "model_id": "7e317b1f57334e628f2bc5c2e7cb1bf2",
       "version_major": 2,
       "version_minor": 0
      },
      "text/plain": [
       "VBox()"
      ]
     },
     "metadata": {},
     "output_type": "display_data"
    },
    {
     "data": {
      "application/vnd.jupyter.widget-view+json": {
       "model_id": "",
       "version_major": 2,
       "version_minor": 0
      },
      "text/plain": [
       "FloatProgress(value=0.0, bar_style='info', description='Progress:', layout=Layout(height='25px', width='50%'),…"
      ]
     },
     "metadata": {},
     "output_type": "display_data"
    }
   ],
   "source": [
    "from pyspark.ml.feature import Word2Vec\n",
    "word2vec = Word2Vec(vectorSize=100, minCount=2, inputCol=\"tokens\", outputCol=\"job_vector\")\n",
    "model = word2vec.fit(df)"
   ]
  },
  {
   "cell_type": "code",
   "execution_count": null,
   "id": "d7d9b0cb-2c25-4540-adb9-7a8453f1a6cd",
   "metadata": {
    "execution": {
     "iopub.execute_input": "2025-05-07T22:44:17.511134Z",
     "iopub.status.busy": "2025-05-07T22:44:17.510962Z",
     "iopub.status.idle": "2025-05-07T22:44:18.258885Z"
    },
    "tags": []
   },
   "outputs": [
    {
     "data": {
      "application/vnd.jupyter.widget-view+json": {
       "model_id": "9cdd62f9697b4235927cbcfdcb36f016",
       "version_major": 2,
       "version_minor": 0
      },
      "text/plain": [
       "VBox()"
      ]
     },
     "metadata": {},
     "output_type": "display_data"
    },
    {
     "data": {
      "application/vnd.jupyter.widget-view+json": {
       "model_id": "",
       "version_major": 2,
       "version_minor": 0
      },
      "text/plain": [
       "FloatProgress(value=0.0, bar_style='info', description='Progress:', layout=Layout(height='25px', width='50%'),…"
      ]
     },
     "metadata": {},
     "output_type": "display_data"
    },
    {
     "name": "stdout",
     "output_type": "stream",
     "text": [
      "+-----+--------+--------------------+--------------------+--------------------+-----+--------------------+--------------------+\n",
      "|JobID|WindowID|               Title|         description|        Requirements|State|       combined_text|              tokens|\n",
      "+-----+--------+--------------------+--------------------+--------------------+-----+--------------------+--------------------+\n",
      "|  146|       5|                  RN|RN   —— FT/PT 3p ...|We are searching ...|   FL|RN RN   —— FT/PT ...|[RN, RN, ——, FT/P...|\n",
      "|  148|       5|   Vacation Planners|DISCOVER DREAM JO...|Please refer to t...|   FL|Vacation Planners...|[Vacation, Planne...|\n",
      "|  149|       5|       PHARMACY MGR.|PHARMACY MGR.    ...|Please refer to t...|   FL|PHARMACY MGR. PHA...|[PHARMACY, MGR., ...|\n",
      "|  151|       5|             PA/ARNP|PA/ARNP - BusyDer...|Please refer to t...|   FL|PA/ARNP PA/ARNP -...|[PA/ARNP, PA/ARNP...|\n",
      "|  158|       5|   ACTIVITY DIRECTOR|\"    ACTIVITY DIR...|Please refer to t...|   FL|ACTIVITY DIRECTOR...|[ACTIVITY, DIRECT...|\n",
      "|  162|       5|Clinician/Supervisor|CLINICIAN/ SUPERV...|Please refer to t...|   FL|Clinician/Supervi...|[Clinician/Superv...|\n",
      "|  164|       5|      Credit Analyst|Credit Analyst Gr...|Please refer to t...|   FL|Credit Analyst Cr...|[Credit, Analyst,...|\n",
      "|  170|       5|  RESERVATION AGENTS|RESERVATION AGENT...|Please refer to t...|   FL|RESERVATION AGENT...|[RESERVATION, AGE...|\n",
      "|  171|       5|       SALES MANAGER|SALES MANAGER - E...|Please refer to t...|   FL|SALES MANAGER SAL...|[SALES, MANAGER, ...|\n",
      "|  173|       5|            Operator|Operator - Needed...|Please refer to t...|   FL|Operator Operator...|[Operator, Operat...|\n",
      "|  175|       5|REFURBISHMENT CAR...|REFURBISHMENT CAR...|MINIMUM REQUIREME...|   FL|REFURBISHMENT CAR...|[REFURBISHMENT, C...|\n",
      "|  176|       5|             Suspend|This job advertis...|This job advertis...|   FL|Suspend This job ...|[Suspend, This, j...|\n",
      "|  182|       5|Health Informatio...|HEALTH INFORMATIO...|Please refer to t...|   FL|Health Informatio...|[Health, Informat...|\n",
      "|  185|       5|   RUN FIREWORK TENT|\"    RUN FIREWORK...|Please refer to t...|   FL|RUN FIREWORK TENT...|[RUN, FIREWORK, T...|\n",
      "|  186|       5|Construction Comp...|Comp controller  ...|Please refer to t...|   FL|Construction Comp...|[Construction, Co...|\n",
      "|  191|       5|Ophthalmic Techni...|Ophthalmic Techni...|Please refer to t...|   FL|Ophthalmic Techni...|[Ophthalmic, Tech...|\n",
      "|  193|       5|   MEDICAL ASSISTANT|MEDICAL ASSISTANT...|Please refer to t...|   FL|MEDICAL ASSISTANT...|[MEDICAL, ASSISTA...|\n",
      "|  197|       5|Senior Manager, A...|We are looking fo...|Please refer to t...|   FL|Senior Manager, A...|[Senior, Manager,...|\n",
      "|  200|       5|Outbound And Inbo...|SELL THE EXCITEME...|Please refer to t...|   FL|Outbound And Inbo...|[Outbound, And, I...|\n",
      "|  203|       5|PARTS DELIVERY PE...|PARTS DELIVERY PE...|Please refer to t...|   FL|PARTS DELIVERY PE...|[PARTS, DELIVERY,...|\n",
      "+-----+--------+--------------------+--------------------+--------------------+-----+--------------------+--------------------+\n",
      "only showing top 20 rows"
     ]
    }
   ],
   "source": [
    "df.show()"
   ]
  },
  {
   "cell_type": "code",
   "execution_count": null,
   "id": "0ca0297d",
   "metadata": {
    "tags": [],
    "vscode": {
     "languageId": "plaintext"
    }
   },
   "outputs": [],
   "source": [
    "# Transform the DataFrame\n",
    "vectorized_df = model.transform(df).select(\"JobID\", \"WindowID\", \"job_vector\")"
   ]
  },
  {
   "cell_type": "code",
   "execution_count": null,
   "id": "1de90bc3-9368-4fc8-89a3-cd7932e89abc",
   "metadata": {
    "tags": []
   },
   "outputs": [],
   "source": [
    "vectorized_df.show()"
   ]
  },
  {
   "cell_type": "code",
   "execution_count": null,
   "id": "61469551-ec4e-4fcc-b48b-3da1d42ebe88",
   "metadata": {
    "tags": []
   },
   "outputs": [],
   "source": [
    "# Write to S3, partitioned by window\n",
    "output_path = f\"{output_base_path}window={7}/\"\n",
    "vectorized_df.write.mode(\"overwrite\").parquet(output_path)"
   ]
  }
 ],
 "metadata": {
  "kernelspec": {
   "display_name": "PySpark",
   "language": "",
   "name": "pysparkkernel"
  },
  "language_info": {
   "codemirror_mode": {
    "name": "python",
    "version": 3
   },
   "file_extension": ".py",
   "mimetype": "text/x-python",
   "name": "pyspark",
   "pygments_lexer": "python3"
  }
 },
 "nbformat": 4,
 "nbformat_minor": 5
}
