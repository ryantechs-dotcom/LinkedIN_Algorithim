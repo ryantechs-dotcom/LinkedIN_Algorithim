{
 "cells": [
  {
   "cell_type": "code",
   "execution_count": 1,
   "id": "77c3d5a2-31c3-47b1-b43f-3a08bde2c8a5",
   "metadata": {
    "execution": {
     "iopub.execute_input": "2025-05-17T20:35:48.440370Z",
     "iopub.status.busy": "2025-05-17T20:35:48.440060Z",
     "iopub.status.idle": "2025-05-17T20:36:28.179940Z",
     "shell.execute_reply": "2025-05-17T20:36:28.179198Z",
     "shell.execute_reply.started": "2025-05-17T20:35:48.440343Z"
    },
    "tags": []
   },
   "outputs": [
    {
     "data": {
      "application/vnd.jupyter.widget-view+json": {
       "model_id": "377f1c22fe234235bd0f01a724e71457",
       "version_major": 2,
       "version_minor": 0
      },
      "text/plain": [
       "VBox()"
      ]
     },
     "metadata": {},
     "output_type": "display_data"
    },
    {
     "name": "stdout",
     "output_type": "stream",
     "text": [
      "Starting Spark application\n"
     ]
    },
    {
     "data": {
      "text/html": [
       "<table>\n",
       "<tbody><tr><th>ID</th><th>YARN Application ID</th><th>Kind</th><th>State</th><th>Spark UI</th><th>Driver log</th><th>User</th><th>Current session?</th></tr><tr><td>1</td><td>application_1747513138169_0002</td><td>pyspark</td><td>idle</td><td><a target=\"_blank\" href=\"http://ip-172-31-44-77.ec2.internal:20888/proxy/application_1747513138169_0002/\" class=\"emr-proxy-link j-2H1GFHRY0D2F7 application_1747513138169_0002\" emr-resource=\"j-2H1GFHRY0D2F7\n",
       "\" application-id=\"application_1747513138169_0002\">Link</a></td><td><a target=\"_blank\" href=\"http://ip-172-31-36-117.ec2.internal:8042/node/containerlogs/container_1747513138169_0002_01_000001/livy\">Link</a></td><td>None</td><td>✔</td></tr></tbody></table>"
      ],
      "text/plain": [
       "<IPython.core.display.HTML object>"
      ]
     },
     "metadata": {},
     "output_type": "display_data"
    },
    {
     "data": {
      "application/vnd.jupyter.widget-view+json": {
       "model_id": "",
       "version_major": 2,
       "version_minor": 0
      },
      "text/plain": [
       "FloatProgress(value=0.0, bar_style='info', description='Progress:', layout=Layout(height='25px', width='50%'),…"
      ]
     },
     "metadata": {},
     "output_type": "display_data"
    },
    {
     "name": "stdout",
     "output_type": "stream",
     "text": [
      "SparkSession available as 'spark'.\n"
     ]
    },
    {
     "data": {
      "application/vnd.jupyter.widget-view+json": {
       "model_id": "",
       "version_major": 2,
       "version_minor": 0
      },
      "text/plain": [
       "FloatProgress(value=0.0, bar_style='info', description='Progress:', layout=Layout(height='25px', width='50%'),…"
      ]
     },
     "metadata": {},
     "output_type": "display_data"
    }
   ],
   "source": [
    "from pyspark.sql import SparkSession\n",
    "\n",
    "# Initialize a Spark session (if not already done)\n",
    "spark = SparkSession.builder \\\n",
    "    .appName(\"ModelTraining\") \\\n",
    "    .getOrCreate()\n",
    "\n",
    "# Define your S3 URI (replace with your bucket and path)\n",
    "s3_path = \"s3://aws-emr-studio-201107706822-us-east-1/1746053900403/e-6HYCE3WANA8IROUS7NBVDSOU4/processed/final_windows/final_6\"\n",
    "\n"
   ]
  },
  {
   "cell_type": "code",
   "execution_count": 2,
   "id": "1ddb641e-0f5c-4f3b-9a91-c4bcb58309ba",
   "metadata": {
    "execution": {
     "iopub.execute_input": "2025-05-17T20:36:28.181383Z",
     "iopub.status.busy": "2025-05-17T20:36:28.181171Z",
     "iopub.status.idle": "2025-05-17T20:36:39.502563Z",
     "shell.execute_reply": "2025-05-17T20:36:39.501824Z",
     "shell.execute_reply.started": "2025-05-17T20:36:28.181348Z"
    },
    "tags": []
   },
   "outputs": [
    {
     "data": {
      "application/vnd.jupyter.widget-view+json": {
       "model_id": "6a12da97a5734e5dbcac728265737151",
       "version_major": 2,
       "version_minor": 0
      },
      "text/plain": [
       "VBox()"
      ]
     },
     "metadata": {},
     "output_type": "display_data"
    },
    {
     "data": {
      "application/vnd.jupyter.widget-view+json": {
       "model_id": "",
       "version_major": 2,
       "version_minor": 0
      },
      "text/plain": [
       "FloatProgress(value=0.0, bar_style='info', description='Progress:', layout=Layout(height='25px', width='50%'),…"
      ]
     },
     "metadata": {},
     "output_type": "display_data"
    },
    {
     "name": "stdout",
     "output_type": "stream",
     "text": [
      "+-------+-------+--------------------+----------------+--------------------+-----------------------+\n",
      "| UserID|  JobID|          job_vector|WorkHistoryCount|TotalYearsExperience|user_job_history_vector|\n",
      "+-------+-------+--------------------+----------------+--------------------+-----------------------+\n",
      "|1001081| 561355|[-0.0106009230630...|             5.0|                 5.0|   [-0.1833965631163...|\n",
      "|1001081| 456489|[-0.1183443906761...|             5.0|                 5.0|   [-0.1833965631163...|\n",
      "|1001081| 283956|[-0.0301933131429...|             5.0|                 5.0|   [-0.1833965631163...|\n",
      "|1001081| 507809|[-2.1248710496972...|             5.0|                 5.0|   [-0.1833965631163...|\n",
      "|1001081| 871635|[-0.0759097041237...|             5.0|                 5.0|   [-0.1833965631163...|\n",
      "|1001081| 975389|[0.03114965191237...|             5.0|                 5.0|   [-0.1833965631163...|\n",
      "|1001081|1102813|[-0.2300305172801...|             5.0|                 5.0|   [-0.1833965631163...|\n",
      "|1001081|1111469|[-0.0936919464709...|             5.0|                 5.0|   [-0.1833965631163...|\n",
      "|1001081| 954690|[-0.0663329315971...|             5.0|                 5.0|   [-0.1833965631163...|\n",
      "|1001081| 975743|[-0.1230443818494...|             5.0|                 5.0|   [-0.1833965631163...|\n",
      "|1001081| 959982|[-0.1392525945508...|             5.0|                 5.0|   [-0.1833965631163...|\n",
      "|1001081| 871774|[-0.2028739829381...|             5.0|                 5.0|   [-0.1833965631163...|\n",
      "|1001081|    206|[-0.0871820227528...|             5.0|                 5.0|   [-0.1833965631163...|\n",
      "|1001081| 271813|[-0.0902447275475...|             5.0|                 5.0|   [-0.1833965631163...|\n",
      "|1001081| 254923|[-0.0613519765327...|             5.0|                 5.0|   [-0.1833965631163...|\n",
      "|1001522| 835315|[-0.0063639413043...|             4.0|                 5.0|   [-0.2576702532048...|\n",
      "|1005556| 411292|[0.00535736709094...|            10.0|                10.0|   [-0.1217235236794...|\n",
      "|1005556| 336915|[-0.0350467577140...|            10.0|                10.0|   [-0.1217235236794...|\n",
      "|1005556| 640761|[0.05736516155388...|            10.0|                10.0|   [-0.1217235236794...|\n",
      "|1005598| 302742|[0.05728596615556...|             2.0|                16.0|   [-0.1805620063096...|\n",
      "+-------+-------+--------------------+----------------+--------------------+-----------------------+\n",
      "only showing top 20 rows"
     ]
    }
   ],
   "source": [
    "user_df = spark.read.parquet(s3_path)\n",
    "\n",
    "# Show the top rows to confirm the data is loaded\n",
    "user_df.show()"
   ]
  },
  {
   "cell_type": "code",
   "execution_count": 3,
   "id": "291f01e6-299f-4c86-b21a-908551e019c7",
   "metadata": {
    "execution": {
     "iopub.execute_input": "2025-05-17T20:36:39.504166Z",
     "iopub.status.busy": "2025-05-17T20:36:39.503992Z",
     "iopub.status.idle": "2025-05-17T20:36:40.260550Z",
     "shell.execute_reply": "2025-05-17T20:36:40.259763Z",
     "shell.execute_reply.started": "2025-05-17T20:36:39.504144Z"
    },
    "tags": []
   },
   "outputs": [
    {
     "data": {
      "application/vnd.jupyter.widget-view+json": {
       "model_id": "b02ff8e301084231997c55cffac1b39b",
       "version_major": 2,
       "version_minor": 0
      },
      "text/plain": [
       "VBox()"
      ]
     },
     "metadata": {},
     "output_type": "display_data"
    },
    {
     "data": {
      "application/vnd.jupyter.widget-view+json": {
       "model_id": "",
       "version_major": 2,
       "version_minor": 0
      },
      "text/plain": [
       "FloatProgress(value=0.0, bar_style='info', description='Progress:', layout=Layout(height='25px', width='50%'),…"
      ]
     },
     "metadata": {},
     "output_type": "display_data"
    },
    {
     "name": "stdout",
     "output_type": "stream",
     "text": [
      "+-------+--------------------+\n",
      "| UserID|          job_vector|\n",
      "+-------+--------------------+\n",
      "|1001081|[-0.0106009230630...|\n",
      "|1001081|[-0.1183443906761...|\n",
      "|1001081|[-0.0301933131429...|\n",
      "|1001081|[-2.1248710496972...|\n",
      "|1001081|[-0.0759097041237...|\n",
      "|1001081|[0.03114965191237...|\n",
      "|1001081|[-0.2300305172801...|\n",
      "|1001081|[-0.0936919464709...|\n",
      "|1001081|[-0.0663329315971...|\n",
      "|1001081|[-0.1230443818494...|\n",
      "|1001081|[-0.1392525945508...|\n",
      "|1001081|[-0.2028739829381...|\n",
      "|1001081|[-0.0871820227528...|\n",
      "|1001081|[-0.0902447275475...|\n",
      "|1001081|[-0.0613519765327...|\n",
      "|1001522|[-0.0063639413043...|\n",
      "|1005556|[0.00535736709094...|\n",
      "|1005556|[-0.0350467577140...|\n",
      "|1005556|[0.05736516155388...|\n",
      "|1005598|[0.05728596615556...|\n",
      "+-------+--------------------+\n",
      "only showing top 20 rows"
     ]
    }
   ],
   "source": [
    "user_df = user_df.select(\"UserID\", \"job_vector\")\n",
    "user_df.show()"
   ]
  },
  {
   "cell_type": "code",
   "execution_count": 4,
   "id": "3cfc3fae-7d99-4bda-9504-e24f8f205548",
   "metadata": {
    "execution": {
     "iopub.execute_input": "2025-05-17T20:36:40.261977Z",
     "iopub.status.busy": "2025-05-17T20:36:40.261788Z",
     "iopub.status.idle": "2025-05-17T20:36:42.532764Z",
     "shell.execute_reply": "2025-05-17T20:36:42.531668Z",
     "shell.execute_reply.started": "2025-05-17T20:36:40.261952Z"
    },
    "tags": []
   },
   "outputs": [
    {
     "data": {
      "application/vnd.jupyter.widget-view+json": {
       "model_id": "c09c737caa694fd7896ace338b68dd28",
       "version_major": 2,
       "version_minor": 0
      },
      "text/plain": [
       "VBox()"
      ]
     },
     "metadata": {},
     "output_type": "display_data"
    },
    {
     "data": {
      "application/vnd.jupyter.widget-view+json": {
       "model_id": "",
       "version_major": 2,
       "version_minor": 0
      },
      "text/plain": [
       "FloatProgress(value=0.0, bar_style='info', description='Progress:', layout=Layout(height='25px', width='50%'),…"
      ]
     },
     "metadata": {},
     "output_type": "display_data"
    },
    {
     "name": "stdout",
     "output_type": "stream",
     "text": [
      "+-----+--------+--------------------+\n",
      "|JobID|WindowID|          job_vector|\n",
      "+-----+--------+--------------------+\n",
      "|    6|       6|[0.07758777074199...|\n",
      "|  177|       6|[0.07699037495889...|\n",
      "|  179|       6|[-0.0493208222126...|\n",
      "|  181|       6|[-0.1097340371105...|\n",
      "|  184|       6|[-0.0565329056169...|\n",
      "|  188|       6|[-0.1017359794081...|\n",
      "|  190|       6|[0.08878653105865...|\n",
      "|  192|       6|[-0.0108238010137...|\n",
      "|  195|       6|[-0.0543442409005...|\n",
      "|  196|       6|[-0.0235997953059...|\n",
      "|  199|       6|[-0.0645179383553...|\n",
      "|  202|       6|[-0.0752751027621...|\n",
      "|  204|       6|[-0.0655673609137...|\n",
      "|  205|       6|[0.10172618960496...|\n",
      "|  206|       6|[-0.0871820227528...|\n",
      "|  207|       6|[0.01857558905896...|\n",
      "|  208|       6|[-0.0763380943265...|\n",
      "|  209|       6|[-0.0477366117294...|\n",
      "|  210|       6|[-0.1486951116099...|\n",
      "|  211|       6|[-0.0112544465144...|\n",
      "+-----+--------+--------------------+\n",
      "only showing top 20 rows"
     ]
    }
   ],
   "source": [
    "jobs_df = spark.read.parquet(\"s3://aws-emr-studio-201107706822-us-east-1/1746053900403/e-6HYCE3WANA8IROUS7NBVDSOU4/processed/windows/window=6/\")\n",
    "jobs_df.show()"
   ]
  },
  {
   "cell_type": "code",
   "execution_count": 5,
   "id": "c2a8c57d-52ed-4934-a679-efaf88f53b34",
   "metadata": {
    "execution": {
     "iopub.execute_input": "2025-05-17T20:36:42.534327Z",
     "iopub.status.busy": "2025-05-17T20:36:42.534070Z",
     "iopub.status.idle": "2025-05-17T20:36:43.323972Z",
     "shell.execute_reply": "2025-05-17T20:36:43.323348Z",
     "shell.execute_reply.started": "2025-05-17T20:36:42.534289Z"
    },
    "tags": []
   },
   "outputs": [
    {
     "data": {
      "application/vnd.jupyter.widget-view+json": {
       "model_id": "044892ceb37f4d7ea6a7f6156adfce47",
       "version_major": 2,
       "version_minor": 0
      },
      "text/plain": [
       "VBox()"
      ]
     },
     "metadata": {},
     "output_type": "display_data"
    },
    {
     "data": {
      "application/vnd.jupyter.widget-view+json": {
       "model_id": "",
       "version_major": 2,
       "version_minor": 0
      },
      "text/plain": [
       "FloatProgress(value=0.0, bar_style='info', description='Progress:', layout=Layout(height='25px', width='50%'),…"
      ]
     },
     "metadata": {},
     "output_type": "display_data"
    }
   ],
   "source": [
    "from pyspark.ml.linalg import Vectors, DenseVector\n",
    "from pyspark.sql.functions import udf, col, avg\n",
    "from pyspark.sql.types import ArrayType, DoubleType"
   ]
  },
  {
   "cell_type": "code",
   "execution_count": 6,
   "id": "77aa685d-9c62-4d67-8cd3-a1e1ba95daa6",
   "metadata": {
    "execution": {
     "iopub.execute_input": "2025-05-17T20:36:43.324986Z",
     "iopub.status.busy": "2025-05-17T20:36:43.324823Z",
     "iopub.status.idle": "2025-05-17T20:36:43.576580Z",
     "shell.execute_reply": "2025-05-17T20:36:43.575926Z",
     "shell.execute_reply.started": "2025-05-17T20:36:43.324964Z"
    },
    "tags": []
   },
   "outputs": [
    {
     "data": {
      "application/vnd.jupyter.widget-view+json": {
       "model_id": "b92a0ffb2de04fce96e7c298c41ce32f",
       "version_major": 2,
       "version_minor": 0
      },
      "text/plain": [
       "VBox()"
      ]
     },
     "metadata": {},
     "output_type": "display_data"
    },
    {
     "data": {
      "application/vnd.jupyter.widget-view+json": {
       "model_id": "",
       "version_major": 2,
       "version_minor": 0
      },
      "text/plain": [
       "FloatProgress(value=0.0, bar_style='info', description='Progress:', layout=Layout(height='25px', width='50%'),…"
      ]
     },
     "metadata": {},
     "output_type": "display_data"
    }
   ],
   "source": [
    "# Convert DenseVector to array for averaging\n",
    "vector_to_array_udf = udf(lambda v: v.toArray().tolist(), ArrayType(DoubleType()))\n",
    "df_array = user_df.withColumn(\"job_vector_array\", vector_to_array_udf(\"job_vector\"))"
   ]
  },
  {
   "cell_type": "code",
   "execution_count": 7,
   "id": "1ebd6268-ab22-4f38-a380-912c2a4103a1",
   "metadata": {
    "execution": {
     "iopub.execute_input": "2025-05-17T20:36:43.577862Z",
     "iopub.status.busy": "2025-05-17T20:36:43.577613Z",
     "iopub.status.idle": "2025-05-17T20:36:45.845988Z",
     "shell.execute_reply": "2025-05-17T20:36:45.845038Z",
     "shell.execute_reply.started": "2025-05-17T20:36:43.577828Z"
    },
    "tags": []
   },
   "outputs": [
    {
     "data": {
      "application/vnd.jupyter.widget-view+json": {
       "model_id": "6206598369c44841b815a6bc7b07c03a",
       "version_major": 2,
       "version_minor": 0
      },
      "text/plain": [
       "VBox()"
      ]
     },
     "metadata": {},
     "output_type": "display_data"
    },
    {
     "data": {
      "application/vnd.jupyter.widget-view+json": {
       "model_id": "",
       "version_major": 2,
       "version_minor": 0
      },
      "text/plain": [
       "FloatProgress(value=0.0, bar_style='info', description='Progress:', layout=Layout(height='25px', width='50%'),…"
      ]
     },
     "metadata": {},
     "output_type": "display_data"
    },
    {
     "name": "stdout",
     "output_type": "stream",
     "text": [
      "+-------+--------------------+--------------------+\n",
      "| UserID|          job_vector|    job_vector_array|\n",
      "+-------+--------------------+--------------------+\n",
      "|1001081|[-0.0106009230630...|[-0.0106009230630...|\n",
      "|1001081|[-0.1183443906761...|[-0.1183443906761...|\n",
      "|1001081|[-0.0301933131429...|[-0.0301933131429...|\n",
      "|1001081|[-2.1248710496972...|[-2.1248710496972...|\n",
      "|1001081|[-0.0759097041237...|[-0.0759097041237...|\n",
      "|1001081|[0.03114965191237...|[0.03114965191237...|\n",
      "|1001081|[-0.2300305172801...|[-0.2300305172801...|\n",
      "|1001081|[-0.0936919464709...|[-0.0936919464709...|\n",
      "|1001081|[-0.0663329315971...|[-0.0663329315971...|\n",
      "|1001081|[-0.1230443818494...|[-0.1230443818494...|\n",
      "|1001081|[-0.1392525945508...|[-0.1392525945508...|\n",
      "|1001081|[-0.2028739829381...|[-0.2028739829381...|\n",
      "|1001081|[-0.0871820227528...|[-0.0871820227528...|\n",
      "|1001081|[-0.0902447275475...|[-0.0902447275475...|\n",
      "|1001081|[-0.0613519765327...|[-0.0613519765327...|\n",
      "|1001522|[-0.0063639413043...|[-0.0063639413043...|\n",
      "|1005556|[0.00535736709094...|[0.00535736709094...|\n",
      "|1005556|[-0.0350467577140...|[-0.0350467577140...|\n",
      "|1005556|[0.05736516155388...|[0.05736516155388...|\n",
      "|1005598|[0.05728596615556...|[0.05728596615556...|\n",
      "+-------+--------------------+--------------------+\n",
      "only showing top 20 rows"
     ]
    }
   ],
   "source": [
    "df_array.show()"
   ]
  },
  {
   "cell_type": "code",
   "execution_count": 8,
   "id": "f07b17be-f821-4f8d-ad84-f9aa5616eede",
   "metadata": {
    "execution": {
     "iopub.execute_input": "2025-05-17T20:36:45.848846Z",
     "iopub.status.busy": "2025-05-17T20:36:45.848597Z",
     "iopub.status.idle": "2025-05-17T20:36:46.628798Z",
     "shell.execute_reply": "2025-05-17T20:36:46.628127Z",
     "shell.execute_reply.started": "2025-05-17T20:36:45.848809Z"
    },
    "tags": []
   },
   "outputs": [
    {
     "data": {
      "application/vnd.jupyter.widget-view+json": {
       "model_id": "4822c437a19647a88bc4009ae2af5252",
       "version_major": 2,
       "version_minor": 0
      },
      "text/plain": [
       "VBox()"
      ]
     },
     "metadata": {},
     "output_type": "display_data"
    },
    {
     "data": {
      "application/vnd.jupyter.widget-view+json": {
       "model_id": "",
       "version_major": 2,
       "version_minor": 0
      },
      "text/plain": [
       "FloatProgress(value=0.0, bar_style='info', description='Progress:', layout=Layout(height='25px', width='50%'),…"
      ]
     },
     "metadata": {},
     "output_type": "display_data"
    }
   ],
   "source": [
    "# Compute average for each vector dimension across all jobs per user\n",
    "avg_exprs = [avg(col(\"job_vector_array\")[i]).alias(f\"avg_{i}\") for i in range(100)]\n",
    "user_avg_vectors = df_array.groupBy(\"UserID\").agg(*avg_exprs)"
   ]
  },
  {
   "cell_type": "code",
   "execution_count": 9,
   "id": "e7c8568a-30b7-4400-91d4-132892673fc8",
   "metadata": {
    "execution": {
     "iopub.execute_input": "2025-05-17T20:36:46.630212Z",
     "iopub.status.busy": "2025-05-17T20:36:46.630021Z",
     "iopub.status.idle": "2025-05-17T20:36:46.675360Z",
     "shell.execute_reply": "2025-05-17T20:36:46.674613Z",
     "shell.execute_reply.started": "2025-05-17T20:36:46.630189Z"
    },
    "tags": []
   },
   "outputs": [
    {
     "data": {
      "application/vnd.jupyter.widget-view+json": {
       "model_id": "86421b9bd98d482e95d12c68b6c8b254",
       "version_major": 2,
       "version_minor": 0
      },
      "text/plain": [
       "VBox()"
      ]
     },
     "metadata": {},
     "output_type": "display_data"
    },
    {
     "data": {
      "application/vnd.jupyter.widget-view+json": {
       "model_id": "",
       "version_major": 2,
       "version_minor": 0
      },
      "text/plain": [
       "FloatProgress(value=0.0, bar_style='info', description='Progress:', layout=Layout(height='25px', width='50%'),…"
      ]
     },
     "metadata": {},
     "output_type": "display_data"
    }
   ],
   "source": [
    "from pyspark.ml.linalg import Vectors, VectorUDT"
   ]
  },
  {
   "cell_type": "code",
   "execution_count": 11,
   "id": "58121aab-06e1-4c11-9530-e41bfea61755",
   "metadata": {
    "execution": {
     "iopub.execute_input": "2025-05-17T20:36:59.989532Z",
     "iopub.status.busy": "2025-05-17T20:36:59.989363Z",
     "iopub.status.idle": "2025-05-17T20:37:00.237892Z",
     "shell.execute_reply": "2025-05-17T20:37:00.237083Z",
     "shell.execute_reply.started": "2025-05-17T20:36:59.989510Z"
    },
    "tags": []
   },
   "outputs": [
    {
     "data": {
      "application/vnd.jupyter.widget-view+json": {
       "model_id": "256dd7bed1c146bb9d3a980ef7d047ce",
       "version_major": 2,
       "version_minor": 0
      },
      "text/plain": [
       "VBox()"
      ]
     },
     "metadata": {},
     "output_type": "display_data"
    },
    {
     "data": {
      "application/vnd.jupyter.widget-view+json": {
       "model_id": "",
       "version_major": 2,
       "version_minor": 0
      },
      "text/plain": [
       "FloatProgress(value=0.0, bar_style='info', description='Progress:', layout=Layout(height='25px', width='50%'),…"
      ]
     },
     "metadata": {},
     "output_type": "display_data"
    }
   ],
   "source": [
    "def to_dense_vector(*vals):\n",
    "    return Vectors.dense(vals)\n",
    "\n",
    "to_vector_udf = udf(to_dense_vector, VectorUDT())\n",
    "\n",
    "user_avg_vectors = user_avg_vectors.withColumn(\n",
    "    \"user_vector_avg\", to_vector_udf(*[col(f\"avg_{i}\") for i in range(100)])\n",
    ").select(\"UserID\", \"user_vector_avg\")"
   ]
  },
  {
   "cell_type": "code",
   "execution_count": 12,
   "id": "b9fee575-5c7f-4256-ae72-44dd6b89c193",
   "metadata": {
    "execution": {
     "iopub.execute_input": "2025-05-17T20:37:06.072466Z",
     "iopub.status.busy": "2025-05-17T20:37:06.072244Z",
     "iopub.status.idle": "2025-05-17T20:37:11.350014Z",
     "shell.execute_reply": "2025-05-17T20:37:11.349368Z",
     "shell.execute_reply.started": "2025-05-17T20:37:06.072441Z"
    },
    "tags": []
   },
   "outputs": [
    {
     "data": {
      "application/vnd.jupyter.widget-view+json": {
       "model_id": "e31cb46464a8491f9c7bce8b113750e9",
       "version_major": 2,
       "version_minor": 0
      },
      "text/plain": [
       "VBox()"
      ]
     },
     "metadata": {},
     "output_type": "display_data"
    },
    {
     "data": {
      "application/vnd.jupyter.widget-view+json": {
       "model_id": "",
       "version_major": 2,
       "version_minor": 0
      },
      "text/plain": [
       "FloatProgress(value=0.0, bar_style='info', description='Progress:', layout=Layout(height='25px', width='50%'),…"
      ]
     },
     "metadata": {},
     "output_type": "display_data"
    },
    {
     "name": "stdout",
     "output_type": "stream",
     "text": [
      "+-------+--------------------+\n",
      "| UserID|     user_vector_avg|\n",
      "+-------+--------------------+\n",
      "|1010262|[0.10353731150728...|\n",
      "|1104594|[0.02520169771388...|\n",
      "|1178270|[0.01746556015362...|\n",
      "|1181914|[0.07107934607740...|\n",
      "|1192259|[0.11633230284503...|\n",
      "|1276440|[0.05270350228205...|\n",
      "| 131949|[0.02566017724968...|\n",
      "|1342177|[0.01242057485684...|\n",
      "|1363821|[0.02092127936583...|\n",
      "|1367908|[0.04452441621672...|\n",
      "|1380502|[0.01955687982034...|\n",
      "|1464749|[0.04700561062283...|\n",
      "| 194378|[5.78993730919642...|\n",
      "| 231583|[0.02965426139888...|\n",
      "| 249011|[0.08015021835690...|\n",
      "| 264125|[-0.0927807517868...|\n",
      "| 278220|[0.03807248266663...|\n",
      "|  33174|[0.02504478503383...|\n",
      "| 393343|[0.02477552513090...|\n",
      "| 429742|[-0.0326636415665...|\n",
      "+-------+--------------------+\n",
      "only showing top 20 rows"
     ]
    }
   ],
   "source": [
    "user_avg_vectors.show()"
   ]
  },
  {
   "cell_type": "code",
   "execution_count": 13,
   "id": "2d365f2f-4108-42f7-a4f4-1274068951af",
   "metadata": {
    "execution": {
     "iopub.execute_input": "2025-05-17T20:37:15.074389Z",
     "iopub.status.busy": "2025-05-17T20:37:15.074148Z",
     "iopub.status.idle": "2025-05-17T20:37:16.344576Z",
     "shell.execute_reply": "2025-05-17T20:37:16.343887Z",
     "shell.execute_reply.started": "2025-05-17T20:37:15.074355Z"
    },
    "tags": []
   },
   "outputs": [
    {
     "data": {
      "application/vnd.jupyter.widget-view+json": {
       "model_id": "ffa5b422c39349d98141b2c8eb6fad48",
       "version_major": 2,
       "version_minor": 0
      },
      "text/plain": [
       "VBox()"
      ]
     },
     "metadata": {},
     "output_type": "display_data"
    },
    {
     "data": {
      "application/vnd.jupyter.widget-view+json": {
       "model_id": "",
       "version_major": 2,
       "version_minor": 0
      },
      "text/plain": [
       "FloatProgress(value=0.0, bar_style='info', description='Progress:', layout=Layout(height='25px', width='50%'),…"
      ]
     },
     "metadata": {},
     "output_type": "display_data"
    },
    {
     "name": "stdout",
     "output_type": "stream",
     "text": [
      "+------+--------+-----+--------------------+-------+\n",
      "|UserID|WindowID|Split|     ApplicationDate|  JobID|\n",
      "+------+--------+-----+--------------------+-------+\n",
      "|    47|       1|Train|2012-04-04 15:56:...| 169528|\n",
      "|    47|       1|Train|2012-04-06 01:03:...| 284009|\n",
      "|    47|       1|Train|2012-04-05 02:40:...|   2121|\n",
      "|    47|       1|Train|2012-04-05 02:37:...| 848187|\n",
      "|    47|       1|Train|2012-04-05 22:44:...| 733748|\n",
      "|    47|       1|Train|2012-04-05 02:34:...| 576958|\n",
      "|    47|       1|Train|2012-04-05 22:55:...| 262470|\n",
      "|    47|       1|Train|2012-04-05 02:38:...| 602298|\n",
      "|    72|       1|Train|2012-04-02 22:36:...| 834662|\n",
      "|    72|       1|Train|2012-04-07 15:19:...|1020903|\n",
      "|    72|       1|Train|2012-04-07 17:38:...| 180313|\n",
      "|    72|       1|Train|2012-04-30 20:05:...| 480634|\n",
      "|    72|       1|Train|2012-04-20 02:51:...| 564184|\n",
      "|    80|       1|Train|2012-04-04 10:53:...| 908909|\n",
      "|   123|       1|Train|2012-04-02 20:57:...|1080147|\n",
      "|   123|       1|Train|2012-04-02 21:03:...|1080148|\n",
      "|   131|       1|Train|2012-04-02 14:06:...| 688863|\n",
      "|   131|       1|Train|2012-04-05 15:08:...|1092900|\n",
      "|   131|       1|Train|2012-04-05 17:09:...|  50183|\n",
      "|   162|       1|Train|2012-04-06 14:25:...|  69667|\n",
      "+------+--------+-----+--------------------+-------+\n",
      "only showing top 20 rows"
     ]
    }
   ],
   "source": [
    "applied_df = spark.read.option(\"header\", True).option(\"sep\", \"\\t\").csv(\"s3://aws-emr-studio-201107706822-us-east-1/1746053900403/e-6HYCE3WANA8IROUS7NBVDSOU4/apps.tsv\")\n",
    "applied_df.show()"
   ]
  },
  {
   "cell_type": "code",
   "execution_count": 14,
   "id": "2efa75da-7007-48d7-b905-8e66778a91ff",
   "metadata": {
    "execution": {
     "iopub.execute_input": "2025-05-17T20:37:16.380489Z",
     "iopub.status.busy": "2025-05-17T20:37:16.380320Z",
     "iopub.status.idle": "2025-05-17T20:37:16.631772Z",
     "shell.execute_reply": "2025-05-17T20:37:16.631158Z",
     "shell.execute_reply.started": "2025-05-17T20:37:16.380467Z"
    },
    "tags": []
   },
   "outputs": [
    {
     "data": {
      "application/vnd.jupyter.widget-view+json": {
       "model_id": "cbc078432e3a40659588ebef7be47452",
       "version_major": 2,
       "version_minor": 0
      },
      "text/plain": [
       "VBox()"
      ]
     },
     "metadata": {},
     "output_type": "display_data"
    },
    {
     "data": {
      "application/vnd.jupyter.widget-view+json": {
       "model_id": "",
       "version_major": 2,
       "version_minor": 0
      },
      "text/plain": [
       "FloatProgress(value=0.0, bar_style='info', description='Progress:', layout=Layout(height='25px', width='50%'),…"
      ]
     },
     "metadata": {},
     "output_type": "display_data"
    }
   ],
   "source": [
    "applied_df = applied_df.filter(col(\"WindowID\") == 6)"
   ]
  },
  {
   "cell_type": "code",
   "execution_count": 20,
   "id": "8cb1ac05-af8b-4c54-9d3e-c4d86524ea16",
   "metadata": {
    "execution": {
     "iopub.execute_input": "2025-05-17T20:37:52.129750Z",
     "iopub.status.busy": "2025-05-17T20:37:52.129493Z",
     "iopub.status.idle": "2025-05-17T20:37:53.390196Z",
     "shell.execute_reply": "2025-05-17T20:37:53.389595Z",
     "shell.execute_reply.started": "2025-05-17T20:37:52.129724Z"
    },
    "tags": []
   },
   "outputs": [
    {
     "data": {
      "application/vnd.jupyter.widget-view+json": {
       "model_id": "22d00dbd906c49f7ad7c0199e2ac8cc1",
       "version_major": 2,
       "version_minor": 0
      },
      "text/plain": [
       "VBox()"
      ]
     },
     "metadata": {},
     "output_type": "display_data"
    },
    {
     "data": {
      "application/vnd.jupyter.widget-view+json": {
       "model_id": "",
       "version_major": 2,
       "version_minor": 0
      },
      "text/plain": [
       "FloatProgress(value=0.0, bar_style='info', description='Progress:', layout=Layout(height='25px', width='50%'),…"
      ]
     },
     "metadata": {},
     "output_type": "display_data"
    },
    {
     "name": "stdout",
     "output_type": "stream",
     "text": [
      "+-----+--------+--------------------+\n",
      "|JobID|WindowID|          job_vector|\n",
      "+-----+--------+--------------------+\n",
      "|    6|       6|[0.07758777074199...|\n",
      "|  177|       6|[0.07699037495889...|\n",
      "|  179|       6|[-0.0493208222126...|\n",
      "|  181|       6|[-0.1097340371105...|\n",
      "|  184|       6|[-0.0565329056169...|\n",
      "|  188|       6|[-0.1017359794081...|\n",
      "|  190|       6|[0.08878653105865...|\n",
      "|  192|       6|[-0.0108238010137...|\n",
      "|  195|       6|[-0.0543442409005...|\n",
      "|  196|       6|[-0.0235997953059...|\n",
      "|  199|       6|[-0.0645179383553...|\n",
      "|  202|       6|[-0.0752751027621...|\n",
      "|  204|       6|[-0.0655673609137...|\n",
      "|  205|       6|[0.10172618960496...|\n",
      "|  206|       6|[-0.0871820227528...|\n",
      "|  207|       6|[0.01857558905896...|\n",
      "|  208|       6|[-0.0763380943265...|\n",
      "|  209|       6|[-0.0477366117294...|\n",
      "|  210|       6|[-0.1486951116099...|\n",
      "|  211|       6|[-0.0112544465144...|\n",
      "+-----+--------+--------------------+\n",
      "only showing top 20 rows"
     ]
    }
   ],
   "source": [
    "jobs_vecs = spark.read.parquet(\"s3://aws-emr-studio-201107706822-us-east-1/1746053900403/e-6HYCE3WANA8IROUS7NBVDSOU4/processed/windows/window=6/\")\n",
    "jobs_vecs.show()"
   ]
  },
  {
   "cell_type": "code",
   "execution_count": 16,
   "id": "098e982b-1891-4483-8b8b-254ca395e814",
   "metadata": {
    "execution": {
     "iopub.execute_input": "2025-05-17T20:37:23.441670Z",
     "iopub.status.busy": "2025-05-17T20:37:23.441430Z",
     "iopub.status.idle": "2025-05-17T20:37:23.485674Z",
     "shell.execute_reply": "2025-05-17T20:37:23.484952Z",
     "shell.execute_reply.started": "2025-05-17T20:37:23.441630Z"
    },
    "tags": []
   },
   "outputs": [
    {
     "data": {
      "application/vnd.jupyter.widget-view+json": {
       "model_id": "0c85d1bb595f4933a82c95a05cc15085",
       "version_major": 2,
       "version_minor": 0
      },
      "text/plain": [
       "VBox()"
      ]
     },
     "metadata": {},
     "output_type": "display_data"
    },
    {
     "data": {
      "application/vnd.jupyter.widget-view+json": {
       "model_id": "",
       "version_major": 2,
       "version_minor": 0
      },
      "text/plain": [
       "FloatProgress(value=0.0, bar_style='info', description='Progress:', layout=Layout(height='25px', width='50%'),…"
      ]
     },
     "metadata": {},
     "output_type": "display_data"
    }
   ],
   "source": [
    "from pyspark.sql import SparkSession, Row\n",
    "from pyspark.sql import functions as F"
   ]
  },
  {
   "cell_type": "code",
   "execution_count": 17,
   "id": "2b13a291-d5a0-4e52-b601-b26d674cc1c9",
   "metadata": {
    "execution": {
     "iopub.execute_input": "2025-05-17T20:37:24.528432Z",
     "iopub.status.busy": "2025-05-17T20:37:24.528205Z",
     "iopub.status.idle": "2025-05-17T20:37:24.778260Z",
     "shell.execute_reply": "2025-05-17T20:37:24.777590Z",
     "shell.execute_reply.started": "2025-05-17T20:37:24.528407Z"
    },
    "tags": []
   },
   "outputs": [
    {
     "data": {
      "application/vnd.jupyter.widget-view+json": {
       "model_id": "acbbde595c804054a796aa1490f1d539",
       "version_major": 2,
       "version_minor": 0
      },
      "text/plain": [
       "VBox()"
      ]
     },
     "metadata": {},
     "output_type": "display_data"
    },
    {
     "data": {
      "application/vnd.jupyter.widget-view+json": {
       "model_id": "",
       "version_major": 2,
       "version_minor": 0
      },
      "text/plain": [
       "FloatProgress(value=0.0, bar_style='info', description='Progress:', layout=Layout(height='25px', width='50%'),…"
      ]
     },
     "metadata": {},
     "output_type": "display_data"
    }
   ],
   "source": [
    "positive_df = applied_df.select(\"UserID\", \"JobID\").distinct().withColumn(\"label\", F.lit(1))"
   ]
  },
  {
   "cell_type": "code",
   "execution_count": 18,
   "id": "787085cf-dd46-4cde-b236-2b0c1b5cadae",
   "metadata": {
    "execution": {
     "iopub.execute_input": "2025-05-17T20:37:25.713050Z",
     "iopub.status.busy": "2025-05-17T20:37:25.712698Z",
     "iopub.status.idle": "2025-05-17T20:37:28.997213Z",
     "shell.execute_reply": "2025-05-17T20:37:28.996467Z",
     "shell.execute_reply.started": "2025-05-17T20:37:25.713020Z"
    },
    "tags": []
   },
   "outputs": [
    {
     "data": {
      "application/vnd.jupyter.widget-view+json": {
       "model_id": "29d16b85086c4c21a7383c54e8f23ed4",
       "version_major": 2,
       "version_minor": 0
      },
      "text/plain": [
       "VBox()"
      ]
     },
     "metadata": {},
     "output_type": "display_data"
    },
    {
     "data": {
      "application/vnd.jupyter.widget-view+json": {
       "model_id": "",
       "version_major": 2,
       "version_minor": 0
      },
      "text/plain": [
       "FloatProgress(value=0.0, bar_style='info', description='Progress:', layout=Layout(height='25px', width='50%'),…"
      ]
     },
     "metadata": {},
     "output_type": "display_data"
    },
    {
     "name": "stdout",
     "output_type": "stream",
     "text": [
      "+------+-------+-----+\n",
      "|UserID|  JobID|label|\n",
      "+------+-------+-----+\n",
      "| 13922| 853364|    1|\n",
      "| 14464| 263639|    1|\n",
      "| 20572| 627008|    1|\n",
      "| 30220| 210984|    1|\n",
      "| 36870| 631929|    1|\n",
      "| 40525| 928063|    1|\n",
      "| 47944| 314946|    1|\n",
      "| 59852| 483052|    1|\n",
      "| 72256|1100586|    1|\n",
      "| 73609|  78269|    1|\n",
      "| 77113| 497053|    1|\n",
      "| 82515| 194985|    1|\n",
      "| 86447| 606659|    1|\n",
      "| 87251|   1215|    1|\n",
      "|122335| 205186|    1|\n",
      "|130857| 311469|    1|\n",
      "|167483| 882676|    1|\n",
      "|172969| 407928|    1|\n",
      "|180914| 896188|    1|\n",
      "|185348| 601902|    1|\n",
      "+------+-------+-----+\n",
      "only showing top 20 rows"
     ]
    }
   ],
   "source": [
    "positive_df.show()\n"
   ]
  },
  {
   "cell_type": "code",
   "execution_count": 22,
   "id": "6ebdf980-43f1-44ca-a746-1dc2abbc434f",
   "metadata": {
    "execution": {
     "iopub.execute_input": "2025-05-17T20:38:25.875332Z",
     "iopub.status.busy": "2025-05-17T20:38:25.875100Z",
     "iopub.status.idle": "2025-05-17T20:38:26.126204Z",
     "shell.execute_reply": "2025-05-17T20:38:26.125456Z",
     "shell.execute_reply.started": "2025-05-17T20:38:25.875304Z"
    },
    "tags": []
   },
   "outputs": [
    {
     "data": {
      "application/vnd.jupyter.widget-view+json": {
       "model_id": "afcd366de8e84759a32ac783b017cedd",
       "version_major": 2,
       "version_minor": 0
      },
      "text/plain": [
       "VBox()"
      ]
     },
     "metadata": {},
     "output_type": "display_data"
    },
    {
     "data": {
      "application/vnd.jupyter.widget-view+json": {
       "model_id": "",
       "version_major": 2,
       "version_minor": 0
      },
      "text/plain": [
       "FloatProgress(value=0.0, bar_style='info', description='Progress:', layout=Layout(height='25px', width='50%'),…"
      ]
     },
     "metadata": {},
     "output_type": "display_data"
    }
   ],
   "source": [
    "all_jobs = jobs_vecs.select(\"JobID\").distinct()\n",
    "users = applied_df.select(\"UserID\").distinct()\n",
    "\n",
    "# Cartesian product and filter out known applications\n",
    "user_job_pairs = users.crossJoin(all_jobs)\n",
    "negative_df = user_job_pairs.join(positive_df, on=[\"UserID\", \"JobID\"], how=\"left_anti\")  # only non-applied jobs"
   ]
  },
  {
   "cell_type": "code",
   "execution_count": 23,
   "id": "214ef4be-f44b-41ae-9eab-108befe26bac",
   "metadata": {
    "execution": {
     "iopub.execute_input": "2025-05-17T20:38:37.259081Z",
     "iopub.status.busy": "2025-05-17T20:38:37.258837Z",
     "iopub.status.idle": "2025-05-17T20:38:46.550073Z",
     "shell.execute_reply": "2025-05-17T20:38:46.549378Z",
     "shell.execute_reply.started": "2025-05-17T20:38:37.259053Z"
    },
    "tags": []
   },
   "outputs": [
    {
     "data": {
      "application/vnd.jupyter.widget-view+json": {
       "model_id": "1749b9d250f545de9af5e16efc44c2bc",
       "version_major": 2,
       "version_minor": 0
      },
      "text/plain": [
       "VBox()"
      ]
     },
     "metadata": {},
     "output_type": "display_data"
    },
    {
     "data": {
      "application/vnd.jupyter.widget-view+json": {
       "model_id": "",
       "version_major": 2,
       "version_minor": 0
      },
      "text/plain": [
       "FloatProgress(value=0.0, bar_style='info', description='Progress:', layout=Layout(height='25px', width='50%'),…"
      ]
     },
     "metadata": {},
     "output_type": "display_data"
    }
   ],
   "source": [
    "# Sample negatives per user\n",
    "negatives_per_user = 3\n",
    "neg_df = negative_df.sampleBy(\"UserID\", fractions={uid: 1.0 for uid in users.rdd.map(lambda r: r.UserID).collect()}, seed=42).limit(positive_df.count() * negatives_per_user)\n",
    "\n",
    "neg_df = neg_df.withColumn(\"label\", F.lit(0))"
   ]
  },
  {
   "cell_type": "code",
   "execution_count": 25,
   "id": "6188c6d6-7561-4275-8f53-383b4b4015e7",
   "metadata": {
    "execution": {
     "iopub.execute_input": "2025-05-17T20:39:20.456319Z",
     "iopub.status.busy": "2025-05-17T20:39:20.456098Z",
     "iopub.status.idle": "2025-05-17T20:39:20.706732Z",
     "shell.execute_reply": "2025-05-17T20:39:20.706002Z",
     "shell.execute_reply.started": "2025-05-17T20:39:20.456295Z"
    },
    "tags": []
   },
   "outputs": [
    {
     "data": {
      "application/vnd.jupyter.widget-view+json": {
       "model_id": "e53ac0b5bc5e4fc3bf3ea4c76c9cdccf",
       "version_major": 2,
       "version_minor": 0
      },
      "text/plain": [
       "VBox()"
      ]
     },
     "metadata": {},
     "output_type": "display_data"
    },
    {
     "data": {
      "application/vnd.jupyter.widget-view+json": {
       "model_id": "",
       "version_major": 2,
       "version_minor": 0
      },
      "text/plain": [
       "FloatProgress(value=0.0, bar_style='info', description='Progress:', layout=Layout(height='25px', width='50%'),…"
      ]
     },
     "metadata": {},
     "output_type": "display_data"
    }
   ],
   "source": [
    "all_df = positive_df.union(neg_df)\n",
    "\n",
    "# Join with user and job vectors\n",
    "df = all_df \\\n",
    "    .join(user_avg_vectors, on=\"UserID\", how=\"inner\") \\\n",
    "    .join(jobs_vecs, on=\"JobID\", how=\"inner\")"
   ]
  },
  {
   "cell_type": "code",
   "execution_count": 27,
   "id": "9076c63f-bdf1-4aa8-9540-992ed6c4a0a1",
   "metadata": {
    "execution": {
     "iopub.execute_input": "2025-05-17T20:41:41.446707Z",
     "iopub.status.busy": "2025-05-17T20:41:41.446453Z",
     "iopub.status.idle": "2025-05-17T20:42:10.815023Z",
     "shell.execute_reply": "2025-05-17T20:42:10.814266Z",
     "shell.execute_reply.started": "2025-05-17T20:41:41.446679Z"
    },
    "tags": []
   },
   "outputs": [
    {
     "data": {
      "application/vnd.jupyter.widget-view+json": {
       "model_id": "2f4a120f94b6410aa1659340a98c4ff5",
       "version_major": 2,
       "version_minor": 0
      },
      "text/plain": [
       "VBox()"
      ]
     },
     "metadata": {},
     "output_type": "display_data"
    },
    {
     "data": {
      "application/vnd.jupyter.widget-view+json": {
       "model_id": "",
       "version_major": 2,
       "version_minor": 0
      },
      "text/plain": [
       "FloatProgress(value=0.0, bar_style='info', description='Progress:', layout=Layout(height='25px', width='50%'),…"
      ]
     },
     "metadata": {},
     "output_type": "display_data"
    },
    {
     "name": "stdout",
     "output_type": "stream",
     "text": [
      "+-------+-------+-----+--------------------+--------+--------------------+\n",
      "|  JobID| UserID|label|     user_vector_avg|WindowID|          job_vector|\n",
      "+-------+-------+-----+--------------------+--------+--------------------+\n",
      "| 431424| 851366|    1|[0.06143603974552...|       6|[0.15489870952084...|\n",
      "|1031017|1193265|    1|[0.03149212335574...|       6|[0.05213007447185...|\n",
      "| 212175|1036710|    1|[0.02426195174953...|       6|[0.06290548449382...|\n",
      "|  90228|1343781|    1|[0.02658318885780...|       6|[0.04625847889110...|\n",
      "|1097471|1418241|    1|[0.01848544198317...|       6|[0.03605543842746...|\n",
      "| 431424| 742341|    1|[0.06691129614989...|       6|[0.15489870952084...|\n",
      "| 794130| 268352|    1|[0.07794334373064...|       6|[0.00121404060960...|\n",
      "| 346809| 588350|    1|[0.00124170863894...|       6|[0.05023472688536...|\n",
      "| 431424|1452190|    1|[0.03015024216213...|       6|[0.15489870952084...|\n",
      "| 674313| 943315|    1|[0.02191119514872...|       6|[0.00595230846242...|\n",
      "| 282680|1045481|    1|[0.02239039353560...|       6|[-0.0773326169699...|\n",
      "|  90228| 623502|    1|[0.01683377976370...|       6|[0.04625847889110...|\n",
      "| 674313| 324034|    1|[-0.0404823114420...|       6|[0.00595230846242...|\n",
      "|  90228|1385904|    1|[0.05658462179483...|       6|[0.04625847889110...|\n",
      "| 212175|1120166|    1|[0.00715008289761...|       6|[0.06290548449382...|\n",
      "| 325894| 441935|    1|[-0.0428720604990...|       6|[0.00326859093173...|\n",
      "| 844651| 932112|    1|[4.94074239171011...|       6|[-0.0590305465527...|\n",
      "| 212175|1200039|    1|[0.04119869977655...|       6|[0.06290548449382...|\n",
      "| 324018| 950932|    1|[-0.0091540881021...|       6|[0.04939597493202...|\n",
      "|  28024|1422576|    1|[0.03397333374779...|       6|[-0.0159825073893...|\n",
      "+-------+-------+-----+--------------------+--------+--------------------+\n",
      "only showing top 20 rows"
     ]
    }
   ],
   "source": [
    "df.show()"
   ]
  },
  {
   "cell_type": "code",
   "execution_count": 37,
   "id": "f7249dc1-063f-46a1-a394-20d0a2a42b29",
   "metadata": {
    "execution": {
     "iopub.execute_input": "2025-05-17T20:50:00.626577Z",
     "iopub.status.busy": "2025-05-17T20:50:00.626323Z",
     "iopub.status.idle": "2025-05-17T20:50:00.873862Z",
     "shell.execute_reply": "2025-05-17T20:50:00.873150Z",
     "shell.execute_reply.started": "2025-05-17T20:50:00.626544Z"
    },
    "tags": []
   },
   "outputs": [
    {
     "data": {
      "application/vnd.jupyter.widget-view+json": {
       "model_id": "38afe44cf95e41cd9e3b663aa3e509bc",
       "version_major": 2,
       "version_minor": 0
      },
      "text/plain": [
       "VBox()"
      ]
     },
     "metadata": {},
     "output_type": "display_data"
    },
    {
     "data": {
      "application/vnd.jupyter.widget-view+json": {
       "model_id": "",
       "version_major": 2,
       "version_minor": 0
      },
      "text/plain": [
       "FloatProgress(value=0.0, bar_style='info', description='Progress:', layout=Layout(height='25px', width='50%'),…"
      ]
     },
     "metadata": {},
     "output_type": "display_data"
    }
   ],
   "source": [
    "from pyspark.sql.functions import udf\n",
    "from pyspark.sql.types import ArrayType, DoubleType\n",
    "from pyspark.ml.linalg import VectorUDT\n",
    "\n",
    "def vector_to_list(v):\n",
    "    return v.toArray().tolist()\n",
    "\n",
    "vector_to_list_udf = udf(vector_to_list, ArrayType(DoubleType()))\n",
    "\n",
    "df_1 = df.withColumn(\"user_vec_array\", vector_to_list_udf(\"user_vector_avg\"))\n",
    "df_1 = df_1.withColumn(\"job_vec_array\", vector_to_list_udf(\"job_vector\"))"
   ]
  },
  {
   "cell_type": "code",
   "execution_count": 38,
   "id": "ec717e5d-eed6-43cb-929b-49d0b06aaaaf",
   "metadata": {
    "execution": {
     "iopub.execute_input": "2025-05-17T20:50:09.268694Z",
     "iopub.status.busy": "2025-05-17T20:50:09.268472Z",
     "iopub.status.idle": "2025-05-17T20:50:22.593736Z",
     "shell.execute_reply": "2025-05-17T20:50:22.592906Z",
     "shell.execute_reply.started": "2025-05-17T20:50:09.268670Z"
    },
    "tags": []
   },
   "outputs": [
    {
     "data": {
      "application/vnd.jupyter.widget-view+json": {
       "model_id": "ef5103d2f7e74a55a32790dd125ece63",
       "version_major": 2,
       "version_minor": 0
      },
      "text/plain": [
       "VBox()"
      ]
     },
     "metadata": {},
     "output_type": "display_data"
    },
    {
     "data": {
      "application/vnd.jupyter.widget-view+json": {
       "model_id": "",
       "version_major": 2,
       "version_minor": 0
      },
      "text/plain": [
       "FloatProgress(value=0.0, bar_style='info', description='Progress:', layout=Layout(height='25px', width='50%'),…"
      ]
     },
     "metadata": {},
     "output_type": "display_data"
    },
    {
     "name": "stdout",
     "output_type": "stream",
     "text": [
      "+------+-------+-----+--------------------+--------+--------------------+--------------------+--------------------+\n",
      "| JobID| UserID|label|     user_vector_avg|WindowID|          job_vector|      user_vec_array|       job_vec_array|\n",
      "+------+-------+-----+--------------------+--------+--------------------+--------------------+--------------------+\n",
      "| 28024|1466633|    1|[0.02622618472881...|       6|[-0.0159825073893...|[0.02622618472881...|[-0.0159825073893...|\n",
      "|282680|1062211|    1|[-0.0259603706615...|       6|[-0.0773326169699...|[-0.0259603706615...|[-0.0773326169699...|\n",
      "|156645| 110546|    1|[-0.0015317823352...|       6|[-0.0081193856331...|[-0.0015317823352...|[-0.0081193856331...|\n",
      "|212175| 301128|    1|[0.03891433157345...|       6|[0.06290548449382...|[0.03891433157345...|[0.06290548449382...|\n",
      "| 28024| 444893|    1|[-8.7489770879573...|       6|[-0.0159825073893...|[-8.7489770879573...|[-0.0159825073893...|\n",
      "| 28024| 746330|    1|[0.02447650985592...|       6|[-0.0159825073893...|[0.02447650985592...|[-0.0159825073893...|\n",
      "| 90228| 556433|    1|[0.12094534125331...|       6|[0.04625847889110...|[0.12094534125331...|[0.04625847889110...|\n",
      "|340673|1293888|    1|[0.03128775582375...|       6|[0.04422814991811...|[0.03128775582375...|[0.04422814991811...|\n",
      "|212175| 228168|    1|[0.02817563766014...|       6|[0.06290548449382...|[0.02817563766014...|[0.06290548449382...|\n",
      "|674313| 819091|    1|[0.02157917760448...|       6|[0.00595230846242...|[0.02157917760448...|[0.00595230846242...|\n",
      "| 28024| 395378|    1|[0.01894288450029...|       6|[-0.0159825073893...|[0.01894288450029...|[-0.0159825073893...|\n",
      "|431424| 779901|    1|[0.06358025445014...|       6|[0.15489870952084...|[0.06358025445014...|[0.15489870952084...|\n",
      "|325894|1060869|    1|[0.01052909567461...|       6|[0.00326859093173...|[0.01052909567461...|[0.00326859093173...|\n",
      "|443065|1293008|    1|[0.00766993398542...|       6|[-0.0183925699051...|[0.00766993398542...|[-0.0183925699051...|\n",
      "|325894| 405109|    1|[-0.0361947787176...|       6|[0.00326859093173...|[-0.0361947787176...|[0.00326859093173...|\n",
      "| 35351|1174073|    1|[-0.0252116230769...|       6|[0.10228500443256...|[-0.0252116230769...|[0.10228500443256...|\n",
      "| 90228| 483034|    1|[0.03382340333932...|       6|[0.04625847889110...|[0.03382340333932...|[0.04625847889110...|\n",
      "|674313|   4544|    1|[0.02922134775346...|       6|[0.00595230846242...|[0.02922134775346...|[0.00595230846242...|\n",
      "|251529|1448510|    1|[-0.0634727378398...|       6|[-0.0398705993619...|[-0.0634727378398...|[-0.0398705993619...|\n",
      "| 28024| 111702|    1|[-0.0089448515906...|       6|[-0.0159825073893...|[-0.0089448515906...|[-0.0159825073893...|\n",
      "+------+-------+-----+--------------------+--------+--------------------+--------------------+--------------------+\n",
      "only showing top 20 rows"
     ]
    }
   ],
   "source": [
    "df_1.show()"
   ]
  },
  {
   "cell_type": "code",
   "execution_count": 39,
   "id": "39906700-8239-44fc-a848-e900ac1e3945",
   "metadata": {
    "execution": {
     "iopub.execute_input": "2025-05-17T20:50:22.595168Z",
     "iopub.status.busy": "2025-05-17T20:50:22.594986Z",
     "iopub.status.idle": "2025-05-17T20:50:38.084123Z",
     "shell.execute_reply": "2025-05-17T20:50:38.083353Z",
     "shell.execute_reply.started": "2025-05-17T20:50:22.595144Z"
    },
    "tags": []
   },
   "outputs": [
    {
     "data": {
      "application/vnd.jupyter.widget-view+json": {
       "model_id": "a98a280b72094a78bc98da587130a7b7",
       "version_major": 2,
       "version_minor": 0
      },
      "text/plain": [
       "VBox()"
      ]
     },
     "metadata": {},
     "output_type": "display_data"
    },
    {
     "data": {
      "application/vnd.jupyter.widget-view+json": {
       "model_id": "",
       "version_major": 2,
       "version_minor": 0
      },
      "text/plain": [
       "FloatProgress(value=0.0, bar_style='info', description='Progress:', layout=Layout(height='25px', width='50%'),…"
      ]
     },
     "metadata": {},
     "output_type": "display_data"
    }
   ],
   "source": [
    "user_vec_dim = df_1.select(F.size(\"user_vec_array\")).first()[0]\n",
    "job_vec_dim = df_1.select(F.size(\"job_vec_array\")).first()[0]"
   ]
  },
  {
   "cell_type": "code",
   "execution_count": 40,
   "id": "0500aec9-e3fb-4f2a-8c78-c33a0a0986d1",
   "metadata": {
    "execution": {
     "iopub.execute_input": "2025-05-17T20:50:41.236143Z",
     "iopub.status.busy": "2025-05-17T20:50:41.235863Z",
     "iopub.status.idle": "2025-05-17T20:50:41.286403Z",
     "shell.execute_reply": "2025-05-17T20:50:41.285454Z",
     "shell.execute_reply.started": "2025-05-17T20:50:41.236111Z"
    },
    "tags": []
   },
   "outputs": [
    {
     "data": {
      "application/vnd.jupyter.widget-view+json": {
       "model_id": "c5853e56bf6545e69f17ca374beb7ae9",
       "version_major": 2,
       "version_minor": 0
      },
      "text/plain": [
       "VBox()"
      ]
     },
     "metadata": {},
     "output_type": "display_data"
    },
    {
     "data": {
      "application/vnd.jupyter.widget-view+json": {
       "model_id": "",
       "version_major": 2,
       "version_minor": 0
      },
      "text/plain": [
       "FloatProgress(value=0.0, bar_style='info', description='Progress:', layout=Layout(height='25px', width='50%'),…"
      ]
     },
     "metadata": {},
     "output_type": "display_data"
    },
    {
     "name": "stdout",
     "output_type": "stream",
     "text": [
      "100"
     ]
    }
   ],
   "source": [
    "user_vec_dim"
   ]
  },
  {
   "cell_type": "code",
   "execution_count": 41,
   "id": "a1f67f69-936b-42a0-b659-c3c23bfda19a",
   "metadata": {
    "execution": {
     "iopub.execute_input": "2025-05-17T20:50:42.774503Z",
     "iopub.status.busy": "2025-05-17T20:50:42.774246Z",
     "iopub.status.idle": "2025-05-17T20:50:42.822117Z",
     "shell.execute_reply": "2025-05-17T20:50:42.821462Z",
     "shell.execute_reply.started": "2025-05-17T20:50:42.774475Z"
    },
    "tags": []
   },
   "outputs": [
    {
     "data": {
      "application/vnd.jupyter.widget-view+json": {
       "model_id": "1d9b5af5c7e34ab4a56329d7c78cac95",
       "version_major": 2,
       "version_minor": 0
      },
      "text/plain": [
       "VBox()"
      ]
     },
     "metadata": {},
     "output_type": "display_data"
    },
    {
     "data": {
      "application/vnd.jupyter.widget-view+json": {
       "model_id": "",
       "version_major": 2,
       "version_minor": 0
      },
      "text/plain": [
       "FloatProgress(value=0.0, bar_style='info', description='Progress:', layout=Layout(height='25px', width='50%'),…"
      ]
     },
     "metadata": {},
     "output_type": "display_data"
    },
    {
     "name": "stdout",
     "output_type": "stream",
     "text": [
      "100"
     ]
    }
   ],
   "source": [
    "job_vec_dim"
   ]
  },
  {
   "cell_type": "code",
   "execution_count": 45,
   "id": "22ebf645-5d7a-43f1-8e90-fb64caa7edd1",
   "metadata": {
    "execution": {
     "iopub.execute_input": "2025-05-17T20:52:42.888720Z",
     "iopub.status.busy": "2025-05-17T20:52:42.888399Z",
     "iopub.status.idle": "2025-05-17T20:53:14.291437Z",
     "shell.execute_reply": "2025-05-17T20:53:14.290702Z",
     "shell.execute_reply.started": "2025-05-17T20:52:42.888680Z"
    },
    "tags": []
   },
   "outputs": [
    {
     "data": {
      "application/vnd.jupyter.widget-view+json": {
       "model_id": "578e23f1a92c4fe9b1a94b9ac91b3e80",
       "version_major": 2,
       "version_minor": 0
      },
      "text/plain": [
       "VBox()"
      ]
     },
     "metadata": {},
     "output_type": "display_data"
    },
    {
     "data": {
      "application/vnd.jupyter.widget-view+json": {
       "model_id": "",
       "version_major": 2,
       "version_minor": 0
      },
      "text/plain": [
       "FloatProgress(value=0.0, bar_style='info', description='Progress:', layout=Layout(height='25px', width='50%'),…"
      ]
     },
     "metadata": {},
     "output_type": "display_data"
    },
    {
     "name": "stdout",
     "output_type": "stream",
     "text": [
      "+-------+-------+-----+--------------------+--------+--------------------+--------------------+--------------------+\n",
      "|  JobID| UserID|label|     user_vector_avg|WindowID|          job_vector|      user_vec_array|       job_vec_array|\n",
      "+-------+-------+-----+--------------------+--------+--------------------+--------------------+--------------------+\n",
      "| 431424| 851366|    1|[0.06143603974552...|       6|[0.15489870952084...|[0.06143603974552...|[0.15489870952084...|\n",
      "|1031017|1193265|    1|[0.03149212335574...|       6|[0.05213007447185...|[0.03149212335574...|[0.05213007447185...|\n",
      "| 212175|1036710|    1|[0.02426195174953...|       6|[0.06290548449382...|[0.02426195174953...|[0.06290548449382...|\n",
      "|  90228|1343781|    1|[0.02658318885780...|       6|[0.04625847889110...|[0.02658318885780...|[0.04625847889110...|\n",
      "|1097471|1418241|    1|[0.01848544198317...|       6|[0.03605543842746...|[0.01848544198317...|[0.03605543842746...|\n",
      "| 431424| 742341|    1|[0.06691129614989...|       6|[0.15489870952084...|[0.06691129614989...|[0.15489870952084...|\n",
      "| 794130| 268352|    1|[0.07794334373064...|       6|[0.00121404060960...|[0.07794334373064...|[0.00121404060960...|\n",
      "| 346809| 588350|    1|[0.00124170863894...|       6|[0.05023472688536...|[0.00124170863894...|[0.05023472688536...|\n",
      "| 431424|1452190|    1|[0.03015024216213...|       6|[0.15489870952084...|[0.03015024216213...|[0.15489870952084...|\n",
      "| 674313| 943315|    1|[0.02191119514872...|       6|[0.00595230846242...|[0.02191119514872...|[0.00595230846242...|\n",
      "| 282680|1045481|    1|[0.02239039353560...|       6|[-0.0773326169699...|[0.02239039353560...|[-0.0773326169699...|\n",
      "|  90228| 623502|    1|[0.01683377976370...|       6|[0.04625847889110...|[0.01683377976370...|[0.04625847889110...|\n",
      "| 674313| 324034|    1|[-0.0404823114420...|       6|[0.00595230846242...|[-0.0404823114420...|[0.00595230846242...|\n",
      "|  90228|1385904|    1|[0.05658462179483...|       6|[0.04625847889110...|[0.05658462179483...|[0.04625847889110...|\n",
      "| 212175|1120166|    1|[0.00715008289761...|       6|[0.06290548449382...|[0.00715008289761...|[0.06290548449382...|\n",
      "| 325894| 441935|    1|[-0.0428720604990...|       6|[0.00326859093173...|[-0.0428720604990...|[0.00326859093173...|\n",
      "| 844651| 932112|    1|[4.94074239171011...|       6|[-0.0590305465527...|[4.94074239171011...|[-0.0590305465527...|\n",
      "| 212175|1200039|    1|[0.04119869977655...|       6|[0.06290548449382...|[0.04119869977655...|[0.06290548449382...|\n",
      "| 324018| 950932|    1|[-0.0091540881021...|       6|[0.04939597493202...|[-0.0091540881021...|[0.04939597493202...|\n",
      "|  28024|1422576|    1|[0.03397333374779...|       6|[-0.0159825073893...|[0.03397333374779...|[-0.0159825073893...|\n",
      "+-------+-------+-----+--------------------+--------+--------------------+--------------------+--------------------+\n",
      "only showing top 20 rows"
     ]
    }
   ],
   "source": [
    "df_1.show()"
   ]
  },
  {
   "cell_type": "code",
   "execution_count": 46,
   "id": "4fdc2d6b-faf2-4c32-a0d0-ff27b357ea61",
   "metadata": {
    "execution": {
     "iopub.execute_input": "2025-05-17T20:54:17.264031Z",
     "iopub.status.busy": "2025-05-17T20:54:17.263798Z",
     "iopub.status.idle": "2025-05-17T20:54:22.550397Z",
     "shell.execute_reply": "2025-05-17T20:54:22.549719Z",
     "shell.execute_reply.started": "2025-05-17T20:54:17.264006Z"
    },
    "tags": []
   },
   "outputs": [
    {
     "data": {
      "application/vnd.jupyter.widget-view+json": {
       "model_id": "08f1533dcbac4e6c916ac6dc2191f415",
       "version_major": 2,
       "version_minor": 0
      },
      "text/plain": [
       "VBox()"
      ]
     },
     "metadata": {},
     "output_type": "display_data"
    },
    {
     "data": {
      "application/vnd.jupyter.widget-view+json": {
       "model_id": "",
       "version_major": 2,
       "version_minor": 0
      },
      "text/plain": [
       "FloatProgress(value=0.0, bar_style='info', description='Progress:', layout=Layout(height='25px', width='50%'),…"
      ]
     },
     "metadata": {},
     "output_type": "display_data"
    }
   ],
   "source": [
    "for i in range(100):  # adjust based on actual vector size\n",
    "    df_1 = df_1.withColumn(f\"user_{i}\", F.col(\"user_vec_array\")[i])\n",
    "    df_1 = df_1.withColumn(f\"job_{i}\", F.col(\"job_vec_array\")[i])\n",
    "\n",
    "df_1 = df_1.drop(\"user_vector_avg\", \"job_vector\")"
   ]
  },
  {
   "cell_type": "code",
   "execution_count": 47,
   "id": "38e091ce-d22c-4b91-9535-86c4a2f84334",
   "metadata": {
    "execution": {
     "iopub.execute_input": "2025-05-17T20:54:30.825153Z",
     "iopub.status.busy": "2025-05-17T20:54:30.824923Z",
     "iopub.status.idle": "2025-05-17T20:55:02.279233Z",
     "shell.execute_reply": "2025-05-17T20:55:02.278518Z",
     "shell.execute_reply.started": "2025-05-17T20:54:30.825126Z"
    },
    "tags": []
   },
   "outputs": [
    {
     "data": {
      "application/vnd.jupyter.widget-view+json": {
       "model_id": "ec4a968e63f54ff0b408baa2943f8b2b",
       "version_major": 2,
       "version_minor": 0
      },
      "text/plain": [
       "VBox()"
      ]
     },
     "metadata": {},
     "output_type": "display_data"
    },
    {
     "data": {
      "application/vnd.jupyter.widget-view+json": {
       "model_id": "",
       "version_major": 2,
       "version_minor": 0
      },
      "text/plain": [
       "FloatProgress(value=0.0, bar_style='info', description='Progress:', layout=Layout(height='25px', width='50%'),…"
      ]
     },
     "metadata": {},
     "output_type": "display_data"
    },
    {
     "name": "stdout",
     "output_type": "stream",
     "text": [
      "+-------+-------+-----+--------+--------------------+--------------------+--------------------+--------------------+--------------------+--------------------+--------------------+--------------------+--------------------+--------------------+--------------------+--------------------+-------------------+-------------------+--------------------+--------------------+--------------------+--------------------+--------------------+--------------------+--------------------+--------------------+--------------------+--------------------+--------------------+--------------------+--------------------+--------------------+--------------------+--------------------+--------------------+--------------------+--------------------+--------------------+--------------------+--------------------+--------------------+--------------------+--------------------+--------------------+--------------------+--------------------+--------------------+--------------------+--------------------+--------------------+--------------------+--------------------+--------------------+--------------------+--------------------+--------------------+--------------------+--------------------+--------------------+--------------------+--------------------+--------------------+--------------------+--------------------+--------------------+--------------------+--------------------+--------------------+--------------------+--------------------+--------------------+--------------------+--------------------+--------------------+--------------------+--------------------+--------------------+--------------------+--------------------+--------------------+--------------------+--------------------+--------------------+--------------------+--------------------+--------------------+--------------------+--------------------+--------------------+--------------------+--------------------+-------------------+--------------------+--------------------+-------------------+--------------------+--------------------+--------------------+--------------------+--------------------+--------------------+--------------------+--------------------+--------------------+--------------------+--------------------+--------------------+--------------------+--------------------+--------------------+--------------------+--------------------+--------------------+--------------------+--------------------+--------------------+--------------------+--------------------+-------------------+-------------------+--------------------+--------------------+--------------------+--------------------+--------------------+--------------------+--------------------+--------------------+--------------------+--------------------+--------------------+--------------------+--------------------+--------------------+--------------------+--------------------+--------------------+--------------------+--------------------+--------------------+-------------------+--------------------+--------------------+--------------------+--------------------+--------------------+--------------------+--------------------+--------------------+--------------------+--------------------+--------------------+--------------------+--------------------+--------------------+--------------------+--------------------+--------------------+--------------------+--------------------+--------------------+--------------------+--------------------+--------------------+--------------------+--------------------+--------------------+--------------------+--------------------+--------------------+--------------------+--------------------+--------------------+--------------------+--------------------+--------------------+--------------------+--------------------+--------------------+--------------------+--------------------+--------------------+--------------------+--------------------+--------------------+--------------------+--------------------+--------------------+--------------------+--------------------+--------------------+--------------------+--------------------+--------------------+--------------------+--------------------+--------------------+--------------------+--------------------+--------------------+--------------------+--------------------+--------------------+--------------------+--------------------+-------------------+\n",
      "|  JobID| UserID|label|WindowID|      user_vec_array|       job_vec_array|              user_0|               job_0|              user_1|               job_1|              user_2|               job_2|              user_3|               job_3|              user_4|               job_4|             user_5|              job_5|              user_6|               job_6|              user_7|               job_7|              user_8|               job_8|              user_9|               job_9|             user_10|              job_10|             user_11|              job_11|             user_12|              job_12|             user_13|              job_13|             user_14|              job_14|             user_15|              job_15|             user_16|              job_16|             user_17|              job_17|             user_18|              job_18|             user_19|              job_19|             user_20|              job_20|             user_21|              job_21|             user_22|              job_22|             user_23|              job_23|             user_24|              job_24|             user_25|              job_25|             user_26|              job_26|             user_27|              job_27|             user_28|              job_28|             user_29|              job_29|             user_30|              job_30|             user_31|              job_31|             user_32|              job_32|             user_33|              job_33|             user_34|              job_34|             user_35|              job_35|             user_36|              job_36|             user_37|              job_37|             user_38|              job_38|             user_39|              job_39|             user_40|              job_40|             user_41|              job_41|             user_42|             job_42|             user_43|              job_43|            user_44|              job_44|             user_45|              job_45|             user_46|              job_46|             user_47|              job_47|             user_48|              job_48|             user_49|              job_49|             user_50|              job_50|             user_51|              job_51|             user_52|              job_52|             user_53|              job_53|             user_54|              job_54|             user_55|              job_55|            user_56|             job_56|             user_57|              job_57|             user_58|              job_58|             user_59|              job_59|             user_60|              job_60|             user_61|              job_61|             user_62|              job_62|             user_63|              job_63|             user_64|              job_64|             user_65|              job_65|             user_66|              job_66|            user_67|              job_67|             user_68|              job_68|             user_69|              job_69|             user_70|              job_70|             user_71|              job_71|             user_72|              job_72|             user_73|              job_73|             user_74|              job_74|             user_75|              job_75|             user_76|              job_76|             user_77|              job_77|             user_78|              job_78|             user_79|              job_79|             user_80|              job_80|             user_81|              job_81|             user_82|              job_82|             user_83|              job_83|             user_84|              job_84|             user_85|              job_85|             user_86|              job_86|             user_87|              job_87|             user_88|              job_88|             user_89|              job_89|             user_90|              job_90|             user_91|              job_91|             user_92|              job_92|             user_93|              job_93|             user_94|              job_94|             user_95|              job_95|             user_96|              job_96|             user_97|              job_97|             user_98|              job_98|             user_99|             job_99|\n",
      "+-------+-------+-----+--------+--------------------+--------------------+--------------------+--------------------+--------------------+--------------------+--------------------+--------------------+--------------------+--------------------+--------------------+--------------------+-------------------+-------------------+--------------------+--------------------+--------------------+--------------------+--------------------+--------------------+--------------------+--------------------+--------------------+--------------------+--------------------+--------------------+--------------------+--------------------+--------------------+--------------------+--------------------+--------------------+--------------------+--------------------+--------------------+--------------------+--------------------+--------------------+--------------------+--------------------+--------------------+--------------------+--------------------+--------------------+--------------------+--------------------+--------------------+--------------------+--------------------+--------------------+--------------------+--------------------+--------------------+--------------------+--------------------+--------------------+--------------------+--------------------+--------------------+--------------------+--------------------+--------------------+--------------------+--------------------+--------------------+--------------------+--------------------+--------------------+--------------------+--------------------+--------------------+--------------------+--------------------+--------------------+--------------------+--------------------+--------------------+--------------------+--------------------+--------------------+--------------------+--------------------+--------------------+--------------------+--------------------+--------------------+--------------------+-------------------+--------------------+--------------------+-------------------+--------------------+--------------------+--------------------+--------------------+--------------------+--------------------+--------------------+--------------------+--------------------+--------------------+--------------------+--------------------+--------------------+--------------------+--------------------+--------------------+--------------------+--------------------+--------------------+--------------------+--------------------+--------------------+--------------------+-------------------+-------------------+--------------------+--------------------+--------------------+--------------------+--------------------+--------------------+--------------------+--------------------+--------------------+--------------------+--------------------+--------------------+--------------------+--------------------+--------------------+--------------------+--------------------+--------------------+--------------------+--------------------+-------------------+--------------------+--------------------+--------------------+--------------------+--------------------+--------------------+--------------------+--------------------+--------------------+--------------------+--------------------+--------------------+--------------------+--------------------+--------------------+--------------------+--------------------+--------------------+--------------------+--------------------+--------------------+--------------------+--------------------+--------------------+--------------------+--------------------+--------------------+--------------------+--------------------+--------------------+--------------------+--------------------+--------------------+--------------------+--------------------+--------------------+--------------------+--------------------+--------------------+--------------------+--------------------+--------------------+--------------------+--------------------+--------------------+--------------------+--------------------+--------------------+--------------------+--------------------+--------------------+--------------------+--------------------+--------------------+--------------------+--------------------+--------------------+--------------------+--------------------+--------------------+--------------------+--------------------+--------------------+--------------------+-------------------+\n",
      "| 431424| 851366|    1|       6|[0.06143603974552...|[0.15489870952084...| 0.06143603974552145|  0.1548987095208409| -0.0989915253922628|-0.11737089620124048|-0.01059268930099...|-0.00839140044274525|-0.09016839629642355|-0.11712211360975815|-0.08384026027147508|-0.07811582212766204|0.11504292186712432|0.10771584732350535|0.009521872448661022|-0.02237633748982...|-0.03928238500845676|-0.03747583786025...| 0.04217126848021368|0.016067423787899316| -0.0114570041280483|-0.02358449340009...| 0.02364705293179863| 0.06880754968151451|  0.0364060936335506| 0.09919257344534764|-0.04558721397985966|-0.11897896554750892|-0.01782267038215...|-0.06968950970599858|0.001539321151867723| -0.0521465149636452| -0.0562201503425511|-0.08922539578320889|-0.02795622018056...|-0.01007042495318...|-0.02028946918446...| 0.02321163905480017|0.006099492028403878|0.008466329930636746|-0.05729161235423583|-0.05468263030768587|-0.02227515946004...|  -0.018471514482875|-0.09295867730572632|-0.08848450845823838|0.013833578299204063| 0.09443631463755782|-0.03597297788706617| -0.0403018415099583| 0.03899957313741492|7.040853683765118E-4|-0.04514416244697566|-0.05308619478645806| -0.0655141552369968|-0.04835074414284184|-0.00166329468396...|-0.00741860392288...|0.017706632171861084| 0.04074736745992246|-0.09197786756212842| -0.1115732348470304|-0.09444135152501486|-0.07761930416767987|0.006639665584562118|-0.01058939997679...|6.852961555313731E-4|-0.02382679722056...|0.009201172336305314|0.012838292138454003|-0.08513013464228601|-0.06155538560034...|0.004169474052749112|-0.00579564876926...|-0.01005947708026...| 0.00910217350554796| -0.0312366228692019|-0.00657704578211...|0.003393773476566298|-0.02205295045860...|-0.06406707884476683| -0.0769956507290212|-0.05262006598107574|-0.05920903684678846|-0.00825067022267...| 0.06745811105043126| 0.09518127049622223|0.07739979970053985|0.001819937256169...|-0.00549244326181...|0.11179548946905747| 0.04832603269471572|-0.05434692305123909|-0.00707032983907...|0.001342528910041...|-0.01168077690526...|-0.00759517582559...|0.033235175298670164| -0.0926542416756972|-0.09362543349942336| 0.03293971168823013|  0.0274200683262629|-0.07437983176609575|-0.05553731044324...|-0.01902247993391...|-0.04298014834930655|0.008815680829808653|-0.01308415626677...|-0.08172747825823821|0.005286947369145...| 0.04497931847879965| 0.09476436862292198|0.013594178355181286|-0.02704534309987...|0.13079157210422562|0.10670301361152759|0.060894270404270194| 0.07655363298880939| 0.09943220573514489| 0.09357335914660675|0.003506699014513628|0.004652241488488821|-0.03071637670762944|-0.04208402066813925| 0.08403786585373686| 0.03651256801990362| 0.08216596925007384| 0.06300385718484625|-0.02730648909301754|0.001035187404172...| 0.00920590887048462|  0.0379208617628767|-0.02237518013542454| -0.0261325273447885|0.018073446239081244|0.013468652927818207|0.11216945441646553|  0.1198485149213901| -0.1194093247491662|-0.13188991802386368|-0.07917040415553844| -0.1099872006676518|-0.02597252632037...|-0.02621941027016594|-0.03598295883964286|  -0.072567586787045|5.293335039017195E-4|  0.0413406501022669|0.006076819562549074|-0.00623786128663...|-0.02130385856428...|-0.02536181702923...|0.004545853656874...|4.155629386122410...|-0.07102408411510014|-0.07737467009932376|0.006572612792648...| 0.08241541694240788|-0.04949732574396133|-0.06605397193947843|-2.25480491227823...|-0.01097247367366...|-0.02191093213257608|-0.03988687113966...|0.008948042724843314| 0.04977772123395251|-0.00520547827022...|-0.03945716348691629| -0.0674597700613954| -0.1035425728509346|0.007709405922067023|-0.03831281054836...|0.051734847947103854|0.049858738772141246|-0.01219789143547112| 0.02427773184787769| 0.04164049467984683| 0.04511048102464814| 0.07796739001434243| 0.12839569346262858|-0.08663201961276196|-0.08611449089949019|-0.00481407764100...|0.014059785092607715|  0.0386656544256592|  0.1565476699302403|-0.01103039176864...|-0.00359598792587...|0.025082746300310012|-0.08209417949860486| 0.01076895033187789|0.021061840323874585| 0.02510002344678739|-0.04185744317678305|0.037011798050258254| 0.07676521752459499|0.044130403190248996| 0.07840251306322618|  0.0325353347368614| 0.04106882442720235| 0.08465444536107068|0.09464545041510765|\n",
      "|1031017|1193265|    1|       6|[0.03149212335574...|[0.05213007447185...|0.031492123355746186| 0.05213007447185061|-0.05309623491850046|-0.16512216777274652|-0.00868306255936...|-0.02652228697677...| -0.0903470230238826|-0.09897932400511178|-0.04991481827512855|-0.08952090132016954|0.16297843671212303|0.14555101436729143| 0.05504061830088768|-0.00916894125680...|-0.05466850932506...| -0.1315246300106602| 0.04931033390578597| 0.08079892553713372| 0.02023443729623182|-0.01023998722666...|0.023469487436733716| 0.05025368544447701|0.023417296012792976| 0.03228758678971125|-0.03902150941204...| -0.1388341363452907|-0.04798713563745...| 0.03159413460109915|-0.02402501411933241|-0.03111175888750...|-0.08262748586882046| -0.0636258319253102|-0.00144608564803...|-0.00485919690192...|-0.01971201025619...| 0.03841301681407328|-0.01961801060775...|0.054883787258378496|-0.01618105270369...|-0.05115308364121509|0.002782356472022...|-0.01777533161553...| -0.1083748404471311|-0.10631043341709301|0.024509899683647075| 0.08590455906149665|-0.03371543923178...|0.026734241268630804|0.012836045038281122| 0.04945722147863957|-0.02346799921874...|-0.11128245096520653|-0.07171385807412677|-0.13087707507241117|-0.01586793498272...|-0.03434803785972...|-0.04369286359621...|  0.0570688059029635| -0.0378811836208534|-0.06152410379124506|-0.03935368892805154|-0.05550641256184982|-0.02258298016644464|0.022891763352423107|-0.03430419498542283|-0.01804734675263587|0.005963366701701187| 0.02367753833199718|-0.09170083480503989|-0.03587652923223...|-0.00705553816896...|-0.02889387392538...|-0.02790140749000...|-0.03849285956904558|0.024123373155652147|-0.00951658760937...| 0.03693153075984451|-0.00925655852604...| 0.03181551066562335| -0.0714630753856909|-0.01629114801901835|-0.02542985713142...|0.004746821146882...|0.045993805533674145| 0.08957439891897884|0.08920004240769361| -0.0237088662040865| 0.05377601212676381|0.03549053373959172| 0.06466201557278899|-0.05944907252197105|-0.00128971263724...|0.053878742628379994|-0.00227008243008...|-0.06484417782274055|-0.02832019989478...|-0.11029877603583432|-0.10960661820011279|0.017550697631363143|0.027408310660393908|-0.08968992636798999|-0.10231881821528077|-0.03761670195202825| -0.0280514198821038|-0.00140685111575...|-0.01563359807977...| -0.0348851260870834|-0.05884611499495...|  0.0447561198859401| 0.09955028635782322|0.002019473408008749|-0.02564286241873...|0.13698535051692234|0.11173237896457847|-0.01562831912941...|  0.0447100163424953| 0.06067560914487067|  0.0961934479392117|-0.00396369007030...|-0.02619034433072...| -0.0382797811911106|-0.01093126350564...| 0.05073343920196667| 0.06693461246988071| 0.05203711171438048| 0.03827146177479465|0.030001077000713645|0.026256480582690398|0.057396073379940404| 0.09073372186144947|-0.01882106611089...|0.010525727237109095|-0.03339284707841342| 0.02263738401150996| 0.0874361021267485| 0.08821934911455692|-0.02079143318182...|-0.08965155511894929|-0.02413284322882236|-0.06953404169097277|-0.04041914671250384|-0.01350248042820...|-0.07538926716405303|-0.10174505684699398|-0.00827296983579...| 0.01985648104455322| 0.03920339449928372|-0.04268321178554158|-0.01654782358940...|-0.00550988702702...| 0.02629687678716869|0.007101689103209147|-0.00494453010935...|-0.07310409289452115|-0.02799563891699405| 0.03934483858424106|-0.03678507346367897|-0.06483058425874333| 0.01437437506178274|-0.01437913415783...| 0.01695201626205526|-0.01273071351294...|0.011962499216564924| 0.02401710711086967|0.014917512416702047|0.019709392218750767| -0.0610191790759199|-0.03439750243061488|-0.04750702467219...| 0.03290581317892897| 0.02829561919712839|-0.00108069466160...|-0.00718603988563...|-0.00246304509429...| 0.05095881782573868|0.048415472358465196| 0.08097687520711815| 0.13601303189726813|-0.01020771212944918|-0.05376296976215339|-0.02407857937107...|-0.04590306240133941| 0.07114305164196773| 0.17542971578992103|0.005129787590838138|0.020667465032810077|0.008689312685939084|  0.0338344385315265|-0.00584639827894...| 0.00897262501197734| 0.03777805216210104|0.011367701908706554|0.025836483585206765|-0.03245866324619523|-0.03281943256017149|0.013949656401694353|-0.01061966863678...|-0.00815292760214...| 0.08829447718301486|0.09775510273261066|\n",
      "| 212175|1036710|    1|       6|[0.02426195174953...|[0.06290548449382...| 0.02426195174953393| 0.06290548449382186|0.007382384035817748|-0.04606146656908095|0.025250506245006226| -0.0104370350651443|-0.09800064818096334|-0.09619316435977816|-0.06480882068035411|-0.09482549507031217| 0.1214738909225059|0.13888046047929675|0.029649412294628502|0.015197304469533265| -0.0056547338123634|-0.04726484902203083| 0.03660110349927622|0.037688490822911265|-0.00864683881014...|-0.01203370790579...|0.035438393909364936| 0.08375907558412292|0.009828533368684694|  0.0737636827081442|-2.55895067496954...|-0.00882150481641...|-0.09798504926658315|-0.04519347817357...|-0.02536559299298...| -0.0676138148359023|-0.09443664986766823|-0.10036909926123917|-0.02596492677436...|-0.02048624998237...|-0.01911276809247...|-0.01418596660904...|-0.01057405479326...|0.017802686204668135|-0.01974200040672...|0.001811553193256259|-0.00970660376579...|-0.06767726406268776| -0.0889039197682793|-0.07619536885712296|-0.00140633137252...|0.020546010434627532|-0.05110456868127728|-0.01595355516579...|0.029842699476379308| 0.02535542434453964|-0.00710995030736...|-0.01370474180206...|-0.05699325325510765|-0.08302627939730883|0.004456953095767958|0.013513404659926892|-0.01573810278891...|  0.0170312695838511|-0.06274455608380401|-0.08739538075751625|-0.05859522535843895| -0.0524882079185918|-0.02903078458826828|-0.04960196420550347|  0.0167021202540721|0.015166806882247329| 0.00337733940037758| 0.05702205600775778|-0.09673010982466697|-0.08267900884896517|-0.00814059115044...|0.031772252979688345|0.002055196381328491| 0.05713223277870566|0.006134335505696403|-0.04726657006517053|0.024289018060359602|-0.03100019066501409|0.015125676318487847|-0.09029009115882218|-0.03843343549551528|-0.04687946429289878|-0.02249969295759251|0.019765237557701768|  0.0855177958977658|0.08719255354255438| 0.02609348100235156|0.008725085997954012|0.07823194454914689| 0.09751829658448696|-0.02638095143087585|-0.02901397967897...|0.029919443775781453|0.055654579136520624| -0.0466858221247731|-0.03245370766287...|-0.06974773596600149|-0.11454104816669133|  0.0516533442457689| 0.06304525840445421|-0.06284846237882599|-0.04707056045811624|-0.06053628521908...|-0.02924909038702026|0.009043501812537786|-0.01461945582553...|-0.02144598938026...|-0.02081163709424436| 0.03261430894635376| 0.04982187513669487|0.015408943434757214|-0.00797795256413...|0.10191360710189643|0.09040589240565897| 0.03938017263202394| 0.07344153461698442|  0.0701586095229196| 0.06630600197985768|0.007901045354489735|-0.01690329327061...|-0.05696741920574478|-0.05199784742854536| 0.03699545046491315|0.037668152292026205| 0.07892562213086787| 0.05477990540140309|0.019743153650020977|0.009535646714270115| 0.04179667415860671|0.029371871933341027|-0.01724697233178...|-0.03737834140192...|-0.05694255722100...|-0.00613394363969...|0.10960930197975707| 0.07851936353743076|-0.05403169931209...|-0.12522869772091508|-0.04705961438655712|-0.11580610794574023|-0.02502976059892...|-7.11000710725784...|-0.04162989111194112|-0.03167772231809795|0.011839772643268933| 0.02475796881504357|0.023331495905972697|-0.03341406119917519|-0.05546434176396091|-0.04452672198507935| 0.03124648896382836|-0.00946412442997098|-0.03135261022305634|-0.07593929306790233|-0.01175996134723...| 0.03609220002777874|-0.07350038326357447|-0.07924090168997645| 0.04202900925594854|-0.01005941306054...|-0.00184311085140...|0.005155014257878...|-0.00888400068919...|0.031064388409256936| 0.05148108907169237| 0.01693281934969127|-0.06672411982044661|-0.07769564083777368|-0.02626059370795...|0.003439586269203...| 0.09047101360545881| 0.08412243380909785|0.010995123951409206|0.020712565414607524| 0.07111495775290648|0.057056517739780245|0.018831676266344778| 0.02752449382841587|-0.03629136049868...|-0.06178690695203841| 0.04106246200432832|0.022219385814853013|0.011130212939703257| 0.06317228542431258|-0.01102123995941...|-0.02347469647228...|-0.04407710445601971|-0.01165200435940642|0.016506667784247656| 0.01188215295225382| 0.05030760790084596|  0.0169362009819597|0.028411072775376963|0.002596108920872...|0.002206874380398...|0.057729062695056205| 0.03238429224706329| 0.04406011904310435| 0.07909364548384758|0.04074839252233505|\n",
      "|  90228|1343781|    1|       6|[0.02658318885780...|[0.04625847889110...|0.026583188857800245| 0.04625847889110446|-0.00400252280915...| 0.02964432198288185|-0.01346800002644...|-0.08632065023162534|-0.12155813928335182|-0.21338432195521556|-0.00690117522484...|  0.0387247970460781| 0.1068289875338753|0.04717164559821997| 0.01721230269836658|-4.67432978829102...|-0.00963351319511...| 0.06391482091774897|0.049759127597964074|0.017023119277187755|-0.01962988461347...|-0.01605024454849...|-0.00969035101236...|-0.07671375126977052|0.001166136676673...| 0.04734458686185202|0.009757574196911024|0.056371778083432994|-0.04535836731524928|-0.02708252654078...|0.004950928538824112|0.008054795059641557|-0.06364110260123311|-0.11938309736017669|-0.00968427201808...| 0.07248061479601477|-0.04768583103219...|-0.06087129583050097|-0.03629513659493533| 0.03060486107798559|9.673413486337643E-4|-0.02765482723979...|-0.00675692862678...|-0.06007601074608308|-0.09200242132837999|-0.11915165698259703|-0.03706685906408691|-0.01916148852823036|-0.07600621894003426|-0.11150681892676012| 0.05020405907157826|-0.00842142441043...|0.014708119869370524|0.028479592126261975|-0.04080762046962596|-0.05799076380208...|-0.03470864177125...|-0.13067175923580568|-0.04414950356832...|-0.08226916889127876|-0.03835270174204002|-0.06209187991251903|-0.07116462815331825|-0.12362395666007484|-0.01975463421628...|0.027372036528374465| 0.01587343815128721| 0.04992592331421162|-0.04435078500301187|-0.07841560762192655|-0.09459431655718403|-0.02767206271112...|0.010781980359319062| 0.09458529454007344|-0.01407087925048...| 0.03598773293612924|0.020059941571453473|0.014048339233600667|0.024431249514554353|-0.00761525941613...| 0.01670918845325183| 0.10061227836247001|-0.06721715375281671| -0.0505005638115108|-0.04539876918423...|-0.06971082590254289| 0.09605681273648996|0.15872555299262914|-0.01292792395602...|-0.02400409201592...|0.12721165147714936| 0.11291534380455101|-0.03274259955386...|-0.00665866209393...|0.008198828241943429| 0.04530181762363229|-0.01758749385469304|-0.02636831112405551|-0.06457339765737953|-0.04794192113747288|0.020587941723809743|-0.00769305977571...|-0.05519307259538043|-0.01580843544382...|-0.04869371601184...|-0.06349863077256096|0.014403691426498947| 0.02170750727444621|-0.10864446003702753|-0.09504978491791656|0.013145153280864725|-0.00519037988436...| 0.03222620944864041|0.012443698975922806|0.14460240972335436|0.08215396106243134| 0.03930499726094288| 0.06457811411071036| 0.08351988130452176| 0.04009460451613579| 0.03969165690517893|0.015439024012136671|-0.05838217037880...|-0.10779705244515622| 0.07070129479176561| 0.19856408408044704|  0.0979895633230352| 0.05714596842881292|0.008942314506967398|0.022564790095202625|0.041253548203771716| 0.04459301303307126|-0.02299681996914...|-0.02709035242774...|-0.04828586599664...| 0.01034949196036905|0.09238353895064219| 0.07789610765342202|-0.06865733517267615|-0.12020863692409225|-0.05151335672352...| -0.1422983163169452|-0.00265232986767...|-0.01989554189744...|-0.03325786278487575|-0.00993837064847217|-0.02082911400315...| 0.04320887891974832| 0.03553261810553618| 0.06060024328637934|-0.02486402275430...| 0.04820435740319746| 0.02212489293929873| 0.10283109632187655|-0.01930335562842...| 0.01649519009515643|-0.03400600408683...|9.345599225655729E-4|-0.07377009657032486|-0.08285708322988024|-0.02417603904878...|-0.00903405389648...|-0.00878019837516...|-0.03764658131902771|-0.02519481474885047|-0.07720938247803133|0.012172778545229836|-0.02440204321672...|-0.04914770474151864|-0.11156410570921642|-0.02444258552715...|-0.12536613110985073| 0.08705502174000218|0.037038975303793055|-0.01449363820668283|0.005291668265791876|  0.0746593325149002| 0.05912400178411709|0.010094779486300644|0.022560710885695046|-0.05260647980796...|0.009715918687496534| 0.03222709381859083|0.043316059829001975|-0.03584928151491319|-0.04204880595872445|-0.03025168190493...|-0.01758019641108...|-0.01153012473497...|0.042706595101792894|0.010145284299506188| 0.06936666781881025| 0.04354859622755445|0.008275210624560714| 0.06849100826269752| 0.08736511650827845|-0.01752316839573...|-0.02596037008333...|  0.0258506040033032| 0.04897897352722273|  0.1001622280262028|0.07209004031028599|\n",
      "|1097471|1418241|    1|       6|[0.01848544198317...|[0.03605543842746...| 0.01848544198317243| 0.03605543842746151| -0.0740981913946948|-0.03542656244503127|-0.00764893897126...| 0.06674745994516544|-0.09968055697072928|-0.04219363432882043|-0.07858660556594646|-0.04210242365176479|0.16375887244373663| 0.1869519328077634| 0.00787282250421607|  0.1449055994550387|-0.06043663237338211|-0.04498062696721818|0.048153009744116654|  0.1417980995029211|-0.00317301798459...|-0.04773747432045...| 0.04458207966165058|-0.08653122501628886| 0.03609576188948281|-0.04450494076849...|-0.05360622172369857|0.022515299581249967| -0.0526317515651384|-0.12138063577003777|-0.01114010659487...|-0.02656417960921923|-0.06688038444038952|-0.04120081851983236|-0.01547981338870...|-0.02994638510669271|-0.00118527810690...|-0.04427306286783682|-0.00268023442784...|-0.07361585934025545|-0.03729521277539209|-6.85731751016444...|-0.00576698595235...| 0.06264656720062096|-0.12721557135887906|-0.04367265687324107|0.017763790461022604|0.007787088553110758|-0.03437093454136965| -0.0801707747288876|0.023516682420841175|0.006815595397104819|-0.03401147295794549|-0.01899898517876...| -0.0626942248301816|-0.09371345428129037|-0.03814098017962219| -0.1493756152469561|-0.02540039382779...|-0.00774084310978...|-0.05478502724256111|0.041420891208367214|-0.04608724300196...|-0.00333852825375...|-0.00273496027852...|-0.02996756369248...|0.017780855607407085| 0.06383207603357732|-0.00456338817075...| 0.06664150303954051|-0.06954413202911695| -0.1082810659168495|-0.01072921779063...| 0.12231290284156178|-0.03730083369925...|-0.05367720147801...|  0.0318897282373932|0.003996133286919858|0.024960685528604885| 0.17044665188425115|0.002172033870460501| 0.08857677845905224|-0.00917068528386...|0.025194573630061414|0.008861612765362589|-0.09480845183134079| 0.07778787452438138|0.14049609853989548| 0.00840742609215128|-0.05525597407379084|0.06172089836069535|0.003481415566056...|-0.03488756571748669|-0.04905263143074181| 0.03578157656992401|0.062231665968687996|-0.02691981630226...|-0.12894248294954497|-0.10420100015992205| -0.0519702778223695| 0.01563209980689267|0.002804780042626791|-0.07730758613163505|-0.07717893937499158|-0.04391909079211...| -0.0702801284690698|0.013781868455925985|0.048098676993201174|-0.03014827225303...|-0.12681648354434097| 0.05097937757822377| 0.08149490890920989|-0.00622375566507...| 0.08116830635117367|0.12461349481231578|0.11651186018975244|-0.00909863178560...|-0.09847886446449491| 0.05853436237476712| 0.07639512300698294|0.024574151989322054| 0.03353598566415409|-0.03740295235055...| -0.1312295521557745| 0.07922610392369334|-0.00374812146441804| 0.06170389835808107|  0.0681577738141641| 0.01702072140504288|-0.00711416178900...|0.037309546412036404|-0.00260946009722...|0.002615322147270...|0.022948513221409585|-0.01505232367459...|-0.11240535726149876|0.08060980190406614|0.024593829746461574|-0.06222958162780832| 0.08480161997593111|-0.05338407128747...| 0.09157888063540061|-0.02596480716249...|0.017724058849530086|-0.06662298959574266|-0.04574741340345...|-0.01832412999451...|-0.04979823058885...| 0.00931042296844424|0.010302003838458201|-0.01160557233025...|-0.13075738560615313| 0.02742867664403552|0.027448880563800532|-0.01822173458463873| 0.04503785693345384|0.008175534276529743|-0.01229826950778...|-0.04251575618531...|0.044622195832845234| 0.03334946946644849| 0.05107066467300885|0.017566993715736758|0.022931606971218974|0.012288851211513492| -0.0680686352101879|0.002692863102417344|0.019825832918286324|-0.02891988560818743|-0.07916380661643213|-0.02184305603740307|-0.12137336757344504| 0.03930018491712804|-0.00961807504710...|2.584449320276981...|0.005996366406583951| 0.05969937112866946| 0.10052073096934085| 0.08065178072389155|0.025013414961803287|-0.02748999154964...|0.009870622798593508|-0.01048619089137...|-0.03480184330449...| 0.07847541468665302|-0.02972371959024...|-0.01675361592956599|  -0.034374415622248|0.004796759186137409|0.032544235388437905| 0.01103895669708201|-0.03465070316774978| 0.03741061540821529| 0.09793046623882319|0.003737253353825...| 0.05190400757257723|-0.01697270806237...|0.025127663361167327|0.003806254380035749|-0.02225245337467...| 0.07490694029764894|0.10189099682288037|\n",
      "| 431424| 742341|    1|       6|[0.06691129614989...|[0.15489870952084...| 0.06691129614989254|  0.1548987095208409|-0.10071102143991068|-0.11737089620124048|-0.01448895009481...|-0.00839140044274525|-0.09895030100871711|-0.11712211360975815|-0.06223002089979923|-0.07811582212766204| 0.1495034690853169|0.10771584732350535| 0.01049987950675169|-0.02237633748982...| -0.0703343249473497|-0.03747583786025...|0.046309665962872164|0.016067423787899316|-0.02286408832368...|-0.02358449340009...|0.024691378988634057| 0.06880754968151451| 0.08212961897692894| 0.09919257344534764|-0.06955388809556633|-0.11897896554750892|0.001315476333224...|-0.06968950970599858|-0.00178754866253...| -0.0521465149636452|-0.08291565825201158|-0.08922539578320889|0.002033306882781...|-0.01007042495318...|0.015421049701373075| 0.02321163905480017|-0.00700123055861...|0.008466329930636746|-0.01816492365486759|-0.05468263030768587|0.013271855981693361|  -0.018471514482875|-0.10442574736216305|-0.08848450845823838| 0.05850550203485868| 0.09443631463755782|-0.02171008314742069| -0.0403018415099583|0.029581744455425232|7.040853683765118E-4|-0.07162544360079615|-0.05308619478645806|-0.07425048186080514|-0.04835074414284184|-0.02712298084118...|-0.00741860392288...|0.022702318888761883| 0.04074736745992246|-0.07643234857406313| -0.1115732348470304|-0.03661585647453...|-0.07761930416767987| 0.01456792031318709|-0.01058939997679...|-0.01150886507858...|-0.02382679722056...|0.022227233456111176|0.012838292138454003|-0.05745065059003851|-0.06155538560034...|-0.03306204860393174|-0.00579564876926...|-0.00534011322253...| 0.00910217350554796|-0.03531908633729702|-0.00657704578211...|0.024117079097888534|-0.02205295045860...|-0.03163742710605431| -0.0769956507290212|-0.03670875038248791|-0.05920903684678846|0.007563390449286084| 0.06745811105043126|   0.075971566728443|0.07739979970053985|0.012995355599258901|-0.00549244326181...|0.05650664909769582| 0.04832603269471572|-0.03017868020367...|-0.00707032983907...| 0.04932296324089812|-0.01168077690526...|-0.01127257337374058|0.033235175298670164|  -0.095516259922447|-0.09362543349942336|0.010451455154624513|  0.0274200683262629|-0.11066427004685259|-0.05553731044324...|-0.05025127742590...|-0.04298014834930655|0.001459351097735...|-0.01308415626677...|-0.03790435043244132|0.005286947369145...| 0.08913901097013041| 0.09476436862292198|0.021569122045687797|-0.02704534309987...|0.12366253370326123|0.10670301361152759| 0.05577005430397105| 0.07655363298880939| 0.09085450535156264| 0.09357335914660675|-0.04626547156258...|0.004652241488488821| -0.0457352391814754|-0.04208402066813925|0.041665641578238884| 0.03651256801990362| 0.05060871478629641| 0.06300385718484625|0.013693160723605914|0.001035187404172...|0.023154874162164087|  0.0379208617628767|-0.01082274766642...| -0.0261325273447885|0.013560732268876104|0.013468652927818207|0.08433769285171334|  0.1198485149213901|-0.10309977636216815|-0.13188991802386368|-0.05356236551348832| -0.1099872006676518|-0.03396830140453245|-0.02621941027016594|-0.09276363737983735|  -0.072567586787045|0.012661220365772413|  0.0413406501022669|-0.04395422818622...|-0.00623786128663...|-0.01556004401982225|-0.02536181702923...|0.005185866959951147|4.155629386122410...|-0.05199919110537729|-0.07737467009932376|0.005019098642164668| 0.08241541694240788|-0.02106610456019...|-0.06605397193947843|0.013717275714541661|-0.01097247367366...|-0.02595411823905...|-0.03988687113966...| 0.04022170136422682| 0.04977772123395251| 0.00725234417540068|-0.03945716348691629|-0.03175025249937...| -0.1035425728509346|-0.00454289400671...|-0.03831281054836...|0.027121408094624228|0.049858738772141246|-0.00726090947565...| 0.02427773184787769| 0.04407198258659706| 0.04511048102464814|   0.097410965931556| 0.12839569346262858|-0.05057765586868388|-0.08611449089949019|-0.02012067567569...|0.014059785092607715| 0.12012249110482484|  0.1565476699302403| 0.01986836926966688|-0.00359598792587...|0.010274619454832181|-0.08209417949860486|-0.01357179130023...|0.021061840323874585| 0.01592263496149429|-0.04185744317678305|-0.00617785468469...| 0.07676521752459499|0.032969323998356635| 0.07840251306322618|-0.00469333042741...| 0.04106882442720235| 0.08821579798239207|0.09464545041510765|\n",
      "| 794130| 268352|    1|       6|[0.07794334373064...|[0.00121404060960...| 0.07794334373064962|0.001214040609608...|-0.05539090532573...|-0.04823395671056...|-0.01155736612254651| 0.06520663432144959|-0.14635236363738116|-0.05148976096617324|-0.02739889119788...|-0.05618101177471024|0.10483067653096301| 0.1861504267901182| 0.05465430295601357|0.014329734910279512|-0.03441808015152457| 0.00398983649377312| 0.09821930917545937|  0.0659788501049791|-0.04465349402925607|-0.07001483344605991| 0.05563980146672237|-0.01532166845032147| 0.06940375606765552|0.016537154712049022|-0.01150871055528253|-0.04207682040120874|-0.06461014082054076|-0.04970941498343...|-0.04322556625824474|-0.04461778613871761|-0.08329945084342069|-0.05689753703773021|2.287050582000294E-4|-0.10701207277764167| -0.0354690123839914|-0.01233469293053661|0.003225953326497927|-0.04412124045193195|-0.00305770664752...|-0.03892586704875742|0.025214274279798908|0.021749720110424926|-0.10771444419326157|-0.07734350206862603|0.044235317900160456|-0.03585498499284...|-0.05098346494033934|-0.05843005475721...| 0.02584381925771534|0.008212681274328913|0.011979953129463145|-0.01696292954230947|-0.07652498482992218|  -0.076235925612439|-0.03118847481129...|-0.00886410155466...|-0.08015198337394285|-0.08589725413226655|-0.06479212673508303|-0.01515713390212373|-0.11624645812577325|-0.00585810265370...|-0.03654581962431856|0.008233276628223913|-0.00860542437673...|-0.00710129721888...|0.012509041437070035|-0.04599358342987086|-0.04921330455128921|-0.08626746140154344| 0.06662298140370944| 0.04481364177273852|-0.06991793310374166|-0.02222692110309...|-0.02668937854827...|0.022937101756022975|-0.06369280174695914|0.007678904104977846| 0.03850888865730673| 0.10128400264573949|-0.01577719844442...|0.047459200490266085| 0.01147213352453345|-0.02562065776437521| 0.12869327490060622|0.05472247247983302| -0.0164761183742759|-0.02462869283211...|0.11918018177396958|0.041437103037190226|-0.05911625049310874|-0.08514819670734661| 0.01385878540712246| 0.01775857407067503|-0.05048222743487102|-0.04262992045176...|-0.07998976543868223|-0.05514341278799...|-0.04122961745424671|-0.05839105332270265|-0.07334558111986997|-0.05919926392712...| -0.0389025586375962|-0.07602712432188646|-0.01703194959500066|0.026443605771886983|-0.09683624064525295|-0.05568137490190565| 0.05007978583068843| 0.07434367554794465|-0.02284509785791179|0.061681830031531194|0.07596772354426844|0.07128706199915281| 0.05992019850479824|-0.02333808722240584| 0.11301177631912687|0.045444423864994726|-0.03098452312586757|-0.03359691979962...| -0.1162097086101479|-0.08758123844745569| 0.10651435023296281| 0.04716805549604552|0.046595654094391585| 0.04219256648793816|-0.02130367038016...|-0.01742270638101867|  0.1344282460366114| 0.01565110233080174|-0.04042237803504126|-0.01704717002409...|-0.02467844350170694|-0.01840647084505...|0.09967330467557137| 0.03311344672526632|-0.02691105739155...|-0.02089215350071...|-0.03450676599801451|-0.04095236154805...|-0.03534493302836751|-0.03236234557947...|-0.06528299365584009|-0.02874259281836982| 0.06636062515678573|-0.06366790942182499|0.018824340189185548| 0.04796792990528047| 0.01710602545662205|-0.00870976160679...|0.026778653188761863| 0.04971787401341966|-0.01905552722188452|0.029182473736416015|-0.04867099537187734|-0.06072947212627...|6.871463585076606E-4|-0.02306624283748...|0.011747864449507893| 0.11707261411439893|-0.06040726238369565| 0.05371205854628767| 0.05395199518306618|-0.01167960119034...|-0.07515004549398314|0.029567331288542064|-0.06291071096663935|-0.06249103378504515|-0.02831048964364...| -0.1096631642963205|-0.00331127060678...|-0.00670857752141...|-0.01483286274631...|0.013404268292444092|0.043922045899078735|-0.01182439498869...|  0.0649566394931955|0.014296237964715276|0.003944583423003871|0.012587683780917099|  0.0482764900988865| 0.06370860005928469|  0.0216132799782232|-0.06598634645342827|9.062501409327587E-4|-0.00907182432378...| 0.01633766420016438|-0.08898801212864263|0.057502215354933474| 0.06141447629779577|0.025512400944328207| 0.09039201933358397|0.027709914276811288|0.032621977079127513|-0.02424719895058434|-0.02213245550935...|-0.02630013054194...|-0.04153281864710152| 0.09566042756806112|0.08013707425977502|\n",
      "| 346809| 588350|    1|       6|[0.00124170863894...|[0.05023472688536...|0.001241708638948704| 0.05023472688536948|-0.06299023254930516|-0.08058000902663201|0.007758052983351414|-0.01872676940491...|-0.04937061580182381|-0.05304634129872564|-0.06416671626174493|-0.08403522479840411|0.16946431872676346| 0.1408029442570226|0.038803103458615186| 0.08399064636502702|-0.08209852262144166| -0.0922374628403654|0.013003201565467462| 0.04358258242651713|-0.00840440421250...|-0.06602035305919485|0.001075562884911389|-0.00497283834892...|-0.01436510740513...| 0.05603971853941823| -0.0306379592761601|-0.08179428739150843|-0.05797271230589...|-0.01382970964634...|0.008148167135395078|0.011479021325962655|-0.08154081457896867|-0.06306463588351527|-0.04176721569719919|-0.01598265700494...|-0.03065991299474...|0.028800508291729227|-0.04320715547884...|-0.01334708513548...| 0.03904451004981001|0.005821650370937558| 0.06516527995811955| 0.05496912583699808|-0.07275780598400397|-0.09716953154286155|-0.05305678517087424| 0.03638382728968281|-0.04924316645735641|-0.01104142215962...|  0.0592096219123341|0.029799174295266524|0.009461725122812115|-0.04650797138926394|-0.04936179525651573|-0.04211259884938...|-0.04748356937238...|-0.03821460754373...|-0.05033634517084748| 0.04998067271215125|-0.08492221920753834|-0.07940467606973611|-0.02714534831560...|-0.08285390788044494| -0.0891708502534052|-0.00396210343191...|-0.02583889120627432|0.006457314450437...|-0.00369381467732...|0.009222084797399405|-0.09529438898363127|-0.04789242287761926|-0.03179471039082803|-0.05203234384960...|-0.06002755661747...|-0.04169607692683...|0.025492357443308793|0.029759796705687992| 0.12389266845684872| 0.06339681702397335|0.005578700199798418|-0.01829416180239...|-0.00592040916768...|-0.01848905148349681|-0.02266143630626366|3.279356751590967E-4| 0.07076137364994263|0.11035199894188107|0.028991025956688107|0.003036389046778...|0.02449972301502175| 0.08814019042676172|-0.03860822485086...|-0.06248636044955...| 0.11119611472478663| 0.04956374490239586|-0.05603230107738...| -0.0431810427577987|-0.12688772029811407|-0.11380643263859944|-0.00202256245661...|0.031835946545470506|-0.10094822670695058|-0.11533945892901662|-0.02833965213047395|-0.05954587729838...|-0.03915943552640...| 0.01006021390695913|-0.01963492824947...|-0.09852725654491223| 0.07006147659159559|0.049095791028986036|0.040410556199902435|0.028047836199850563|0.09346943146863534|0.09683745037853862|-0.00918912552351...| 0.04757617721714689| 0.12809210392596532| 0.11414750244540091|-0.01602372025990...| -0.0354066300429762| -0.0681885589417994|-0.01273220466772...| 0.01420435992531198| 0.09268348944561484|  0.0905790292301007| 0.05397700835601427|  0.0698777650681377|-0.01130005497879...| 0.07238225307288959| 0.03824617217805308| 0.04165705603696802|-0.00579720958082...|-0.11540889317955234|-0.03345658713862157|0.08462282565626436| 0.08576288677375907|0.016773654734713456|-0.04511058496875474|0.009249919657133558|-0.09016349091409491|-0.03624542578702523|-0.01267680546152...|-0.11287427686432566|-0.07017699814773201|-0.01619598011705159|-0.00295334978503...| 0.04786743321970634| 0.01673901249047888|-0.07823877034356312|-0.05350937583268...| 0.06033819834205656|  0.0565564001198464|0.019079376336515044|-0.02890295309603...|-0.08525546990245039|-0.04308758332165151| -0.0365485451830967|-0.04735579358888432|0.025722075006342493|-0.03085472094244...|0.001652489674332...|0.022689356874392476|0.036211015929026466|0.044443073910280455| 0.03987730724018525|-0.02450933872247473|0.030623399717228952|-0.02598861316577...|-0.05159105685610...|-0.02595336527044...| 0.03859275715611604|  0.0773252662889158| -0.0276253282953608|-0.04292562329031241|-0.01641158829664...|0.001400823945564...| 0.07871769542069654| 0.09997562433664615|-0.06130671585808218|-0.04716795699026...|-0.01736002813039...|-0.05726172413471012| 0.06541579833101277| 0.13214269801839973| 0.02955282493161878| 0.04420287210478609|-0.03618765771961657|0.047386419265351906|-0.06692576609074152|-0.06463132526676837| 0.14408064043689717|  0.0534864338047695|-0.00536582481934...| 0.02059441336314194|-0.05252766202663228|-0.04890467214415...|-0.05856392315390879|-0.01887038233633995|  0.1304504932300282|0.09667841882373278|\n",
      "| 431424|1452190|    1|       6|[0.03015024216213...|[0.15489870952084...|0.030150242162133977|  0.1548987095208409|-0.02221772527064...|-0.11737089620124048|0.007354313942358971|-0.00839140044274525|-0.10973968147120142|-0.11712211360975815|-0.03114109094861...|-0.07811582212766204|0.12741158739281735|0.10771584732350535| 0.03365226682602677|-0.02237633748982...|0.005084576878100895|-0.03747583786025...| 0.05062713592158298|0.016067423787899316| 9.81542186727366E-4|-0.02358449340009...|0.002065769983522086| 0.06880754968151451|0.018820434016152632| 0.09919257344534764| 0.02131363807902466|-0.11897896554750892|-0.07653401414797452|-0.06968950970599858|0.002461877397121...| -0.0521465149636452| -0.0766586552788155|-0.08922539578320889|-0.00961879914757...|-0.01007042495318...|-0.03226764026543...| 0.02321163905480017|-0.01425336427524...|0.008466329930636746|0.012529039133466134|-0.05468263030768587|0.006027585821880997|  -0.018471514482875|-0.06891326686978404|-0.08848450845823838|-0.01322036587120...| 0.09443631463755782|-0.04965301333672...| -0.0403018415099583|0.039798615195589734|7.040853683765118E-4|-9.46025005004212...|-0.05308619478645806|-0.05740028752529773|-0.04835074414284184|6.775448766162312E-4|-0.00741860392288...|-0.03329884980817531| 0.04074736745992246|-0.05560917724756682| -0.1115732348470304|-0.06990343111009344|-0.07761930416767987|-0.00754823266113...|-0.01058939997679...|0.006759738679727261|-0.02382679722056...|0.004115054846167191|0.012838292138454003|-0.09817095825459159|-0.06155538560034...| 0.01517442311314001|-0.00579564876926...|-0.01133079618043029| 0.00910217350554796|-0.01334704391505...|-0.00657704578211...|0.022699715661527394|-0.02205295045860...|0.015347927134480015| -0.0769956507290212|-0.04137129942163...|-0.05920903684678846|-0.02766589181079...| 0.06745811105043126| 0.09700800927522371|0.07739979970053985|-0.01038022688632...|-0.00549244326181...|0.09649630240234332| 0.04832603269471572| -0.0603610384603982|-0.00707032983907...|0.024810563374934137|-0.01168077690526...|-0.00869217188602339|0.033235175298670164|-0.08389468233110278|-0.09362543349942336|0.019132376187698568|  0.0274200683262629|-0.06840019815522595|-0.05553731044324...|-0.05546684394553025|-0.04298014834930655|0.017189260335771738|-0.01308415626677...| -0.0572162279195623|0.005286947369145...|0.026630998595885764| 0.09476436862292198|0.016730476249244206|-0.02704534309987...|0.13247958373634428|0.10670301361152759|0.042803830876108076| 0.07655363298880939|  0.0828677377468867| 0.09357335914660675| 0.03929539455044059|0.004652241488488821| -0.0632095642434581|-0.04208402066813925|  0.0600299703666032| 0.03651256801990362| 0.09009555249373107| 0.06300385718484625|0.010547553379478112|0.001035187404172...|0.015011123287685018|  0.0379208617628767|-0.02697850378684...| -0.0261325273447885|-0.04433716288478824|0.013468652927818207| 0.1113924704789636|  0.1198485149213901|-0.05486458150442...|-0.13188991802386368|-0.04993631421077952| -0.1099872006676518|-0.03415409824953787|-0.02621941027016594|-0.05028119808701...|  -0.072567586787045|-0.00195032998046...|  0.0413406501022669| 0.03174154585440225|-0.00623786128663...|-0.01827036611367...|-0.02536181702923...| 0.02972694686508057|4.155629386122410...|-0.03374386458509...|-0.07737467009932376|-0.02072675936807...| 0.08241541694240788|-0.06031900004993097|-0.06605397193947843|0.021495946233711156|-0.01097247367366...|-6.46928799707278...|-0.03988687113966...|0.002101726489421124| 0.04977772123395251|0.031269111745141014|-0.03945716348691629|-0.07316766329260804| -0.1035425728509346|-0.03345057937258613|-0.03831281054836...| 0.08000981566904207|0.049858738772141246|-0.00672327939632...| 0.02427773184787769|0.052276280724868236| 0.04511048102464814|0.038337254015211694| 0.12839569346262858|-0.05222974157188...|-0.08611449089949019| 0.02039882950166695|0.014059785092607715|-0.01053038826477...|  0.1565476699302403|-0.00793960352921...|-0.00359598792587...|-0.02236383967194...|-0.08209417949860486| 0.01898860708568919|0.021061840323874585|  0.0265737378987124|-0.04185744317678305|0.040537187242652754| 0.07676521752459499|0.002412608730883997| 0.07840251306322618|0.025068336259019195| 0.04106882442720235| 0.10868481612825498|0.09464545041510765|\n",
      "| 674313| 943315|    1|       6|[0.02191119514872...|[0.00595230846242...| 0.02191119514872965|0.005952308462424712|-0.00284968406915...| 0.09168404577807947| 0.03736091944289189|  0.1775689818473025|-0.10445578637648305|-0.08272428205236793|-0.04539015388924942|-6.09862702814015...|0.11692301947755976| 0.1077261005544146| 0.03655521970133071| 0.06686649137091907|-0.00120935987520...|0.023018190637230873| 0.04427653132292352|  0.0926792196590792|-0.01147763237173...| 0.02609257171438499|0.009277701313477155| 0.04036656221036207|0.005957340537350824|-0.04274776984344...|0.019980186466963184|  0.1714401494034312|-0.08447840899161378| -0.1668024928393689|0.017439869342203627| 0.07556460952301594|-0.10912982007827324|-0.12739229989661413|0.002984205154570...|0.027521416343833236|-0.01636888986571...|-0.11912764795124531|-0.00249597410369...|-0.01030984778084...|0.004957568043400041| 0.06096288138492541|-0.00510668030166...|-0.03780801788988439|-0.07282286360599025| -0.0181001252071424|-0.00540255255302...|-0.11107653466222639|-0.02695808648658...|-0.10720508513887497| 0.02169027174278626|-0.04249895872040228| 0.03684228804748623| 0.07124659075105394|-0.05376986237252218|-0.00318632892925...|-0.01294143986745...|0.028044177049940285|-0.04734959379755728| -0.1638453252486546|-0.03208979725619...|0.008852167309007862|-0.08431585800475151| -0.1934824331917546|-0.02226412226488...|-0.03507741019976...|0.024657003073021766|0.030151621311564337| 0.03636434563268835| 0.06451311340259219|-0.10150015645391545|-0.15890797363086182|-0.02305009662292...|-0.07551774636588314|-0.00386525746957...|-0.01887656957842...| 0.03989843184189967| 0.09320994870821861|0.025292138704219987|    0.20486450440843|0.022482592618694567|  0.0886069149710238|-0.03026673622705...|0.019746631817807527|0.006663567379647316|0.052887405988506296| 0.09784231176033097|0.16036514611914754|0.008001700466231424| 0.04890059023587541| 0.0917479115441637| 0.02725246527486227|-0.05890961355144...|-0.06365185599266128|0.019349859795104857|  0.0877397796139121|-0.03886395923473608|-0.07968085125850684|-0.06234993286366...|0.031193514746105808| 0.04695979755915624| 0.04951930013273589| -0.1111034166184121|-0.12158953165635467| -0.0668920044537346|  -0.082893247123469|-0.00176728388452...|-0.01900904162638736|-0.05913417165652961|-0.03497245085732588|0.025903138069176792|-0.07054927011697808| 0.02967504162970522| 0.09063685617663644|0.12206021715853267|0.14650718927044762| 0.03048040462294552|0.020711612002659505| 0.06791884031833807| 0.06001137440431525|0.013205872919168513| 0.03618578593754633| -0.0448639874520115|-0.09463456374677745|0.051204049104106995|0.002076707462864...|   0.099158841944153| 0.07826041500084102|0.007434264819657063|-0.00266900226812...|9.565408200447768E-4|0.025933633865365253|-0.02700902498881...|-0.04547153887423602|-0.05972318084379...|-0.12737413749776103|0.11239430045546149| 0.17370613836894996|-0.04655777619371045|0.040853985331275246|-0.04736861573924952|-0.04091153920374133|-0.05602928024889152|0.033914925562302495|-0.07384752918321945| -0.1600856449963017|-0.00159697573649...| 0.02148476920344613|  0.0216297317202651| 0.04622750873254104|-0.05019928540306542|-0.11282037825069645| 0.04638871184299454| 0.06723896735241976|-0.05291024517702121|0.039342381367036564|-0.02683367433491...|-0.04890179645735...|-0.06776028259653236|-0.11073508418419145|0.018949683065386105| 0.10286457823928107|-0.01170798275486...|  0.1112278261306611|0.039379453887672146|0.007809892762452364| 0.05845032117198535|  0.1619294936430048|-0.08798976096774033| -0.1261575391346758|-0.02114435130487565|-0.04904999095015228| 0.07626383829660137| 0.16517680484420535|-0.01191917635789...| 0.05297562189992856| 0.04794561725564843|-0.01251047170213...|0.027817229358193234|-0.01515080532143...|-0.03203465603694406| 0.05021653525446627| 0.03197086980915278| 0.03942403780423444|0.030333609475617255|-0.10362939919683743|-0.02066113935833095|-0.02507740784097...|-0.03639676299875638|0.011039618487385187|0.045265969659535873| 0.07639707473506199| 0.02384344854896071| 0.07130663223903287|0.019959949340399016|-0.03627219825813716|0.010036510397483168|-0.00879965478088...| 0.03042586139785908|5.132062678140672E-4| 0.09290873623747571|0.08843284455890006|\n",
      "| 282680|1045481|    1|       6|[0.02239039353560...|[-0.0773326169699...|0.022390393535600635|-0.07733261696994305|-0.01298737532764...| 0.12804871399421244|0.012049064897614911|  0.0804127998650074|-0.08438717209769128|-0.03353997375816107|-0.05406365896222105| 0.12306696008890868| 0.1537628746892404|0.16488167345523835| 0.03932927165922416| 0.21472193859517574|0.007672415859125483|  0.0983787551522255| 0.04708900581168497| 0.19332446791231633|-0.03518853502516297|-0.03262840919196606|-0.00596145898657...|-0.03119187485426...|0.009609277137458462| -0.0455079497769475|0.002452573474148486| 0.31368139544501905|-0.11489642108468112|-0.09697242425754667|-0.01133205579811...|-0.02097751684486...|-0.09505003157397322| -0.1311404649168253|-0.01353568332756...|0.014705064892768861|-0.05561974217854...|-0.04493097169324756|-0.01727518997905...| 0.03289582282304764| 0.00903932664361326|0.052797074615955356|0.013069386728413623|-0.05154429879039...|-0.08737412326969825|-0.05048011061735...| -0.0323868161468565|-0.04794091545045376|-0.07359264883494673|-0.18122147321701051|0.030699941417298794|-0.04559683427214...|-0.01503849393676...| 0.14984217640012504|-0.05934232910446672|-0.14518552646040916|-0.01124744151252...|-0.08339580930769444|-0.01781812086598...|-0.10423760563135148|-0.05947917213933...|-0.03206489160656929|-0.06444758659566084|-0.21818256340920927|-0.01381715920586...|-0.02756768446415663|-0.00362962267922...| 0.11641135271638632|-0.00641119684379...|0.001457827538251877|-0.11977478376091552|-0.20836827717721462|-0.00837936895070156|-0.02613653168082...|-0.02106762827066...|-0.02110837586224079|0.002662904156656...| 0.07754345466382802|0.042131066335366944|-0.05590336942113936|0.042023515449413996| 0.21132492050528529|-0.03602434356901247|-0.12518537864089013|-0.02349838583849...|0.004688040912151337| 0.08604709680277034| 0.0654192560352385|0.009451534537294356|-0.10044337837025524|0.10230976354508228| 0.09131025364622475|-0.05510579733114977|-0.15964239379391076|0.018659045577524683|  0.0946948166936636|-0.03354666330322413|-0.13988156318664552|-0.07262316507246105| -0.1509700369089842| 0.00890204899876389| 0.10789627879858017|-0.05764660610244101|-0.09424690413288772|-0.07776106524048262|-0.19054260179400445|-0.02644770621503755|-0.10838354406878353|-0.05513886755026994|-0.08667061757296324|0.037399394660448275|0.011118161119520666|0.018981722787302036| 0.15221352502703667| 0.1269388482457218|0.11562254279851913|0.033259461802786494| 0.05029131826013327| 0.07561153316416645|-0.02648641938576475| 0.03525355032254331|-0.03923562378622...|-0.06584302035258316|-0.10672800643369557| 0.07291582601562481| 0.18205709457397462| 0.09370521823562887|-0.04200039366260...| 0.04285293938359882| 0.19764806185849013|0.027999259275887974| 0.17179115312173965|-0.03290177846297...|-0.03504977228585631|-0.04834833161190711|-0.10237752869725228|0.09945825884792665| 0.09741328544914724|-0.03409829580166098|-0.03448447212576866|-0.03066369066935...|-0.13018538914620878|-0.01828967181464...|-0.09831995679996908|-0.03062136298959348|  0.0741236936300993|0.004154567822184909|0.006277940049767495| 0.03560226532238621| 0.09594341255724431| -0.0428556613665803| -0.1415013186633587|0.030452561589711984| 0.17286766692996025|-0.00104243744219...| 0.10320820063352586|-0.03097277128067...|-0.08094576708972455|-0.05665068299251715| 0.03572692051529885| 0.07024572736022462|   0.223071810323745|0.001168348853617...| 0.08038702979683876|-0.02485751978386508|0.008550091151846573| 0.04792737672896472|  0.1614712566137314|-0.08608750241595112|-0.19169075447134676| -0.0584568052034047|-0.17709685591980817| 0.10674930541338161| 0.07096805330365896|-0.01045779994128...|-0.03291112408041954| 0.06603795348746894|-0.05490070935338736| 0.03597451985027511|0.040169274900108576|-0.04629033721174326| 0.03346977327018976|0.006643426309932222|0.024156683683395387|-0.02215202773060338|-0.21041890904307367|0.001396709193685...|0.013491614907979966|-0.01974287748461...| 0.01557889971882105|0.008187541258844142| 0.03596288880653447|0.037123185772172704| 0.06932263001799584| 0.03270236800035571| 0.10161935053765775|-0.00776145988201...| -0.0794147226959467|-0.00860744053881...|-0.01153988260775...| 0.13077535363655754|0.13244509994983675|\n",
      "|  90228| 623502|    1|       6|[0.01683377976370...|[0.04625847889110...| 0.01683377976370777| 0.04625847889110446|0.012862043809796764| 0.02964432198288185|-0.03840546882629966|-0.08632065023162534| -0.1642284153167013|-0.21338432195521556|0.006262091251718...|  0.0387247970460781| 0.0583460472933212|0.04717164559821997|-0.01697569798644...|-4.67432978829102...| 0.04112440918814277| 0.06391482091774897|0.039873604095147466|0.017023119277187755|-0.01741709500002...|-0.01605024454849...|-0.02968462669618...|-0.07671375126977052|-0.00290168825261...| 0.04734458686185202| 0.02728206985439018|0.056371778083432994|-0.03534572255938...|-0.02708252654078...|0.003825362880203284|0.008054795059641557|-0.08827210778064776|-0.11938309736017669|0.055994055617110954| 0.07248061479601477|-0.06481198185105103|-0.06087129583050097| 0.03306434473722018| 0.03060486107798559|-0.02002959080411...|-0.02765482723979...|-0.03215679370566047|-0.06007601074608308| -0.1420523679428457|-0.11915165698259703|-0.00446392791904...|-0.01916148852823036|-0.10133363792892491|-0.11150681892676012|0.019212287297970573|-0.00842142441043...|-0.00503253807737...|0.028479592126261975|-0.03642452887675...|-0.05799076380208...|-0.06476088431005657|-0.13067175923580568|-0.08054098283058517|-0.08226916889127876|-0.05149188119216...|-0.06209187991251903|-0.09537060189062282|-0.12362395666007484|  0.0313940763851772|0.027372036528374465|0.002399917625776831| 0.04992592331421162|-0.07552214116430424|-0.07841560762192655|-0.08690456516660698|-0.02767206271112...| 0.06541200756677602| 0.09458529454007344|-0.00725679798834...| 0.03598773293612924|0.018512751093706807|0.014048339233600667|0.007581017572803587|-0.00761525941613...| 0.05369587456538571| 0.10061227836247001|-0.08479225106953464| -0.0505005638115108|-0.08624772204646676|-0.06971082590254289| 0.14462723236143205|0.15872555299262914|-0.02607690236514567|-0.02400409201592...|0.11348555981192884| 0.11291534380455101|-0.02289292538460...|-0.00665866209393...|0.014004431213436246| 0.04530181762363229|-8.10307987819150...|-0.02636831112405551|-0.05109650698763964|-0.04794192113747288|  0.0375961797601348|-0.00769305977571...|-0.01005490798421...|-0.01580843544382...|-0.04304917773677621|-0.06349863077256096| 0.04862453119652728| 0.02170750727444621|-0.11226739338245298|-0.09504978491791656| 0.03640670604942972|-0.00519037988436...|0.022923916675423563|0.012443698975922806|0.12489234408403331|0.08215396106243134| 0.03983636025734257| 0.06457811411071036|0.042512862001794126| 0.04009460451613579| 0.06588359335529417|0.015439024012136671|-0.06178469864345837|-0.10779705244515622| 0.16328506812341453| 0.19856408408044704| 0.11181895716358571| 0.05714596842881292|  0.0185361869649917|0.022564790095202625| 0.04819318977753224| 0.04459301303307126|0.010204857180586283|-0.02709035242774...|-0.05168368504754208| 0.01034949196036905|0.08733754253898121| 0.07789610765342202|-0.09886665804234494|-0.12020863692409225|-0.11089131876183701| -0.1422983163169452|-0.01893183909972994|-0.01989554189744...|-0.00562058286841...|-0.00993837064847217|0.012638666667751852| 0.04320887891974832| 0.07747304841387634| 0.06060024328637934|-0.00668323948826...| 0.04820435740319746|0.059446339065911055| 0.10283109632187655|-0.02277143093995...| 0.01649519009515643|-0.00863887712867728|9.345599225655729E-4|-0.09620956188714624|-0.08285708322988024|-0.02645787703130595|-0.00903405389648...|-0.01166964384711...|-0.03764658131902771|-0.09280820912758923|-0.07720938247803133|-0.00253622690576...|-0.02440204321672...|-0.09648113444042009|-0.11156410570921642|-0.06330530893388076|-0.12536613110985073| 0.06466926541807495|0.037038975303793055|-0.01122352097283958|0.005291668265791876| 0.08755322094807842| 0.05912400178411709|0.035626613557633115|0.022560710885695046|-0.01143426084214...|0.009715918687496534| 0.05904879273565791|0.043316059829001975|-0.06671244730871442|-0.04204880595872445|-0.02108301621657...|-0.01758019641108...|-0.00683958099137...|0.042706595101792894| 0.04893175061894042| 0.06936666781881025| 0.03139225525553635|0.008275210624560714|  0.1046669118435088| 0.08736511650827845|-0.00327340266147...|-0.02596037008333...| 0.04306193917732219| 0.04897897352722273| 0.07784711790117535|0.07209004031028599|\n",
      "| 674313| 324034|    1|       6|[-0.0404823114420...|[0.00595230846242...|-0.04048231144209933|0.005952308462424712|-0.06268930936534182| 0.09168404577807947|0.013384516135369735|  0.1775689818473025|-0.10176638641501597|-0.08272428205236793|-0.05956896310123...|-6.09862702814015...|0.14781386986217115| 0.1077261005544146|9.133769613191867E-4| 0.06686649137091907| 0.04115896370214011|0.023018190637230873| 0.04595675303111679|  0.0926792196590792|0.025157785470272778| 0.02609257171438499|  0.0611621761330981| 0.04036656221036207|0.006630777174185933|-0.04274776984344...| 0.07413732175881972|  0.1714401494034312|-0.06617836172550068| -0.1668024928393689|-0.01443469104821...| 0.07556460952301594|-0.03849286592490...|-0.12739229989661413|-0.01677286577192...|0.027521416343833236|-0.01673484124697...|-0.11912764795124531|-0.02173176506307503|-0.01030984778084...|0.028868573168872064| 0.06096288138492541|-0.02507815755508...|-0.03780801788988439|-0.03830320799750...| -0.0181001252071424|-0.06146117759854...|-0.11107653466222639|-0.03848402884207044|-0.10720508513887497|0.041554292850374555|-0.04249895872040228|0.026589778518690137| 0.07124659075105394|0.017259080294559154|-0.00318632892925...|-0.02080751663119471|0.028044177049940285|-0.06098773183242...| -0.1638453252486546| -0.1128675739223217|0.008852167309007862|-0.08428847165939606| -0.1934824331917546|-0.03549944255142984|-0.03507741019976...|-0.00616024624295...|0.030151621311564337|-0.00780399953331...| 0.06451311340259219|-0.08139277316928886|-0.15890797363086182|-0.01094095034273...|-0.07551774636588314|0.005464975544793...|-0.01887656957842...|-0.00373805664875...| 0.09320994870821861|0.027738511001652737|    0.20486450440843|-0.04162254676684408|  0.0886069149710238|-0.05696043463385...|0.019746631817807527|-0.05362760865708943|0.052887405988506296| 0.06901767591517294|0.16036514611914754|0.037628125992527996| 0.04890059023587541|0.09428798162783715| 0.02725246527486227|-0.05368416364475307|-0.06365185599266128|  0.0198274649714214|  0.0877397796139121|  -0.038451996609311|-0.07968085125850684|-0.07836911991941663|0.031193514746105808|-0.01379333584549...| 0.04951930013273589|-0.09193191840304175|-0.12158953165635467|-0.03322147257729...|  -0.082893247123469|-0.01711685641480...|-0.01900904162638736|-0.05845211984950904|-0.03497245085732588|-0.01086080066727...|-0.07054927011697808|0.005856705455137366| 0.09063685617663644|0.11243520426798044|0.14650718927044762| 0.05087791471622876|0.020711612002659505| 0.05523063188437701| 0.06001137440431525|0.010754832467246145| 0.03618578593754633|  -0.085456812353719|-0.09463456374677745| 0.04456796303585983|0.002076707462864...| 0.11468009233792321| 0.07826041500084102|-0.00993285590959...|-0.00266900226812...|-0.02907875437613...|0.025933633865365253|-0.01289564090521...|-0.04547153887423602|-0.04401975877343...|-0.12737413749776103|0.12696648927700424| 0.17370613836894996|-0.02726688767314...|0.040853985331275246|-0.06454285691238361|-0.04091153920374133|0.013275932702797935|0.033914925562302495|-0.03977574733845507| -0.1600856449963017|0.024364107566003892| 0.02148476920344613|-0.00122585915423...| 0.04622750873254104|-0.03944077893811098|-0.11282037825069645|-0.00702368885089...| 0.06723896735241976|-0.06482120362505239|0.039342381367036564|-0.06586935678048118|-0.04890179645735...|-0.08151901176957245|-0.11073508418419145| 0.01137448457294521| 0.10286457823928107|-0.02532307212069...|  0.1112278261306611|-0.01878433053703...|0.007809892762452364|0.052105447984645274|  0.1619294936430048|-0.09258221177657122| -0.1261575391346758|-0.04167026125104...|-0.04904999095015228| 0.05419491538123991| 0.16517680484420535|-0.06046983149136894| 0.05297562189992856|-0.00553729931439...|-0.01251047170213...| 0.04834588392642119|-0.01515080532143...|-0.05231175067070413| 0.05021653525446627|-0.00279268773490...| 0.03942403780423444|-0.01635390566806...|-0.10362939919683743|-0.02570370695047387|-0.02507740784097...| 0.01030803220264897|0.011039618487385187| 0.04076500078503693| 0.07639707473506199|0.018374810284794374| 0.07130663223903287| 0.05919857572226358|-0.03627219825813716|-0.02277051832289...|-0.00879965478088...|0.028199520102286796|5.132062678140672E-4| 0.10124434745858353|0.08843284455890006|\n",
      "|  90228|1385904|    1|       6|[0.05658462179483...|[0.04625847889110...| 0.05658462179483261| 0.04625847889110446|-0.02070701520626...| 0.02964432198288185|-0.03687755133840...|-0.08632065023162534| -0.1624832635389989|-0.21338432195521556|-0.00648175551257...|  0.0387247970460781| 0.0763275727902713|0.04717164559821997|-7.98549571082056...|-4.67432978829102...| 0.01582516986575267| 0.06391482091774897| 0.05161405648309639|0.017023119277187755|-0.01072620425988...|-0.01605024454849...|-0.01769506584123...|-0.07671375126977052| 0.00876331162374003| 0.04734458686185202|-0.01006345486533744|0.056371778083432994|-0.03570636362283044|-0.02708252654078...|-0.00800953436379...|0.008054795059641557| -0.0627083634696384|-0.11938309736017669| 0.03252599164834754| 0.07248061479601477|-0.06044421115709341|-0.06087129583050097|  0.0185414241483454| 0.03060486107798559|-0.04594546322292...|-0.02765482723979...|-0.01767901286252059|-0.06007601074608308|-0.11111409170610673|-0.11915165698259703|-0.01363077011987356|-0.01916148852823036|-0.08511792687407607|-0.11150681892676012|0.025207397207904464|-0.00842142441043...|-0.02167672658414218|0.028479592126261975|-0.04089694410826494|-0.05799076380208...|-0.02516823221916049|-0.13067175923580568|-0.05295474240745...|-0.08226916889127876|-0.06876093110512584|-0.06209187991251903|-0.09173589773868729|-0.12362395666007484| 0.04150053500998447|0.027372036528374465|-0.00932997311094...| 0.04992592331421162| -0.0353542177351034|-0.07841560762192655| -0.0725569139721987|-0.02767206271112...| 0.04390082554047113| 0.09458529454007344|-0.01850338125270...| 0.03598773293612924|0.013480798733787358|0.014048339233600667|-0.00386897668923...|-0.00761525941613...| 5.73313998628814E-4| 0.10061227836247001|-0.08926607758742992| -0.0505005638115108|-0.05804181221224941|-0.06971082590254289| 0.11709406088043772|0.15872555299262914|0.006641652662821812|-0.02400409201592...|0.12504861034792653| 0.11291534380455101|-0.01859936364956...|-0.00665866209393...|  0.0191207275583961| 0.04530181762363229|-0.01393001031974...|-0.02636831112405551|-0.06424619971743586|-0.04794192113747288|0.036151107296056646|-0.00769305977571...|  -0.054121922228034|-0.01580843544382...|-0.03255192753732...|-0.06349863077256096| 0.04821560416026553| 0.02170750727444621|-0.08889769040355182|-0.09504978491791656| 0.03816721064903068|-0.00519037988436...|0.015150640585401238|0.012443698975922806|0.11767945645561037|0.08215396106243134|  0.0674054306063736| 0.06457811411071036|0.050628482822247176| 0.04009460451613579|0.049523571477656424|0.015439024012136671|-0.07837119285190972|-0.10779705244515622| 0.14141159540039672| 0.19856408408044704| 0.09609428914062856| 0.05714596842881292|-0.01191791171144...|0.022564790095202625| 0.05242374855625616| 0.04459301303307126|8.633050932122452E-4|-0.02709035242774...|-0.02278618920146036| 0.01034949196036905|0.10737472847592391| 0.07789610765342202|-0.11205072448317033|-0.12020863692409225|-0.10156626750174635| -0.1422983163169452|-0.00918104025587...|-0.01989554189744...|-0.04411191689955...|-0.00993837064847217|-0.00568751568772...| 0.04320887891974832| 0.04940891274895546| 0.06060024328637934|0.006344770168457546| 0.04820435740319746| 0.04674955478829432| 0.10283109632187655|-0.05551394434652...| 0.01649519009515643|-0.02173092904870812|9.345599225655729E-4|-0.09013995615602503|-0.08285708322988024|-0.01839420746351...|-0.00903405389648...|-0.05745807808255564|-0.03764658131902771|-0.04586336819371...|-0.07720938247803133|-0.00501099509874568|-0.02440204321672...| -0.0754730293489148|-0.11156410570921642|-0.04130778088286...|-0.12536613110985073| 0.05273803633750818|0.037038975303793055|-0.02085632329091755|0.005291668265791876| 0.06980535764715488| 0.05912400178411709| 0.05351157387522291|0.022560710885695046|-0.05724831972642756|0.009715918687496534|0.049432154214076714|0.043316059829001975|-0.01834774079804...|-0.04204880595872445| -0.0389329771632151|-0.01758019641108...|-0.00125267786162...|0.042706595101792894| 0.05518412278707452| 0.06936666781881025| 0.02245914453134268|0.008275210624560714| 0.06421323227029274| 0.08736511650827845|0.039606320025547107|-0.02596037008333...|  0.0548390568892151| 0.04897897352722273| 0.07471016706205742|0.07209004031028599|\n",
      "| 212175|1120166|    1|       6|[0.00715008289761...|[0.06290548449382...|0.007150082897614744| 0.06290548449382186|-0.04725770709452812|-0.04606146656908095|-0.01316657722315355| -0.0104370350651443|-0.08810001532198453|-0.09619316435977816|  -0.107611508919868|-0.09482549507031217|0.11072102533167323|0.13888046047929675|6.344910733353468E-4|0.015197304469533265|-0.03399894142769596|-0.04726484902203083| 0.04088888613390662|0.037688490822911265| -0.0208164200037984|-0.01203370790579...| 0.07136583905665528| 0.08375907558412292| 0.02874068215220274|  0.0737636827081442|-0.02684530041006...|-0.00882150481641...|-0.05947483896902...|-0.04519347817357...|-0.01539039658962...| -0.0676138148359023|-0.09569440453126994|-0.10036909926123917|-0.03544983277791388|-0.02048624998237...|-0.00388885061603...|-0.01418596660904...|0.023882010456398862|0.017802686204668135|-0.02033661018940...|0.001811553193256259|-0.06659701687688357|-0.06767726406268776|-0.10476035840309011|-0.07619536885712296|-0.01986694765409...|0.020546010434627532|-0.05968338827923...|-0.01595355516579...|0.024640974836822798| 0.02535542434453964|-0.03899803301681108|-0.01370474180206...|-0.07213810954611155|-0.08302627939730883|0.004394428254686537|0.013513404659926892|-0.00913155112917...|  0.0170312695838511|-0.08421472764643496|-0.08739538075751625|-0.03260373817540584| -0.0524882079185918|0.003556384150160056|-0.04960196420550347| 0.03890658526804772|0.015166806882247329|-0.01561833604550...| 0.05702205600775778|-0.06869024322833017|-0.08267900884896517| 0.02780586432497517|0.031772252979688345|0.018515161821152742| 0.05713223277870566|0.031064147686253065|-0.04726657006517053|-0.00418291146300...|-0.03100019066501409|-0.06943561486103296|-0.09029009115882218|-0.07621828428986076|-0.04687946429289878|-0.01980214367837249|0.019765237557701768|0.049174702243999245|0.08719255354255438| 0.00561266275584209|0.008725085997954012|0.09616881387015215| 0.09751829658448696|-0.02581980796468...|-0.02901397967897...|0.021614649562339914|0.055654579136520624|0.011518514647915597|-0.03245370766287...|-0.10770341840280671|-0.11454104816669133| 0.06280063232825428| 0.06304525840445421|-0.02030370531307...|-0.04707056045811624|-0.03042908577779...|-0.02924909038702026|0.025805816803354878|-0.01461945582553...|-0.04588859814423398|-0.02081163709424436|0.029343536901073414| 0.04982187513669487|0.013170450357395037|-0.00797795256413...|0.10659574084280514|0.09040589240565897| 0.04286068561398615| 0.07344153461698442| 0.06039917127522141| 0.06630600197985768| 0.04356897113941782|-0.01690329327061...|-0.03736223928604...|-0.05199784742854536| 0.06678782929826961|0.037668152292026205|  0.0739985437580932| 0.05477990540140309|-1.79697010302122...|0.009535646714270115|-0.00803549360314...|0.029371871933341027|-0.02045508946907...|-0.03737834140192...|-0.02228603496723272|-0.00613394363969...|0.08261674512830396| 0.07851936353743076|-0.12863172113666677|-0.12522869772091508| -0.1283031558796062|-0.11580610794574023|-0.02265184280262084|-7.11000710725784...|-0.03568379991986332|-0.03167772231809795|-0.03037022959360391| 0.02475796881504357| 0.01767919898975691|-0.03341406119917519|-0.05832660772303996|-0.04452672198507935|-6.68658191389446...|-0.00946412442997098|-0.07701573296151036|-0.07593929306790233|0.041507769241729574| 0.03609220002777874|-0.09353430758987669|-0.07924090168997645| 0.02209489397123933|-0.01005941306054...|0.020040958986552088|0.005155014257878...|0.013505690445236689|0.031064388409256936|0.007543066684912717| 0.01693281934969127|-0.04628280022813...|-0.07769564083777368|0.001774775349136...|0.003439586269203...| 0.08661317657807799| 0.08412243380909785|0.015584742777194335|0.020712565414607524| 0.06533778451406003|0.057056517739780245|0.001206498161926...| 0.02752449382841587|-0.08488900606458567|-0.06178690695203841|0.024858199376802295|0.022219385814853013|0.012952649219465253| 0.06317228542431258|-0.00731823323020...|-0.02347469647228...|-0.05119310637866...|-0.01165200435940642|0.021957998805052534| 0.01188215295225382| 0.05373733867814367|  0.0169362009819597| 0.06180080722760861|0.002596108920872...|0.057941976168599425|0.057729062695056205|0.053298336168999864| 0.04406011904310435|0.036876552489380536|0.04074839252233505|\n",
      "| 325894| 441935|    1|       6|[-0.0428720604990...|[0.00326859093173...| -0.0428720604990459|0.003268590931730892|-0.05046438773556...|-0.08655410834646146|0.023815670702743683|-0.05337439731851763|-0.06471358503030826|-0.06212972463726948|-0.04403146569066392|-0.13642708244609153|0.11159982474167744| 0.1491164300410776|0.017801585191343224| 0.07135408072496104|0.012479940519537776|-0.03188395905667...|0.026167628551747205| 0.06596208843760101|-0.01906502817253...|0.027631360920041093|0.026114569328794468|-0.00116344890332...|-0.03359367060775...|0.059012979852658826|0.025158802680369286|-0.03922108707476949|-0.08343388713963747| 0.01957984867392423| 0.02447773744641993|-0.01509229207182...|-0.08475193549692119|-0.03959287685419513|-0.02182903031644...|-0.05976211107874...|-0.03365130595499036|-0.00985250946373...| 0.02718280226917966|0.021957420683289722|-0.01241445302820...|-0.03102139240263...|0.002435743082998467|-0.03452750252150773|-0.08496343126295422|-0.05088920085016001|-0.04221080580262568|-0.03807339938070752|  -0.032987253645064|0.013990483908445605|  0.0677095470039435| 0.03631036982644289|0.024037843885767695|-0.08468675990388605|-0.02360141873247...|-0.03432432615933304|0.006646318070780192| 0.02906875708900414|-0.05104449580317394| 0.04110227575531169|-0.05129294727639...| -0.1356010236573552|-0.07866458993125057|-0.08924135143562215|-0.02825199465110...|0.005770508639683024|0.013968910392324818|-0.00185994318657...|2.638380827605717...|-0.03630603290334322|-0.15420979972378446|-0.06459369855720097|0.010047947129915772|-0.02970876468474029|-0.01265455965282...|  0.0679293076279062|0.027734174312837145|-0.06105781987016...|0.039731580019889315|-0.01697325616095...|-0.01686738113070...|-0.10611722474532252|0.001336788817937...|-0.05236106048946...|-0.03122057267018...|-0.00477727672284...| 0.08800070966422195|0.06468715739211217|4.392334336806615E-5| 0.03385401111171624|0.09644082293083911| 0.13705990246071506|-0.06821367523427267|-0.04510798181499733|0.021298391792758695|-0.03120093090454...|-0.05040171661655767|-0.06678564145260156|-0.05649165136573...| -0.0931742083183172| 0.03941293016304392|0.019965360497897603|-0.05979981664402725|-0.19405652140267193|-0.01940233183312...|-0.02753896937078...|0.003221271661697429|-0.01726045692235...|-0.09413725942697874|-0.10850171262788026|0.003048322816586048|0.025912795475145557|0.015158428911646798|0.023689443761799264|0.11567836320870115|0.08548530387396452|0.005520259266504637| 0.09158751337553406|0.055702491016025556| 0.08526063997413168| 0.04954784933172014|8.320298307721755E-4|-0.02192121998865...|0.004166614283594781| 0.04765324364742618|0.028295877012296355| 0.10730292614025579| 0.06168566988981453|-0.01853682592957777| -0.0505772620461638|-0.00693434581071...|-0.00594150801054...|-0.00151363334540...|-0.02766086642342...|  -0.058018893672109|0.038227407850714774|0.13805089391801004| 0.08322910649247864|-0.04227216546285773|-0.11859925508565472|-0.04602333814978...| -0.0993339834591092|-0.06510170663101437|-0.00917515543583...|-0.05403628682699877|-0.02903865617547925| 0.01443594030994051|-0.03635903676702863|0.011372748047445003|-0.06735348997092516|-0.02549982271590...|0.001128751712364...| 0.07877315369007075|-0.00448891226041...|-0.04871245745852...|-0.07080260033785568|-0.04853446135008493|-0.07412293464814532|-0.06428794726250969|-0.05389442762915454| 0.04637416809759121|-0.00418474042728...| 0.04026195162769746|-0.03871577721830452|-0.01521979315662...|-0.01864760674367...| 0.06349747057245154|-0.00332857670714...|-0.07016641994384314|-0.04854039254711281|-0.00423633288640...|0.013011123667932627| 0.08719054202295498|-0.00835058208415423|-0.05949990562064544|-0.09043928455611144|0.051359915332723924|-0.00670620316234...|0.047846791712790576| 0.09122905869827812|-0.06616641151325492|-0.11876297860873296|-0.00280849990169787| -0.0711176675127388|-0.00982145102835...| 0.07259882289055426| -0.0196236988890125|0.011523893666253301|-0.03914168554143347|0.042831589110632284|0.026590741243129375|  0.0189276105595251| 0.05271798521465214|0.009021609513785481|2.437155577706085...|-0.03158238416334...|0.004093623895744...| 0.05707220938438425| 0.04324424040770725| 0.06852427647652112|  0.1215922658398308|0.06591171978180961|\n",
      "| 844651| 932112|    1|       6|[4.94074239171011...|[-0.0590305465527...|4.940742391710117E-4|-0.05903054655275...|-0.01522149928213...| 0.09084536304528064|0.025754001110206756|  0.0355156660926613| -0.0748860572826606|-0.12436709578403018|-0.03395551406428323|-0.01976458304985...| 0.1309796077481134|0.09354213032532822|-0.02172405987153...| 0.10397559268908067| 0.03371996080291758| 0.09405483783815395|0.031706686917431524|   0.158423953096975|-0.01547747141637...|-0.02810055347667499|-0.02725477592303...|-0.08605576941574163|-0.02145216166524...| -0.1025631097568707|-0.00716986144555...| 0.18120175193656576|-0.04690273380189...|-0.14203949744643812|-0.01962158326958575| -0.1488246427086944|-0.07955340017971342|-0.03988091122697...|-0.02644069143452...|-0.04791502298956...|-0.05416409223986281|-0.06607285048812628|-0.05422225127472...|-0.11349872457371517| 0.06049672545069303| 0.18380346115339888|0.028373632946196634| 0.10566362162882632|-0.06246391577142272|0.001257732510566...|-0.05028162928999088|-0.00871663625267419|-0.08664398876518933|-0.05784517272629521| 0.06823399451250668|-0.09004063734954054|-0.04837478418476512|0.049981663172895256|-0.04385849957418355|0.016649353233250706|-0.01682182433430...|-0.05849298563870517|-0.01246368459806...|-0.17179157902401956|-0.06483933958149642| 0.04678061900035986|-0.05000649842404814| -0.1424986379729076|-0.01694555150840253|-0.05668029087510...|0.022970926243089697| 0.07015137746930122|-0.07038929460267843|-0.11392201686447317|-0.14715366987677642|  -0.147167007163675|-0.02523000859918...| 0.07518077607859265|-0.06964905472603874|-0.06913406867004762| -0.0303350466390035| 0.13100359392013738| 0.04390477285717255|-0.05535583943128586|-0.02101816589624409| 0.16133838400922038|-0.02993207443461347|-0.16972719437696718|-0.07546477727723387|-0.09030654349110344| 0.11070835146632775|0.10731710332699798|0.001550786446819...|-0.11752813470295885|0.09658515651279531| 0.10224418934773315|  -0.059281030789634|-0.12696416254832663|0.037615956219692145|0.036731492220000786|-0.03455500741402432| -0.1702180491252379|-0.07594472102421125| -0.0838650648736141|-0.00513309701752847|   0.129964121024717|-0.09787080823077217| -0.1783770779994401|-0.07484022992453677|-0.05678543253717098| 0.01424926519281229|-0.04593542694452812|-0.10598158178590636|-0.10062080325389451|0.002837588275405601|-0.08186222411776808|0.014430439091120326|0.055128027642653746|0.10532497703837933| 0.0602355509234423|-0.01473308182437921|-0.01597269489006...| 0.08875711066778653|  0.1066943642323498|0.029075226949432428| 0.12959285952489485| -0.0822187035388017|-0.10242588983171366|0.028864056788335837|  0.0638679453087124| 0.10775271142454053| 0.06306201791052114|-0.00192334687872...| 0.09262891370665537| 0.02902981041520868| 0.07542838494886052|-0.04062652242984...|-0.11670300059697845|-0.05003942582845426|-0.13918223807757552|0.05659282170019731| 0.05727920732037588|-0.04707498439739318| 0.03793284550986507|-0.00707617640649...|-0.01330641843378...|-0.01169143777490...|  -0.075673850083893|-0.04311903747986623|0.013447073711590334|-0.01263479768548...|0.010364920990964905|0.017134187025920723| 0.10151672634211453|-0.04286491137841155|-0.03432552177797...|-0.02465475560413458|0.011057398366657171|0.002663603643032152|-0.01820505867627534|-0.02892525421267309|-0.19703860784118826|-0.05006647797600168|-0.13066401366483082|-0.03559876976874744|-0.06440898090262305|0.021838468247571952| 0.08108266400681301|-0.03001692693555...|0.019936911423097958| 0.05426889116982871| 0.09907736409116875|-0.01960310383750...|-0.14557765373452144|-0.00451591202461...|-0.06944404999640855| 0.06839748558241475| 0.07220088682052764|-0.04826052666010...|0.012490662661465732| 0.05070201526110061| 0.03188651935620741| 0.05880918834725828| 0.13743927363644948|-0.02494491088330...| 0.09242261781103232|0.011067879403512402|-0.01058686198666...|-0.04334271959778211|0.004522414708679373|-0.03886019498032106|-0.04743584888902578|-0.00439270844684...|-0.10495212911204858|-0.01606995143133...| -0.0807851511053741|0.021907432741666007|-0.01633478548716415|  0.0515758496865315|   0.118757943876765|-0.04734755597690...|-0.09796810251745311|-0.03196119832277...|0.034733487462455574| 0.10651742063401985|0.12633600187572566|\n",
      "| 212175|1200039|    1|       6|[0.04119869977655...|[0.06290548449382...| 0.04119869977655073| 0.06290548449382186| 0.01436790421742313|-0.04606146656908095|0.021743636802948073| -0.0104370350651443|-0.08736363861693032|-0.09619316435977816|-0.06971964910593317|-0.09482549507031217|0.12338085175831283|0.13888046047929675| 0.01834670515594537|0.015197304469533265|-0.01110380417618...|-0.04726484902203083| 0.03948407886972648|0.037688490822911265|-0.01144146386715691|-0.01203370790579...|0.040608522962304154| 0.08375907558412292|0.009520799027042153|  0.0737636827081442|0.003361360256770512|-0.00882150481641...|-0.11926660583370084|-0.04519347817357...|-0.02398491703828...| -0.0676138148359023|-0.06711480838094439|-0.10036909926123917|-0.04003351383367563|-0.02048624998237...|-0.02835239700884838|-0.01418596660904...|0.018708538885757638|0.017802686204668135|-0.03051271196325522|0.001811553193256259|-0.01526265354484...|-0.06767726406268776|-0.12176465744085962|-0.07619536885712296|0.005040891872330067|0.020546010434627532|-0.05135474575781505|-0.01595355516579...| 0.03161626887750068| 0.02535542434453964| 0.03296072170197371|-0.01370474180206...|-0.05416662928764805|-0.08302627939730883| 0.00530708634574111|0.013513404659926892|-0.01252910528022...|  0.0170312695838511|-0.05152192519475126|-0.08739538075751625| -0.0681457342398575| -0.0524882079185918|-0.02103298958585...|-0.04960196420550347| 0.02693980151959836|0.015166806882247329|-0.00764704171451862| 0.05702205600775778|-0.11603376161323416|-0.08267900884896517|-0.00834295370069...|0.031772252979688345|-0.00825211675892...| 0.05713223277870566|0.013879678308716307|-0.04726657006517053|-6.86685010629837...|-0.03100019066501409|9.194260126166334E-4|-0.09029009115882218|-0.03644208955389649|-0.04687946429289878|-0.01023107358923...|0.019765237557701768| 0.11553285981715167|0.08719255354255438|0.015962478233716222|0.008725085997954012|0.06648928946312656| 0.09751829658448696|-0.03493862887268...|-0.02901397967897...|0.014861673089534745|0.055654579136520624|-0.02816463371100...|-0.03245370766287...| -0.0756926848794055|-0.11454104816669133| 0.05991469333342314| 0.06304525840445421|-0.05643189148610474|-0.04707056045811624|-0.04326238229398...|-0.02924909038702026| 0.01256226062616595|-0.01461945582553...| -0.0326933220344373|-0.02081163709424436| 0.03692635392550877| 0.04982187513669487| 0.01214215309065923|-0.00797795256413...|0.12807419864740016|0.09040589240565897| 0.02603579746759857| 0.07344153461698442| 0.05687121632930212| 0.06630600197985768| 0.03004276908813524|-0.01690329327061...|-0.05002005335198...|-0.05199784742854536|0.029407139105868042|0.037668152292026205| 0.08337844468828728| 0.05477990540140309| 0.05135569443408715|0.009535646714270115| 0.05120571095746208|0.029371871933341027|-0.01902782680976522|-0.03737834140192...|-0.07133874595301319|-0.00613394363969...|0.10119952681795119| 0.07851936353743076| -0.0635089991559351|-0.12522869772091508|-0.06224371942066...|-0.11580610794574023| -0.0377428828409213|-7.11000710725784...|-0.02239110403542...|-0.03167772231809795|0.021371067079968144| 0.02475796881504357|0.036886543543991665|-0.03341406119917519|-0.07633512333650125|-0.04452672198507935|0.029554312162094653|-0.00946412442997098|-0.04988813574633...|-0.07593929306790233|0.003795649905348549| 0.03609220002777874|-0.08306678395975572|-0.07924090168997645|0.045991576350462214|-0.01005941306054...|0.020414238628215564|0.005155014257878...|-0.01091832775178...|0.031064388409256936| 0.03360108073623068| 0.01693281934969127|-0.07542350489622889|-0.07769564083777368|-0.02458478385196...|0.003439586269203...|  0.1001552763311807| 0.08412243380909785|-0.00191382998146...|0.020712565414607524|  0.0724493548791286|0.057056517739780245|0.029063663864348506| 0.02752449382841587|-0.02377614716418...|-0.06178690695203841|0.051158081456934665|0.022219385814853013|-0.00410770875048...| 0.06317228542431258|-0.03336072657758781|-0.02347469647228...|-0.06479395171136303|-0.01165200435940642|0.022824597600566873| 0.01188215295225382| 0.06416022593239559|  0.0169362009819597| 0.07311445495669065|0.002596108920872...|0.003370323997074...|0.057729062695056205| 0.06147665079921284| 0.04406011904310435| 0.07497866248975475|0.04074839252233505|\n",
      "| 324018| 950932|    1|       6|[-0.0091540881021...|[0.04939597493202...|-0.00915408810216...|0.049395974932021684|-0.04629499622106635|-0.14721815116825948|0.031049389811122787|-0.03030754097753429|-0.09033279642417853|-0.07021010652072085|-0.02581021577388...|-0.05613641681271035| 0.1684321500525087|0.12770462674409921| 0.01071659299159346|-0.02811712106601...| 0.03758021507762606|-0.06339167310567251| 0.04921339580777489| 0.03988507529621561|-0.00962766693266...| -0.0625920903491627|-0.02879839748604...|0.029669420747086405|-0.00481134003121...| 0.03527042911596725|0.009606050119477664|-0.05554141627528287| -0.0205623411152711|0.002259867261003...|-0.00728672149307883|-0.01985742281700...|-0.06871520039632807|-0.06610149348050291|-0.01337070829498...|-0.03363612263868884|-0.02473729921735...| 0.00882492200822714|-0.01227310198119...| 0.04623993854479993|  0.0200236681977658|-0.03340775970899468| 0.02733496546479325|-0.00144766006128...| -0.0827115228839671|-0.11262123276768574|-0.04271660717008332|0.010684333642912578|-0.03352599702648676|-0.05578739254089...|  0.0662976814199213| 0.07905648753863903|-0.03123117089437034|-0.06896126416596135|-0.04059033553924974|-0.08644746514137609|-0.01118088435453...|-0.06674176104936813|-0.03832658257438...|-0.02722509474561...|-0.05449957543937807|-0.07409251416272661|-0.04901420999245363|-0.04328624334202373|-0.01768746746246...|0.035950611622458134|0.015691359959123494|0.036840909060315584|-0.02298652833497...|-0.01626602581116082| -0.0926350946034014|-0.04845696291805...|0.003217730932171...|0.048518453555679394|-0.04575014371336528|-0.06057133143707499|-0.00384061464281...|-0.03537305533677211|0.042585832819016144|-0.00787807748359...|0.020796104075028746|-0.01726904717466...|-0.02249205361540...|-8.09361192734976...|-0.06202951065222...|-0.02059732546050...| 0.08922154888527531|0.07979144778118694|-0.00762457218092...|-0.03002898805726...| 0.1037842616302767| 0.10684712601500435|-0.09652737563585015|-0.07916170011870644|0.031345587910510314|  0.0257844559141788|-3.10962770626318...| 0.03367416680886326|-0.10047746132963406|-0.10764784479577993|-0.01949579832273...|-0.02439551209741882|-0.08042099094363318|-0.07309022727884062|-0.05829357235487021|-0.02047774279650686|0.017293985162757142|-0.01761763497960256|-0.08235421556957784|-0.08979134447230347|0.026759103946434333|0.013450754745732912|0.007148523180892785|-0.02574958951776478|0.14056122563846946|0.13962196284013897|6.382553242677986...|4.359570520544617E-4| 0.09620238138877474| 0.04136415019888302| 0.03950124495830257|-0.02513017463899...|-0.04981507897232578|-0.05624464193122172|  0.0538017276197143| 0.10057493738733746| 0.11574632117865591|  0.0737701787659497|-0.00909652041597...|-0.01955036845475692|0.006674102790125858| 0.00540468247902403|-0.01927027239773...|0.004297765360288081|-0.06889238597181385|0.003294076203621...|0.08741422613225856| 0.05648339129101228|-0.03721635246434608|-0.08356903726676607|-0.03870875479689713|-0.05213079837086643|-0.02052768666892...|-0.01335908003022...|-0.03557397632371...|-0.03807889570156915|-4.10716006349184...|-0.01195754375637...|0.034896208148361266|-1.96087318633137...|-0.00149275738824...|0.052063378979901556|0.008561143530597016|-0.00230925448102...|-0.01157930646301...|-0.02182906576922035|-0.02479627119670...| 0.05095431743759726|-0.06554124772610445|-0.03068786503005...|0.014983817552472292|0.033378272665090504| 0.01855113721066246|0.017855261551900686|-0.02057070564843...|-0.01515922935013...|  0.0459153331081029|-0.03993700047400941|-0.03695181088584367|-0.01624187672679...|-0.02261493791201...|-0.01243927589299...| 0.05236919934393175| 0.01313712984516189| -0.0336121447020282|-0.03432018631137908| 0.04833586875531873| 0.04709839495220061| 0.07067685177226289| 0.13977026046125282|-0.03476077019637...|-0.03649727561398698|-0.00496768156876...|-0.02895226066185...|-0.02439415866103...|0.024137372062432404|-0.01359063437971...|-0.03284502614787298|0.003612253653913...| 0.09172428613608896|-0.01511850623754...|0.004241584487869565|0.054408867629840894|0.011120429104655691| 0.04711083682158556| 0.01030727523330856|-0.02583580677996...|-0.00642723584876...|-0.00423974100002...|-0.05593716954001...| 0.11994206241452249|0.09625443992975714|\n",
      "|  28024|1422576|    1|       6|[0.03397333374779...|[-0.0159825073893...|0.033973333747795376|-0.01598250738937...|-0.03361823184438...| 0.03424874557690187|0.045793113143269726| 0.13202293166382748|-0.09830181553469244|-0.07387255232738839|-0.02151827791905...| 0.06798241204920817| 0.1488627991378482| 0.1373556000603871|0.038363313650487174|0.046037153764204544| 0.01927058616709355| 0.10468356141989882| 0.08980215993605786|  0.1924907419718445| 0.02613227420077615|-0.01908316318242049|-0.04197340248827621|-0.14176745475693184|-0.03514261417140...| -0.0943939728577706| 0.04144713397171801|  0.0812392747876319|-0.04409294330476841| -0.1398698850111528|-0.01360430401313...|-0.01048880002715371|-0.05525187441598...|-0.07889503943310543|-0.00792141542644...|-0.00339289602230...|-0.02934352588224...|-0.09074739459902048|-0.03778944147709194|-0.05490492919290608|0.015288159562528323|  0.1109853451648219|  0.0507175598421375| 0.12625269998203625|-0.09543115342040037|-0.09828246367925948|-0.03777132947113609|-0.05733100934462114|-0.02429414672788...|-0.04278740866787054|-0.00403766035373...| 0.02904584123329683| 0.04578731789659337| 0.12641975126991217|-0.01862664855039...|0.042702251452613964|-0.00238706716660...|-0.01036804698576...|-0.04272359407093082|-0.09158491417342289|-0.04405101762804707| 0.03919754786528012|-0.09574997779318502|-0.07901625726795332| 0.02910491953451245|-0.02328506145964...|-0.01731595572832...|  -0.105247795550068|-0.04366828032856998|-0.10235864042558454|-0.11828013835490205|-0.20027785799042747|-0.06119851110178...|-0.08192660092291507|-0.05986946410273011|-0.07419346723790196|-0.01906652430635...|-0.01181481230411...|-0.01927440775370...|-0.01051723482933...|-0.00790489528383...|  0.0817461606877094|-0.07219528770945138|-0.09482883776284078|-0.04613615202780...|-0.09745219282128595| 0.13009898588380134|0.21805388531224296|-0.00494925264565...|-0.03463147775354711|0.11248016302281247| 0.10283706381663003|-0.11337009930702499| -0.1383086346428503|-0.00424995529720...|0.002698055299168...|-0.00149180020335...|0.002525940156457099|-0.12107049308563908|-0.09357536237009548|-0.03054514207726...|-0.04877924574115737|-0.10814939752316578|-0.06104670960286802|-0.04940505477846...|-0.01999951992183...|0.008721716629737714|-0.02457128465175...|-0.11926046285748011|-0.16417667049575937| 0.09110040628799757| 0.13961257824716583|-6.83840684579844E-4|-0.01622040430083871|0.16345508153369867| 0.2734127667817203| 0.03768247736454251|-0.03154172873209146| 0.08104354940210183| 0.12632301906970414| 0.08879754793563527| 0.09902718951078979|-0.07076001346462829|-0.08450499528341673| 0.09205598853316127|  0.0739817251874642| 0.10898357745289533| 0.12125780094753613|0.027788864428341397| 0.09882394241338427| 0.01179218179343267|-0.02499106958169...|-0.00544712058591...|-0.06338736317543821|-0.06035656311168987| -0.1897201282395558|0.11046519985444551| 0.09344391101463274|-0.07462622127650073|-0.01098375183276...|-0.04045360101545371|0.004640814107419415|-0.03036936934149...| -0.0490881271914325|-0.00671534223453...|0.032317317175594246|0.001606075155418...|-0.01396595068614...|0.002964713607557...| 0.07619089988822288|-0.00868894243588...|-0.00513462578369...|0.013767348982405718|0.006699466485191476|-0.06824624751167589|-0.01100584026426...|-0.03102368233513246|-0.06690090132707899|-0.07855472776622466|-0.10849967010488565|-0.00694954077823...|-0.01048620307648...|-0.02199011737119...| 0.08711546468971805|  -0.044260341694259|-0.05911769277670167| 0.03959355651770419|  0.0951118144968694|-0.09621158652419631| -0.1085296335037459|-0.03259290513677...|-0.06473671856590293| 0.06679940118095389| 0.11868666855364361|-0.04195495948225884| -0.0847675606015731|  0.0598413369115051| 0.10449824350970713|0.054054142935232426|0.059177397580986675|-0.06720510382433897|-0.01590892096812075|0.008877968359457407|0.014149845344945788|-0.01028287604914...|-0.09779470502822236|-0.03093870519799...|-0.02914694925262...|-0.00176677613007...|-0.05447606264020909| 0.04454882149674319|-0.02997505053115...| 0.02026397328308162|  0.1016111227429726|0.061840984888991986|  0.1764850623016669|-0.03728575758938204|-0.12134309527887539|0.005723547985984...|0.011598726692186161| 0.13014839580789728| 0.2682091339745305|\n",
      "+-------+-------+-----+--------+--------------------+--------------------+--------------------+--------------------+--------------------+--------------------+--------------------+--------------------+--------------------+--------------------+--------------------+--------------------+-------------------+-------------------+--------------------+--------------------+--------------------+--------------------+--------------------+--------------------+--------------------+--------------------+--------------------+--------------------+--------------------+--------------------+--------------------+--------------------+--------------------+--------------------+--------------------+--------------------+--------------------+--------------------+--------------------+--------------------+--------------------+--------------------+--------------------+--------------------+--------------------+--------------------+--------------------+--------------------+--------------------+--------------------+--------------------+--------------------+--------------------+--------------------+--------------------+--------------------+--------------------+--------------------+--------------------+--------------------+--------------------+--------------------+--------------------+--------------------+--------------------+--------------------+--------------------+--------------------+--------------------+--------------------+--------------------+--------------------+--------------------+--------------------+--------------------+--------------------+--------------------+--------------------+--------------------+--------------------+--------------------+--------------------+--------------------+--------------------+--------------------+--------------------+--------------------+--------------------+--------------------+--------------------+--------------------+-------------------+--------------------+--------------------+-------------------+--------------------+--------------------+--------------------+--------------------+--------------------+--------------------+--------------------+--------------------+--------------------+--------------------+--------------------+--------------------+--------------------+--------------------+--------------------+--------------------+--------------------+--------------------+--------------------+--------------------+--------------------+--------------------+--------------------+-------------------+-------------------+--------------------+--------------------+--------------------+--------------------+--------------------+--------------------+--------------------+--------------------+--------------------+--------------------+--------------------+--------------------+--------------------+--------------------+--------------------+--------------------+--------------------+--------------------+--------------------+--------------------+-------------------+--------------------+--------------------+--------------------+--------------------+--------------------+--------------------+--------------------+--------------------+--------------------+--------------------+--------------------+--------------------+--------------------+--------------------+--------------------+--------------------+--------------------+--------------------+--------------------+--------------------+--------------------+--------------------+--------------------+--------------------+--------------------+--------------------+--------------------+--------------------+--------------------+--------------------+--------------------+--------------------+--------------------+--------------------+--------------------+--------------------+--------------------+--------------------+--------------------+--------------------+--------------------+--------------------+--------------------+--------------------+--------------------+--------------------+--------------------+--------------------+--------------------+--------------------+--------------------+--------------------+--------------------+--------------------+--------------------+--------------------+--------------------+--------------------+--------------------+--------------------+--------------------+--------------------+--------------------+--------------------+-------------------+\n",
      "only showing top 20 rows"
     ]
    }
   ],
   "source": [
    "df_1.show()"
   ]
  },
  {
   "cell_type": "code",
   "execution_count": 48,
   "id": "395e4625-d130-41e8-b850-07f9fa405f28",
   "metadata": {
    "execution": {
     "iopub.execute_input": "2025-05-17T20:56:11.177801Z",
     "iopub.status.busy": "2025-05-17T20:56:11.177532Z",
     "iopub.status.idle": "2025-05-17T20:57:10.738181Z",
     "shell.execute_reply": "2025-05-17T20:57:10.737488Z",
     "shell.execute_reply.started": "2025-05-17T20:56:11.177745Z"
    },
    "tags": []
   },
   "outputs": [
    {
     "data": {
      "application/vnd.jupyter.widget-view+json": {
       "model_id": "a57e66bb60a64318882852347c008fcc",
       "version_major": 2,
       "version_minor": 0
      },
      "text/plain": [
       "VBox()"
      ]
     },
     "metadata": {},
     "output_type": "display_data"
    },
    {
     "data": {
      "application/vnd.jupyter.widget-view+json": {
       "model_id": "",
       "version_major": 2,
       "version_minor": 0
      },
      "text/plain": [
       "FloatProgress(value=0.0, bar_style='info', description='Progress:', layout=Layout(height='25px', width='50%'),…"
      ]
     },
     "metadata": {},
     "output_type": "display_data"
    }
   ],
   "source": [
    "df_1.write.mode(\"overwrite\").parquet(\"s3://aws-emr-studio-201107706822-us-east-1/1746053900403/e-6HYCE3WANA8IROUS7NBVDSOU4/processed/training_data_6/\")"
   ]
  },
  {
   "cell_type": "code",
   "execution_count": null,
   "id": "49dac85d-4e9b-43f5-b346-12f6430b8e6a",
   "metadata": {
    "execution": {
     "iopub.execute_input": "2025-05-17T20:58:21.350134Z",
     "iopub.status.busy": "2025-05-17T20:58:21.349904Z"
    },
    "tags": []
   },
   "outputs": [
    {
     "data": {
      "application/vnd.jupyter.widget-view+json": {
       "model_id": "1f2b1121d7d44707a9089edf7b331f8a",
       "version_major": 2,
       "version_minor": 0
      },
      "text/plain": [
       "VBox()"
      ]
     },
     "metadata": {},
     "output_type": "display_data"
    },
    {
     "data": {
      "application/vnd.jupyter.widget-view+json": {
       "model_id": "297022ba27ac44b0b83c5c33006bd4aa",
       "version_major": 2,
       "version_minor": 0
      },
      "text/plain": [
       "FloatProgress(value=0.0, bar_style='info', description='Progress:', layout=Layout(height='25px', width='50%'),…"
      ]
     },
     "metadata": {},
     "output_type": "display_data"
    }
   ],
   "source": [
    "df_1.filter(F.col(\"label\") == 0).show()"
   ]
  }
 ],
 "metadata": {
  "kernelspec": {
   "display_name": "PySpark",
   "language": "",
   "name": "pysparkkernel"
  },
  "language_info": {
   "codemirror_mode": {
    "name": "python",
    "version": 3
   },
   "file_extension": ".py",
   "mimetype": "text/x-python",
   "name": "pyspark",
   "pygments_lexer": "python3"
  }
 },
 "nbformat": 4,
 "nbformat_minor": 5
}
